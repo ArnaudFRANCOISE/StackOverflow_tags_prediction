{
  "nbformat": 4,
  "nbformat_minor": 0,
  "metadata": {
    "colab": {
      "name": "StackOverflow_body_analysis.ipynb",
      "provenance": [],
      "collapsed_sections": []
    },
    "kernelspec": {
      "name": "python3",
      "display_name": "Python 3"
    },
    "language_info": {
      "name": "python"
    }
  },
  "cells": [
    {
      "cell_type": "code",
      "metadata": {
        "colab": {
          "base_uri": "https://localhost:8080/",
          "height": 424
        },
        "id": "LrLf5yJcvgws",
        "outputId": "b909f3a9-a91e-45f1-87b5-ad4b375e9b83"
      },
      "source": [
        "#Author: Arnaud FRANCOISE\n",
        "import pandas as pd\n",
        "path_to_drive = \"/content/drive/MyDrive/Etudes/IA/IA_avancee/\"\n",
        "csv_name = \"QueryResults (1).csv\"\n",
        "data = pd.read_csv(path_to_drive + csv_name)\n",
        "pd.read_csv(path_to_drive + csv_name)"
      ],
      "execution_count": null,
      "outputs": [
        {
          "output_type": "execute_result",
          "data": {
            "text/html": [
              "<div>\n",
              "<style scoped>\n",
              "    .dataframe tbody tr th:only-of-type {\n",
              "        vertical-align: middle;\n",
              "    }\n",
              "\n",
              "    .dataframe tbody tr th {\n",
              "        vertical-align: top;\n",
              "    }\n",
              "\n",
              "    .dataframe thead th {\n",
              "        text-align: right;\n",
              "    }\n",
              "</style>\n",
              "<table border=\"1\" class=\"dataframe\">\n",
              "  <thead>\n",
              "    <tr style=\"text-align: right;\">\n",
              "      <th></th>\n",
              "      <th>Body</th>\n",
              "      <th>Title</th>\n",
              "      <th>Tags</th>\n",
              "    </tr>\n",
              "  </thead>\n",
              "  <tbody>\n",
              "    <tr>\n",
              "      <th>0</th>\n",
              "      <td>&lt;p&gt;using a for loop, and a temp (lesser) Strin...</td>\n",
              "      <td>NaN</td>\n",
              "      <td>NaN</td>\n",
              "    </tr>\n",
              "    <tr>\n",
              "      <th>1</th>\n",
              "      <td>&lt;p&gt;@Mc.Lover Tested getThumbnailFrom() functio...</td>\n",
              "      <td>NaN</td>\n",
              "      <td>NaN</td>\n",
              "    </tr>\n",
              "    <tr>\n",
              "      <th>2</th>\n",
              "      <td>&lt;p&gt;Im trying to call a method from an another ...</td>\n",
              "      <td>Says a function is undefined within an object</td>\n",
              "      <td>&lt;javascript&gt;&lt;object&gt;&lt;methods&gt;</td>\n",
              "    </tr>\n",
              "    <tr>\n",
              "      <th>3</th>\n",
              "      <td>&lt;p&gt;I've recently implemented a content securit...</td>\n",
              "      <td>Content Security Policy - Can I explicitly blo...</td>\n",
              "      <td>&lt;content-security-policy&gt;</td>\n",
              "    </tr>\n",
              "    <tr>\n",
              "      <th>4</th>\n",
              "      <td>&lt;p&gt;1.Paste Following code in your themes &lt;code...</td>\n",
              "      <td>NaN</td>\n",
              "      <td>NaN</td>\n",
              "    </tr>\n",
              "    <tr>\n",
              "      <th>...</th>\n",
              "      <td>...</td>\n",
              "      <td>...</td>\n",
              "      <td>...</td>\n",
              "    </tr>\n",
              "    <tr>\n",
              "      <th>9995</th>\n",
              "      <td>&lt;p&gt;Maybe you're not getting an exact match bec...</td>\n",
              "      <td>NaN</td>\n",
              "      <td>NaN</td>\n",
              "    </tr>\n",
              "    <tr>\n",
              "      <th>9996</th>\n",
              "      <td>&lt;p&gt;AFAIK, Linq to SQL is MSSQL server provider...</td>\n",
              "      <td>NaN</td>\n",
              "      <td>NaN</td>\n",
              "    </tr>\n",
              "    <tr>\n",
              "      <th>9997</th>\n",
              "      <td>&lt;p&gt;How can I use XPath to select an XML-node b...</td>\n",
              "      <td>How do I select an XML-node based on its content?</td>\n",
              "      <td>&lt;xml&gt;&lt;xpath&gt;</td>\n",
              "    </tr>\n",
              "    <tr>\n",
              "      <th>9998</th>\n",
              "      <td>&lt;p&gt;The XPath for this is: &lt;/p&gt;\\n\\n&lt;pre&gt;&lt;code&gt;/...</td>\n",
              "      <td>NaN</td>\n",
              "      <td>NaN</td>\n",
              "    </tr>\n",
              "    <tr>\n",
              "      <th>9999</th>\n",
              "      <td>&lt;p&gt;When the HTML is parsed, what JQuery sees i...</td>\n",
              "      <td>NaN</td>\n",
              "      <td>NaN</td>\n",
              "    </tr>\n",
              "  </tbody>\n",
              "</table>\n",
              "<p>10000 rows × 3 columns</p>\n",
              "</div>"
            ],
            "text/plain": [
              "                                                   Body  ...                           Tags\n",
              "0     <p>using a for loop, and a temp (lesser) Strin...  ...                            NaN\n",
              "1     <p>@Mc.Lover Tested getThumbnailFrom() functio...  ...                            NaN\n",
              "2     <p>Im trying to call a method from an another ...  ...  <javascript><object><methods>\n",
              "3     <p>I've recently implemented a content securit...  ...      <content-security-policy>\n",
              "4     <p>1.Paste Following code in your themes <code...  ...                            NaN\n",
              "...                                                 ...  ...                            ...\n",
              "9995  <p>Maybe you're not getting an exact match bec...  ...                            NaN\n",
              "9996  <p>AFAIK, Linq to SQL is MSSQL server provider...  ...                            NaN\n",
              "9997  <p>How can I use XPath to select an XML-node b...  ...                   <xml><xpath>\n",
              "9998  <p>The XPath for this is: </p>\\n\\n<pre><code>/...  ...                            NaN\n",
              "9999  <p>When the HTML is parsed, what JQuery sees i...  ...                            NaN\n",
              "\n",
              "[10000 rows x 3 columns]"
            ]
          },
          "metadata": {},
          "execution_count": 1
        }
      ]
    },
    {
      "cell_type": "code",
      "metadata": {
        "id": "KkULzvuawLi5",
        "colab": {
          "base_uri": "https://localhost:8080/"
        },
        "outputId": "0d6e65c8-2c08-47cb-b7af-d60e94e45733"
      },
      "source": [
        "print(data['Body'].iloc[2])"
      ],
      "execution_count": null,
      "outputs": [
        {
          "output_type": "stream",
          "name": "stdout",
          "text": [
            "<p>Im trying to call a method from an another method, and the error i get is this:</p>\n",
            "\n",
            "<blockquote>\n",
            "  <p>TypeError: this.displayCur is not a function</p>\n",
            "</blockquote>\n",
            "\n",
            "<p>The error is inside the method <code>this.start</code></p>\n",
            "\n",
            "<p>my code:</p>\n",
            "\n",
            "<pre><code>function Game(room , author) {\n",
            "this.room = room;\n",
            "this.author = author;\n",
            "this.wrongLetters = [];\n",
            "this.rightLetters = [];\n",
            "this.guessesLeft = 5;\n",
            "this.correctGuesses = [];\n",
            "this.wrongGuesses = [];\n",
            "\n",
            "this.start = function() {\n",
            "    dClient.on(\"message\" , function(message) {\n",
            "        //this.prototype.guess(message);\n",
            "        if (!message.author.bot &amp;&amp; this.guessesLeft &gt; 0) {\n",
            "            console.log(\"Guess made: \" + message);\n",
            "        } else if (!message.author.bot &amp;&amp; this.guessesLeft &lt;= 0) {\n",
            "            this.end();\n",
            "        }\n",
            "        this.displayCur(\"hello\"); &lt; ------ the error occurs here\n",
            "    });\n",
            "};\n",
            "\n",
            "\n",
            "this.displayCur = function(state) {\n",
            "    this.finStr = \"\";\n",
            "    for (var l = 0; l &lt; this.word.length;l++) {\n",
            "        if (this.correctGuesses.includes(this.word[l])) {\n",
            "            this.finStr += this.word[l] + \"\\ \\\\\";   \n",
            "        } else {\n",
            "            this.finStr += \"_\" + \"\\ \\\\\";\n",
            "        }\n",
            "\n",
            "    }\n",
            "    if (state != \"begin\") {\n",
            "        this.room.send(this.finStr);\n",
            "    }\n",
            "};\n",
            "this.displayCur(\"begin\");\n",
            "\n",
            "}\n",
            "</code></pre>\n",
            "\n",
            "<p><strong>NOTE</strong> </p>\n",
            "\n",
            "<p>i removed some of the code so it's not filled with unrelated code. \n",
            "so if you see some things that have no context, just ignore them please.</p>\n",
            "\n"
          ]
        }
      ]
    },
    {
      "cell_type": "code",
      "metadata": {
        "id": "esCcRTPyL-IX"
      },
      "source": [
        "def remove_balise(body):\n",
        "  \"\"\"\n",
        "  body: string\n",
        "  Retourne le corpus sans les balises: \"<p> \"<code>\"\n",
        "  \"\"\"\n",
        "  listbody = list(body)\n",
        "  for char in body:\n",
        "    #print(char)\n",
        "    \n",
        "    #print(char)\n",
        "    if char == '<':\n",
        "      index_1 = listbody.index(char)\n",
        "      \n",
        "    if char == '>':\n",
        "      index_2 = listbody.index(char)\n",
        "      #print(index_1, index_2)\n",
        "      for i in range(index_1, index_2+1, 1):\n",
        "        listbody[i] = ''\n",
        "      index_1, index_2 = 0, 0\n",
        "  body_clean = \"\"\n",
        "  for i in listbody:\n",
        "    body_clean+=i\n",
        "  return body_clean"
      ],
      "execution_count": null,
      "outputs": []
    },
    {
      "cell_type": "code",
      "metadata": {
        "id": "wUmKCTK1XiHJ"
      },
      "source": [
        "import re\n",
        "\n",
        "TAG_RE = re.compile(r'<[^>]+>')\n",
        "\n",
        "def remove_tags(text):\n",
        "    return TAG_RE.sub('', text)"
      ],
      "execution_count": null,
      "outputs": []
    },
    {
      "cell_type": "code",
      "metadata": {
        "colab": {
          "base_uri": "https://localhost:8080/",
          "height": 109
        },
        "id": "7_Uh1vpdXk-x",
        "outputId": "532c9f52-8f3d-476c-96fe-2bf8eca67901"
      },
      "source": [
        "remove_tags(data['Body'].iloc[2])"
      ],
      "execution_count": null,
      "outputs": [
        {
          "output_type": "execute_result",
          "data": {
            "application/vnd.google.colaboratory.intrinsic+json": {
              "type": "string"
            },
            "text/plain": [
              "'Im trying to call a method from an another method, and the error i get is this:\\n\\n\\n  TypeError: this.displayCur is not a function\\n\\n\\nThe error is inside the method this.start\\n\\nmy code:\\n\\nfunction Game(room , author) {\\nthis.room = room;\\nthis.author = author;\\nthis.wrongLetters = [];\\nthis.rightLetters = [];\\nthis.guessesLeft = 5;\\nthis.correctGuesses = [];\\nthis.wrongGuesses = [];\\n\\nthis.start = function() {\\n    dClient.on(\"message\" , function(message) {\\n        //this.prototype.guess(message);\\n        if (!message.author.bot &amp;&amp; this.guessesLeft &gt; 0) {\\n            console.log(\"Guess made: \" + message);\\n        } else if (!message.author.bot &amp;&amp; this.guessesLeft &lt;= 0) {\\n            this.end();\\n        }\\n        this.displayCur(\"hello\"); &lt; ------ the error occurs here\\n    });\\n};\\n\\n\\nthis.displayCur = function(state) {\\n    this.finStr = \"\";\\n    for (var l = 0; l &lt; this.word.length;l++) {\\n        if (this.correctGuesses.includes(this.word[l])) {\\n            this.finStr += this.word[l] + \"\\\\ \\\\\\\\\";   \\n        } else {\\n            this.finStr += \"_\" + \"\\\\ \\\\\\\\\";\\n        }\\n\\n    }\\n    if (state != \"begin\") {\\n        this.room.send(this.finStr);\\n    }\\n};\\nthis.displayCur(\"begin\");\\n\\n}\\n\\n\\nNOTE \\n\\ni removed some of the code so it\\'s not filled with unrelated code. \\nso if you see some things that have no context, just ignore them please.\\n'"
            ]
          },
          "metadata": {},
          "execution_count": 5
        }
      ]
    },
    {
      "cell_type": "code",
      "metadata": {
        "colab": {
          "base_uri": "https://localhost:8080/",
          "height": 109
        },
        "id": "MEZE6--XbYXY",
        "outputId": "6efafd94-b324-4efd-d365-8d9d33dbdb82"
      },
      "source": [
        "remove_balise(data['Body'].iloc[2])\n"
      ],
      "execution_count": null,
      "outputs": [
        {
          "output_type": "execute_result",
          "data": {
            "application/vnd.google.colaboratory.intrinsic+json": {
              "type": "string"
            },
            "text/plain": [
              "'Im trying to call a method from an another method, and the error i get is this:\\n\\n\\n  TypeError: this.displayCur is not a function\\n\\n\\nThe error is inside the method this.start\\n\\nmy code:\\n\\nfunction Game(room , author) {\\nthis.room = room;\\nthis.author = author;\\nthis.wrongLetters = [];\\nthis.rightLetters = [];\\nthis.guessesLeft = 5;\\nthis.correctGuesses = [];\\nthis.wrongGuesses = [];\\n\\nthis.start = function() {\\n    dClient.on(\"message\" , function(message) {\\n        //this.prototype.guess(message);\\n        if (!message.author.bot &amp;&amp; this.guessesLeft &gt; 0) {\\n            console.log(\"Guess made: \" + message);\\n        } else if (!message.author.bot &amp;&amp; this.guessesLeft &lt;= 0) {\\n            this.end();\\n        }\\n        this.displayCur(\"hello\"); &lt; ------ the error occurs here\\n    });\\n};\\n\\n\\nthis.displayCur = function(state) {\\n    this.finStr = \"\";\\n    for (var l = 0; l &lt; this.word.length;l++) {\\n        if (this.correctGuesses.includes(this.word[l])) {\\n            this.finStr += this.word[l] + \"\\\\ \\\\\\\\\";   \\n        } else {\\n            this.finStr += \"_\" + \"\\\\ \\\\\\\\\";\\n        }\\n\\n    }\\n    if (state != \"begin\") {\\n        this.room.send(this.finStr);\\n    }\\n};\\nthis.displayCur(\"begin\");\\n\\n}\\n\\n\\nNOTE \\n\\ni removed some of the code so it\\'s not filled with unrelated code. \\nso if you see some things that have no context, just ignore them please.\\n'"
            ]
          },
          "metadata": {},
          "execution_count": 6
        }
      ]
    },
    {
      "cell_type": "code",
      "metadata": {
        "colab": {
          "base_uri": "https://localhost:8080/"
        },
        "id": "V0Y_xxxmEy3J",
        "outputId": "c3cf4d06-f82d-4cae-9e5b-8610a1339982"
      },
      "source": [
        "print(data['Body'].loc[(data['Tags']!='NaN')])\n"
      ],
      "execution_count": null,
      "outputs": [
        {
          "output_type": "stream",
          "name": "stdout",
          "text": [
            "0       <p>using a for loop, and a temp (lesser) Strin...\n",
            "1       <p>@Mc.Lover Tested getThumbnailFrom() functio...\n",
            "2       <p>Im trying to call a method from an another ...\n",
            "3       <p>I've recently implemented a content securit...\n",
            "4       <p>1.Paste Following code in your themes <code...\n",
            "                              ...                        \n",
            "9995    <p>Maybe you're not getting an exact match bec...\n",
            "9996    <p>AFAIK, Linq to SQL is MSSQL server provider...\n",
            "9997    <p>How can I use XPath to select an XML-node b...\n",
            "9998    <p>The XPath for this is: </p>\\n\\n<pre><code>/...\n",
            "9999    <p>When the HTML is parsed, what JQuery sees i...\n",
            "Name: Body, Length: 10000, dtype: object\n"
          ]
        }
      ]
    },
    {
      "cell_type": "markdown",
      "metadata": {
        "id": "ZH7WeUk9fNrE"
      },
      "source": [
        "## According to \n",
        "##### https://medium.com/@datamonsters/text-preprocessing-in-python-steps-tools-and-examples-bf025f872908 \n",
        "</br>\"After a text is obtained, we start with text normalization. Text normalization includes:\n",
        "* converting all letters to lower or upper case\n",
        "\n",
        "\n",
        "\n",
        "* converting numbers into words or removing numbers\n",
        "* removing punctuations, accent marks and other diacritics\n",
        "* removing white spaces\n",
        "* expanding abbreviations\n",
        "* removing stop words, sparse terms, and particular words\n",
        "* text canonicalization\"\n",
        "\n",
        "\n",
        " ## However in our case punctuation and uppercase are useful. \n",
        " * An uppercase may indicate a class in Java\n",
        " * \";\" are specific to java and C \n",
        " * the use of white space could specify a specific syntaxe\n",
        " \n",
        "## Therefore we will only\n",
        " * remove numbers\n",
        "* removing stop words, sparse terms, and particular words\n",
        "* text canonicalization\""
      ]
    },
    {
      "cell_type": "code",
      "metadata": {
        "id": "BzIYlcLRK2kg"
      },
      "source": [
        ""
      ],
      "execution_count": null,
      "outputs": []
    },
    {
      "cell_type": "markdown",
      "metadata": {
        "id": "nvM5RpGb2u3b"
      },
      "source": [
        "#I. Data preprocessing"
      ]
    },
    {
      "cell_type": "markdown",
      "metadata": {
        "id": "ASIPysXJvHlb"
      },
      "source": [
        "##A. Removing ponctuation\n"
      ]
    },
    {
      "cell_type": "code",
      "metadata": {
        "colab": {
          "base_uri": "https://localhost:8080/",
          "height": 35
        },
        "id": "mamKftTSx95T",
        "outputId": "5a72db4f-68d4-4243-b121-0abc58ca4028"
      },
      "source": [
        "import string\n",
        "#print(string.punctuation)\n",
        "def punctuation_remover(body):\n",
        "  \"\"\"\n",
        "  body: (string)\n",
        "  return the body without punctuation \n",
        "  \"\"\"\n",
        "  output =\"\".join([char for char in body if char not in string.punctuation])\n",
        "  return output\n",
        "\n",
        "\n",
        "punctuation_remover(\"for loop question: Hi everyone, i have a question about the for loop : <code> for i in range(len(tab)): <\\code> is it correct?\")"
      ],
      "execution_count": null,
      "outputs": [
        {
          "output_type": "execute_result",
          "data": {
            "application/vnd.google.colaboratory.intrinsic+json": {
              "type": "string"
            },
            "text/plain": [
              "'for loop question Hi everyone i have a question about the for loop  code for i in rangelentab code is it correct'"
            ]
          },
          "metadata": {},
          "execution_count": 8
        }
      ]
    },
    {
      "cell_type": "code",
      "metadata": {
        "colab": {
          "base_uri": "https://localhost:8080/",
          "height": 109
        },
        "id": "IC_BbdnV1FHe",
        "outputId": "4d8245ed-bcea-4352-9203-13bfa51a9b1b"
      },
      "source": [
        "example = remove_balise(data['Body'].iloc[2])\n",
        "example_wp = punctuation_remover(example)\n",
        "example_wp"
      ],
      "execution_count": null,
      "outputs": [
        {
          "output_type": "execute_result",
          "data": {
            "application/vnd.google.colaboratory.intrinsic+json": {
              "type": "string"
            },
            "text/plain": [
              "'Im trying to call a method from an another method and the error i get is this\\n\\n\\n  TypeError thisdisplayCur is not a function\\n\\n\\nThe error is inside the method thisstart\\n\\nmy code\\n\\nfunction Gameroom  author \\nthisroom  room\\nthisauthor  author\\nthiswrongLetters  \\nthisrightLetters  \\nthisguessesLeft  5\\nthiscorrectGuesses  \\nthiswrongGuesses  \\n\\nthisstart  function \\n    dClientonmessage  functionmessage \\n        thisprototypeguessmessage\\n        if messageauthorbot ampamp thisguessesLeft gt 0 \\n            consolelogGuess made   message\\n         else if messageauthorbot ampamp thisguessesLeft lt 0 \\n            thisend\\n        \\n        thisdisplayCurhello lt  the error occurs here\\n    \\n\\n\\n\\nthisdisplayCur  functionstate \\n    thisfinStr  \\n    for var l  0 l lt thiswordlengthl \\n        if thiscorrectGuessesincludesthiswordl \\n            thisfinStr  thiswordl      \\n         else \\n            thisfinStr     \\n        \\n\\n    \\n    if state  begin \\n        thisroomsendthisfinStr\\n    \\n\\nthisdisplayCurbegin\\n\\n\\n\\n\\nNOTE \\n\\ni removed some of the code so its not filled with unrelated code \\nso if you see some things that have no context just ignore them please\\n'"
            ]
          },
          "metadata": {},
          "execution_count": 9
        }
      ]
    },
    {
      "cell_type": "markdown",
      "metadata": {
        "id": "7DvG9mJ47rAi"
      },
      "source": [
        "## B.Tokenization"
      ]
    },
    {
      "cell_type": "code",
      "metadata": {
        "colab": {
          "base_uri": "https://localhost:8080/"
        },
        "id": "rPDCvwg46Ydb",
        "outputId": "9774ec1d-ead2-477c-f4ad-16a3eec771e3"
      },
      "source": [
        "import nltk\n",
        "nltk.download('stopwords')\n",
        "nltk.download('wordnet')\n",
        "nltk.download('punkt')\n",
        "from nltk import word_tokenize\n",
        "def tokenizer(body):\n",
        "  tokenized = word_tokenize(body)\n",
        "  return tokenized\n",
        "\n",
        "example_tk = tokenizer(example_wp)\n",
        "print(example_tk)"
      ],
      "execution_count": null,
      "outputs": [
        {
          "output_type": "stream",
          "name": "stdout",
          "text": [
            "[nltk_data] Downloading package stopwords to /root/nltk_data...\n",
            "[nltk_data]   Package stopwords is already up-to-date!\n",
            "[nltk_data] Downloading package wordnet to /root/nltk_data...\n",
            "[nltk_data]   Package wordnet is already up-to-date!\n",
            "[nltk_data] Downloading package punkt to /root/nltk_data...\n",
            "[nltk_data]   Package punkt is already up-to-date!\n",
            "['Im', 'trying', 'to', 'call', 'a', 'method', 'from', 'an', 'another', 'method', 'and', 'the', 'error', 'i', 'get', 'is', 'this', 'TypeError', 'thisdisplayCur', 'is', 'not', 'a', 'function', 'The', 'error', 'is', 'inside', 'the', 'method', 'thisstart', 'my', 'code', 'function', 'Gameroom', 'author', 'thisroom', 'room', 'thisauthor', 'author', 'thiswrongLetters', 'thisrightLetters', 'thisguessesLeft', '5', 'thiscorrectGuesses', 'thiswrongGuesses', 'thisstart', 'function', 'dClientonmessage', 'functionmessage', 'thisprototypeguessmessage', 'if', 'messageauthorbot', 'ampamp', 'thisguessesLeft', 'gt', '0', 'consolelogGuess', 'made', 'message', 'else', 'if', 'messageauthorbot', 'ampamp', 'thisguessesLeft', 'lt', '0', 'thisend', 'thisdisplayCurhello', 'lt', 'the', 'error', 'occurs', 'here', 'thisdisplayCur', 'functionstate', 'thisfinStr', 'for', 'var', 'l', '0', 'l', 'lt', 'thiswordlengthl', 'if', 'thiscorrectGuessesincludesthiswordl', 'thisfinStr', 'thiswordl', 'else', 'thisfinStr', 'if', 'state', 'begin', 'thisroomsendthisfinStr', 'thisdisplayCurbegin', 'NOTE', 'i', 'removed', 'some', 'of', 'the', 'code', 'so', 'its', 'not', 'filled', 'with', 'unrelated', 'code', 'so', 'if', 'you', 'see', 'some', 'things', 'that', 'have', 'no', 'context', 'just', 'ignore', 'them', 'please']\n"
          ]
        }
      ]
    },
    {
      "cell_type": "markdown",
      "metadata": {
        "id": "npVRoGr58QB0"
      },
      "source": [
        "## C. Remove Stopword"
      ]
    },
    {
      "cell_type": "code",
      "metadata": {
        "colab": {
          "base_uri": "https://localhost:8080/"
        },
        "id": "Sob5KlnaD0DW",
        "outputId": "68b4bc37-2976-4ce5-a6ff-9eb80564a6e0"
      },
      "source": [
        "from nltk.corpus import stopwords\n",
        "\n",
        "def stopword_remover(token_arr):\n",
        "  stop_words = set(stopwords.words(\"english\"))\n",
        "  result = [token for token in token_arr if not token in stop_words]\n",
        "  return result\n",
        "result = stopword_remover(example_tk)\n",
        "print(result)"
      ],
      "execution_count": null,
      "outputs": [
        {
          "output_type": "stream",
          "name": "stdout",
          "text": [
            "['Im', 'trying', 'call', 'method', 'another', 'method', 'error', 'get', 'TypeError', 'thisdisplayCur', 'function', 'The', 'error', 'inside', 'method', 'thisstart', 'code', 'function', 'Gameroom', 'author', 'thisroom', 'room', 'thisauthor', 'author', 'thiswrongLetters', 'thisrightLetters', 'thisguessesLeft', '5', 'thiscorrectGuesses', 'thiswrongGuesses', 'thisstart', 'function', 'dClientonmessage', 'functionmessage', 'thisprototypeguessmessage', 'messageauthorbot', 'ampamp', 'thisguessesLeft', 'gt', '0', 'consolelogGuess', 'made', 'message', 'else', 'messageauthorbot', 'ampamp', 'thisguessesLeft', 'lt', '0', 'thisend', 'thisdisplayCurhello', 'lt', 'error', 'occurs', 'thisdisplayCur', 'functionstate', 'thisfinStr', 'var', 'l', '0', 'l', 'lt', 'thiswordlengthl', 'thiscorrectGuessesincludesthiswordl', 'thisfinStr', 'thiswordl', 'else', 'thisfinStr', 'state', 'begin', 'thisroomsendthisfinStr', 'thisdisplayCurbegin', 'NOTE', 'removed', 'code', 'filled', 'unrelated', 'code', 'see', 'things', 'context', 'ignore', 'please']\n"
          ]
        }
      ]
    },
    {
      "cell_type": "markdown",
      "metadata": {
        "id": "EQWHeCzKvY-r"
      },
      "source": [
        "## Stemming"
      ]
    },
    {
      "cell_type": "code",
      "metadata": {
        "id": "UtlFtuIrJv6L",
        "colab": {
          "base_uri": "https://localhost:8080/"
        },
        "outputId": "fcdd9d66-651e-43c0-d490-13ced1ecdb95"
      },
      "source": [
        "from nltk.stem import PorterStemmer\n",
        "from nltk.tokenize import word_tokenize\n",
        "\n",
        "def stemmer(tokenized):\n",
        "  stemmer_= PorterStemmer()\n",
        "  result_stem = []\n",
        "  for token in tokenized:\n",
        "      #print(stemmer.stem(token))\n",
        "      result_stem.append(stemmer_.stem(token))\n",
        "  return result_stem\n",
        "\n",
        "result_stem = stemmer(result)\n",
        "print(result_stem)"
      ],
      "execution_count": null,
      "outputs": [
        {
          "output_type": "stream",
          "name": "stdout",
          "text": [
            "['Im', 'tri', 'call', 'method', 'anoth', 'method', 'error', 'get', 'typeerror', 'thisdisplaycur', 'function', 'the', 'error', 'insid', 'method', 'thisstart', 'code', 'function', 'gameroom', 'author', 'thisroom', 'room', 'thisauthor', 'author', 'thiswronglett', 'thisrightlett', 'thisguessesleft', '5', 'thiscorrectguess', 'thiswrongguess', 'thisstart', 'function', 'dclientonmessag', 'functionmessag', 'thisprototypeguessmessag', 'messageauthorbot', 'ampamp', 'thisguessesleft', 'gt', '0', 'consolelogguess', 'made', 'messag', 'els', 'messageauthorbot', 'ampamp', 'thisguessesleft', 'lt', '0', 'thisend', 'thisdisplaycurhello', 'lt', 'error', 'occur', 'thisdisplaycur', 'functionst', 'thisfinstr', 'var', 'l', '0', 'l', 'lt', 'thiswordlengthl', 'thiscorrectguessesincludesthiswordl', 'thisfinstr', 'thiswordl', 'els', 'thisfinstr', 'state', 'begin', 'thisroomsendthisfinstr', 'thisdisplaycurbegin', 'note', 'remov', 'code', 'fill', 'unrel', 'code', 'see', 'thing', 'context', 'ignor', 'pleas']\n"
          ]
        }
      ]
    },
    {
      "cell_type": "markdown",
      "metadata": {
        "id": "oZ306s0cVlpz"
      },
      "source": [
        "## D. Lemmetization"
      ]
    },
    {
      "cell_type": "code",
      "metadata": {
        "colab": {
          "base_uri": "https://localhost:8080/"
        },
        "id": "P97UHNTvVrE0",
        "outputId": "df60d638-2ce7-48bd-92db-12748166188b"
      },
      "source": [
        "from nltk.stem import WordNetLemmatizer\n",
        "from nltk.tokenize import word_tokenize\n",
        "def lemmatizer(token_arr):\n",
        "  lemmatized = []\n",
        "  lemmatizer_= WordNetLemmatizer()\n",
        "  for token in token_arr:\n",
        "      #print(lemmatizer.lemmatize(word))\n",
        "      lemmatized.append(lemmatizer_.lemmatize(token))\n",
        "  return lemmatized\n",
        "res_lem = lemmatizer(result_stem)\n",
        "print(res_lem)"
      ],
      "execution_count": null,
      "outputs": [
        {
          "output_type": "stream",
          "name": "stdout",
          "text": [
            "['Im', 'tri', 'call', 'method', 'anoth', 'method', 'error', 'get', 'typeerror', 'thisdisplaycur', 'function', 'the', 'error', 'insid', 'method', 'thisstart', 'code', 'function', 'gameroom', 'author', 'thisroom', 'room', 'thisauthor', 'author', 'thiswronglett', 'thisrightlett', 'thisguessesleft', '5', 'thiscorrectguess', 'thiswrongguess', 'thisstart', 'function', 'dclientonmessag', 'functionmessag', 'thisprototypeguessmessag', 'messageauthorbot', 'ampamp', 'thisguessesleft', 'gt', '0', 'consolelogguess', 'made', 'messag', 'el', 'messageauthorbot', 'ampamp', 'thisguessesleft', 'lt', '0', 'thisend', 'thisdisplaycurhello', 'lt', 'error', 'occur', 'thisdisplaycur', 'functionst', 'thisfinstr', 'var', 'l', '0', 'l', 'lt', 'thiswordlengthl', 'thiscorrectguessesincludesthiswordl', 'thisfinstr', 'thiswordl', 'el', 'thisfinstr', 'state', 'begin', 'thisroomsendthisfinstr', 'thisdisplaycurbegin', 'note', 'remov', 'code', 'fill', 'unrel', 'code', 'see', 'thing', 'context', 'ignor', 'plea']\n"
          ]
        }
      ]
    },
    {
      "cell_type": "markdown",
      "metadata": {
        "id": "WAVg_9XibWBc"
      },
      "source": [
        "## E. TD-IDF"
      ]
    },
    {
      "cell_type": "markdown",
      "metadata": {
        "id": "R0uUHxqgW3Ww"
      },
      "source": [
        "# II. All in one"
      ]
    },
    {
      "cell_type": "code",
      "metadata": {
        "colab": {
          "base_uri": "https://localhost:8080/"
        },
        "id": "MnjIGS-SWTnw",
        "outputId": "0715da0f-e732-4263-cdfa-364eab22e2fc"
      },
      "source": [
        "def preprocess(body_str):\n",
        "  \"\"\"\n",
        "  Sum up of all technics descrbibed above ! \n",
        "  now we just need to feed in the body_text\n",
        "  \n",
        "  \"\"\"\n",
        "  body_wout_tags = remove_tags(body_str)\n",
        "  wout_ponct = punctuation_remover(body_wout_tags)\n",
        "  #Remove non-letters\n",
        "  wout_ponct = re.sub(\"[^a-zA-Z]\", \" \", wout_ponct)\n",
        "  #warning we stop working on string we work with array of token\n",
        "  token_vec = tokenizer(wout_ponct)\n",
        "  token_vec = stopword_remover(token_vec)\n",
        "  token_vec = stemmer(token_vec)\n",
        "  token_vec = lemmatizer(token_vec)\n",
        "\n",
        "  newbody = \" \".join(token_vec)\n",
        "\n",
        "  return newbody\n",
        "\n",
        "print(preprocess(data['Body'].iloc[2]))\n",
        "\n",
        "\n"
      ],
      "execution_count": null,
      "outputs": [
        {
          "output_type": "stream",
          "name": "stdout",
          "text": [
            "Im tri call method anoth method error get typeerror thisdisplaycur function error insid method thisstart code function gameroom author thisroom room thisauthor author thiswronglett thisrightlett thisguessesleft thiscorrectguess thiswrongguess thisstart function dclientonmessag functionmessag thisprototypeguessmessag messageauthorbot ampamp thisguessesleft gt consolelogguess made messag el messageauthorbot ampamp thisguessesleft lt thisend thisdisplaycurhello lt error occur thisdisplaycur functionst thisfinstr var l l lt thiswordlengthl thiscorrectguessesincludesthiswordl thisfinstr thiswordl el thisfinstr state begin thisroomsendthisfinstr thisdisplaycurbegin note remov code fill unrel code see thing context ignor plea\n"
          ]
        }
      ]
    },
    {
      "cell_type": "code",
      "metadata": {
        "colab": {
          "base_uri": "https://localhost:8080/",
          "height": 90
        },
        "id": "asCBaZcHWNPv",
        "outputId": "dec915ac-09d1-4d0a-8b40-5d1d8d430548"
      },
      "source": [
        "\"\"\"\n",
        "from bs4 import BeautifulSoup\n",
        "def prep(review):\n",
        "    \n",
        "    # Remove HTML tags.\n",
        "    review = BeautifulSoup(review,'html.parser').get_text()\n",
        "    \n",
        "    # Remove non-letters\n",
        "    review = re.sub(\"[^a-zA-Z]\", \" \", review)\n",
        "    \n",
        "    # Lower case\n",
        "    review = review.lower()\n",
        "    \n",
        "    # Tokenize to each word.\n",
        "    token = nltk.word_tokenize(review)\n",
        "    print(\"token\", token)\n",
        "    # Stemming\n",
        "    review = [nltk.stem.SnowballStemmer('english').stem(w) for w in token]\n",
        "    print(\"review\", review)\n",
        "    # Join the words back into one string separated by space, and return the result.\n",
        "    return \" \".join(review)\n",
        "\n",
        "prep(data['Body'].iloc[2])\"\"\""
      ],
      "execution_count": null,
      "outputs": [
        {
          "output_type": "execute_result",
          "data": {
            "application/vnd.google.colaboratory.intrinsic+json": {
              "type": "string"
            },
            "text/plain": [
              "'\\nfrom bs4 import BeautifulSoup\\ndef prep(review):\\n    \\n    # Remove HTML tags.\\n    review = BeautifulSoup(review,\\'html.parser\\').get_text()\\n    \\n    # Remove non-letters\\n    review = re.sub(\"[^a-zA-Z]\", \" \", review)\\n    \\n    # Lower case\\n    review = review.lower()\\n    \\n    # Tokenize to each word.\\n    token = nltk.word_tokenize(review)\\n    print(\"token\", token)\\n    # Stemming\\n    review = [nltk.stem.SnowballStemmer(\\'english\\').stem(w) for w in token]\\n    print(\"review\", review)\\n    # Join the words back into one string separated by space, and return the result.\\n    return \" \".join(review)\\n\\nprep(data[\\'Body\\'].iloc[2])'"
            ]
          },
          "metadata": {},
          "execution_count": 15
        }
      ]
    },
    {
      "cell_type": "code",
      "metadata": {
        "id": "ugHbAzeJbcAT",
        "colab": {
          "base_uri": "https://localhost:8080/",
          "height": 90
        },
        "outputId": "34288359-7371-4bc2-cb20-8c88cdff3dbc"
      },
      "source": [
        "import nltk\n",
        "import string\n",
        "import os\n",
        "\n",
        "from sklearn.feature_extraction.text import TfidfVectorizer\n",
        "from nltk.stem.porter import PorterStemmer\n",
        "import numpy as np\n",
        "\n",
        "def td_idf(token_arr):\n",
        "  \"\"\"\n",
        "  Convert token into TD_IDF vector\n",
        "  \"\"\"\n",
        "\n",
        "  from sklearn.feature_extraction.text import TfidfVectorizer\n",
        "\n",
        "  tfidf_transformer = TfidfVectorizer(ngram_range = (1,3),\n",
        "                    sublinear_tf = True,\n",
        "                    max_features = 40000,\n",
        "                    min_df =10)\n",
        "\n",
        "  tfidf_transformer.fit_transform(token_arr )\n",
        "  x_train_tfidf = tfidf_transformer.transform(token_arr)\n",
        "\n",
        "  return x_train_tfidf, tfidf_transformer\n",
        "\n",
        "data['Body'] = data['Body'].apply(preprocess) #<------------------ -------------- Really important line !\n",
        "\n",
        "data['Body'].iloc[2]"
      ],
      "execution_count": null,
      "outputs": [
        {
          "output_type": "execute_result",
          "data": {
            "application/vnd.google.colaboratory.intrinsic+json": {
              "type": "string"
            },
            "text/plain": [
              "'Im tri call method anoth method error get typeerror thisdisplaycur function error insid method thisstart code function gameroom author thisroom room thisauthor author thiswronglett thisrightlett thisguessesleft thiscorrectguess thiswrongguess thisstart function dclientonmessag functionmessag thisprototypeguessmessag messageauthorbot ampamp thisguessesleft gt consolelogguess made messag el messageauthorbot ampamp thisguessesleft lt thisend thisdisplaycurhello lt error occur thisdisplaycur functionst thisfinstr var l l lt thiswordlengthl thiscorrectguessesincludesthiswordl thisfinstr thiswordl el thisfinstr state begin thisroomsendthisfinstr thisdisplaycurbegin note remov code fill unrel code see thing context ignor plea'"
            ]
          },
          "metadata": {},
          "execution_count": 26
        }
      ]
    },
    {
      "cell_type": "code",
      "metadata": {
        "colab": {
          "base_uri": "https://localhost:8080/",
          "height": 184
        },
        "id": "Ob46B6Pdasqr",
        "outputId": "91aab2a8-73e1-4773-c34b-df4cabecdfc0"
      },
      "source": [
        "x_train, tv = td_idf(data['Body'])\n",
        "\n",
        "vocab = tv.get_feature_names()\n",
        "print(vocab[:5])\n",
        "print(\"Vocabulary length:\", len(vocab))\n",
        "dist = np.sum(x_train, axis=0)\n",
        "checking = pd.DataFrame(dist,columns = vocab)\n",
        "checking"
      ],
      "execution_count": null,
      "outputs": [
        {
          "output_type": "stream",
          "name": "stdout",
          "text": [
            "['aa', 'ab', 'abc', 'abcd', 'abil']\n",
            "Vocabulary length: 6093\n"
          ]
        },
        {
          "output_type": "execute_result",
          "data": {
            "text/html": [
              "<div>\n",
              "<style scoped>\n",
              "    .dataframe tbody tr th:only-of-type {\n",
              "        vertical-align: middle;\n",
              "    }\n",
              "\n",
              "    .dataframe tbody tr th {\n",
              "        vertical-align: top;\n",
              "    }\n",
              "\n",
              "    .dataframe thead th {\n",
              "        text-align: right;\n",
              "    }\n",
              "</style>\n",
              "<table border=\"1\" class=\"dataframe\">\n",
              "  <thead>\n",
              "    <tr style=\"text-align: right;\">\n",
              "      <th></th>\n",
              "      <th>aa</th>\n",
              "      <th>ab</th>\n",
              "      <th>abc</th>\n",
              "      <th>abcd</th>\n",
              "      <th>abil</th>\n",
              "      <th>abl</th>\n",
              "      <th>abl access</th>\n",
              "      <th>abl creat</th>\n",
              "      <th>abl figur</th>\n",
              "      <th>abl find</th>\n",
              "      <th>abl get</th>\n",
              "      <th>abl handl</th>\n",
              "      <th>abl make</th>\n",
              "      <th>abl run</th>\n",
              "      <th>abl see</th>\n",
              "      <th>abl use</th>\n",
              "      <th>abort</th>\n",
              "      <th>abov</th>\n",
              "      <th>absolut</th>\n",
              "      <th>absolut path</th>\n",
              "      <th>absolut top</th>\n",
              "      <th>abstract</th>\n",
              "      <th>abstract class</th>\n",
              "      <th>ac</th>\n",
              "      <th>acc</th>\n",
              "      <th>accept</th>\n",
              "      <th>accept answer</th>\n",
              "      <th>access</th>\n",
              "      <th>access control</th>\n",
              "      <th>access data</th>\n",
              "      <th>access use</th>\n",
              "      <th>accessor</th>\n",
              "      <th>accesstoken</th>\n",
              "      <th>accid</th>\n",
              "      <th>accomplish</th>\n",
              "      <th>accord</th>\n",
              "      <th>accord document</th>\n",
              "      <th>accordingli</th>\n",
              "      <th>account</th>\n",
              "      <th>accumul</th>\n",
              "      <th>...</th>\n",
              "      <th>xmlnshttpwwww org</th>\n",
              "      <th>xmlnstoolshttpschemasandroidcomtool</th>\n",
              "      <th>xmlnsxslhttpwwww</th>\n",
              "      <th>xmlnsxslhttpwwww org</th>\n",
              "      <th>xp</th>\n",
              "      <th>xpath</th>\n",
              "      <th>xslt</th>\n",
              "      <th>xx</th>\n",
              "      <th>xxx</th>\n",
              "      <th>xy</th>\n",
              "      <th>xyz</th>\n",
              "      <th>yaml</th>\n",
              "      <th>ye</th>\n",
              "      <th>yeah</th>\n",
              "      <th>year</th>\n",
              "      <th>yellow</th>\n",
              "      <th>yesterday</th>\n",
              "      <th>yet</th>\n",
              "      <th>yield</th>\n",
              "      <th>youd</th>\n",
              "      <th>youd like</th>\n",
              "      <th>youd need</th>\n",
              "      <th>youll</th>\n",
              "      <th>youll find</th>\n",
              "      <th>youll get</th>\n",
              "      <th>youll need</th>\n",
              "      <th>youll see</th>\n",
              "      <th>youll want</th>\n",
              "      <th>youtub</th>\n",
              "      <th>youv</th>\n",
              "      <th>youv got</th>\n",
              "      <th>yui</th>\n",
              "      <th>yyyymmdd</th>\n",
              "      <th>zend</th>\n",
              "      <th>zero</th>\n",
              "      <th>zindex</th>\n",
              "      <th>zip</th>\n",
              "      <th>zip file</th>\n",
              "      <th>zone</th>\n",
              "      <th>zoom</th>\n",
              "    </tr>\n",
              "  </thead>\n",
              "  <tbody>\n",
              "    <tr>\n",
              "      <th>0</th>\n",
              "      <td>6.25574</td>\n",
              "      <td>6.285883</td>\n",
              "      <td>8.208589</td>\n",
              "      <td>3.134438</td>\n",
              "      <td>7.837219</td>\n",
              "      <td>50.145071</td>\n",
              "      <td>1.804905</td>\n",
              "      <td>2.540785</td>\n",
              "      <td>1.969446</td>\n",
              "      <td>3.269195</td>\n",
              "      <td>6.133797</td>\n",
              "      <td>1.566563</td>\n",
              "      <td>2.039539</td>\n",
              "      <td>2.115782</td>\n",
              "      <td>1.961844</td>\n",
              "      <td>4.867079</td>\n",
              "      <td>2.309126</td>\n",
              "      <td>2.205019</td>\n",
              "      <td>14.801155</td>\n",
              "      <td>2.274109</td>\n",
              "      <td>1.340328</td>\n",
              "      <td>12.616419</td>\n",
              "      <td>4.400562</td>\n",
              "      <td>4.754387</td>\n",
              "      <td>2.946411</td>\n",
              "      <td>22.371781</td>\n",
              "      <td>2.642564</td>\n",
              "      <td>59.128936</td>\n",
              "      <td>2.253806</td>\n",
              "      <td>2.222841</td>\n",
              "      <td>1.654759</td>\n",
              "      <td>2.362946</td>\n",
              "      <td>2.304297</td>\n",
              "      <td>2.354489</td>\n",
              "      <td>10.445353</td>\n",
              "      <td>17.861157</td>\n",
              "      <td>1.811019</td>\n",
              "      <td>5.766977</td>\n",
              "      <td>18.111123</td>\n",
              "      <td>2.676831</td>\n",
              "      <td>...</td>\n",
              "      <td>1.347916</td>\n",
              "      <td>2.284495</td>\n",
              "      <td>1.936245</td>\n",
              "      <td>1.936245</td>\n",
              "      <td>6.804467</td>\n",
              "      <td>7.486278</td>\n",
              "      <td>2.177806</td>\n",
              "      <td>3.670555</td>\n",
              "      <td>3.00721</td>\n",
              "      <td>4.375328</td>\n",
              "      <td>3.549257</td>\n",
              "      <td>3.247697</td>\n",
              "      <td>32.353957</td>\n",
              "      <td>2.851862</td>\n",
              "      <td>19.992833</td>\n",
              "      <td>4.2402</td>\n",
              "      <td>2.138133</td>\n",
              "      <td>19.289568</td>\n",
              "      <td>9.410905</td>\n",
              "      <td>15.482781</td>\n",
              "      <td>3.331811</td>\n",
              "      <td>2.781673</td>\n",
              "      <td>27.610798</td>\n",
              "      <td>1.858541</td>\n",
              "      <td>3.291513</td>\n",
              "      <td>8.404434</td>\n",
              "      <td>3.110977</td>\n",
              "      <td>2.981685</td>\n",
              "      <td>2.498649</td>\n",
              "      <td>14.190249</td>\n",
              "      <td>3.09282</td>\n",
              "      <td>2.812196</td>\n",
              "      <td>3.462663</td>\n",
              "      <td>3.076109</td>\n",
              "      <td>14.461965</td>\n",
              "      <td>3.091995</td>\n",
              "      <td>7.189019</td>\n",
              "      <td>2.75117</td>\n",
              "      <td>3.239889</td>\n",
              "      <td>2.905424</td>\n",
              "    </tr>\n",
              "  </tbody>\n",
              "</table>\n",
              "<p>1 rows × 6093 columns</p>\n",
              "</div>"
            ],
            "text/plain": [
              "        aa        ab       abc  ...  zip file      zone      zoom\n",
              "0  6.25574  6.285883  8.208589  ...   2.75117  3.239889  2.905424\n",
              "\n",
              "[1 rows x 6093 columns]"
            ]
          },
          "metadata": {},
          "execution_count": 27
        }
      ]
    },
    {
      "cell_type": "code",
      "metadata": {
        "id": "sXhSb8P7aRmS",
        "colab": {
          "base_uri": "https://localhost:8080/"
        },
        "outputId": "63cd68cf-3093-4956-d3d7-563368fedc54"
      },
      "source": [
        "vocab = tv.get_feature_names()\n",
        "print(vocab[:5])\n"
      ],
      "execution_count": null,
      "outputs": [
        {
          "output_type": "stream",
          "name": "stdout",
          "text": [
            "['00', '00 01', '00 20130102', '00 20130102 13', '00 na']\n"
          ]
        }
      ]
    },
    {
      "cell_type": "code",
      "metadata": {
        "id": "I8zqra7nZEF2"
      },
      "source": [
        ""
      ],
      "execution_count": null,
      "outputs": []
    }
  ]
}