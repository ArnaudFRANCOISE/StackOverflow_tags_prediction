{
  "nbformat": 4,
  "nbformat_minor": 0,
  "metadata": {
    "colab": {
      "name": "TOP12_data_contraction_partI.ipynb",
      "provenance": [],
      "collapsed_sections": []
    },
    "kernelspec": {
      "display_name": "Python 3",
      "name": "python3"
    },
    "language_info": {
      "name": "python"
    }
  },
  "cells": [
    {
      "cell_type": "markdown",
      "metadata": {
        "id": "v4D2utWlM27k"
      },
      "source": [
        "#I- Gathering data \n",
        "In the github repo we will import all the csv file extracted with SQL from the stackoverflow database"
      ]
    },
    {
      "cell_type": "code",
      "metadata": {
        "colab": {
          "base_uri": "https://localhost:8080/"
        },
        "id": "jSbu8GD9F1GB",
        "outputId": "8f54d41f-e30b-4ac1-e42a-4d44915d3ca2"
      },
      "source": [
        "!git clone https://github.com/ArnaudFRANCOISE/StackOverflow_tags_prediction.git\n",
        "!ls\n",
        "#import drive.MyDrive.preprocess_tools as pts\n",
        "import StackOverflow_tags_prediction.preprocess_tools as pts\n",
        "print(pts)"
      ],
      "execution_count": 1,
      "outputs": [
        {
          "output_type": "stream",
          "name": "stdout",
          "text": [
            "Cloning into 'StackOverflow_tags_prediction'...\n",
            "remote: Enumerating objects: 64, done.\u001b[K\n",
            "remote: Counting objects: 100% (64/64), done.\u001b[K\n",
            "remote: Compressing objects: 100% (59/59), done.\u001b[K\n",
            "remote: Total 64 (delta 18), reused 4 (delta 2), pack-reused 0\u001b[K\n",
            "Unpacking objects: 100% (64/64), done.\n",
            "Checking out files: 100% (32/32), done.\n",
            "drive  sample_data  StackOverflow_tags_prediction\n",
            "[nltk_data] Downloading package stopwords to /root/nltk_data...\n",
            "[nltk_data]   Unzipping corpora/stopwords.zip.\n",
            "[nltk_data] Downloading package wordnet to /root/nltk_data...\n",
            "[nltk_data]   Unzipping corpora/wordnet.zip.\n",
            "[nltk_data] Downloading package punkt to /root/nltk_data...\n",
            "[nltk_data]   Unzipping tokenizers/punkt.zip.\n",
            "<module 'StackOverflow_tags_prediction.preprocess_tools' from '/content/StackOverflow_tags_prediction/preprocess_tools.py'>\n"
          ]
        }
      ]
    },
    {
      "cell_type": "code",
      "metadata": {
        "colab": {
          "base_uri": "https://localhost:8080/",
          "height": 419
        },
        "id": "jrJ1s5CSF64B",
        "outputId": "d79844eb-3832-44d2-af32-356f598cc82a"
      },
      "source": [
        "import os\n",
        "import pandas as pd\n",
        "\n",
        "from os import listdir\n",
        "from os.path import isfile, join\n",
        "\n",
        "mypath = \"/content/StackOverflow_tags_prediction/QueryResults/QueryResults/\"\n",
        "\n",
        "filenames = [f for f in listdir(mypath) if isfile(join(mypath, f))]\n",
        "#gather all csv into one dataframe\n",
        "#print(len(filenames))\n",
        "data = pd.read_csv(mypath+filenames[0])\n",
        "nb_data = 100\n",
        "data = data[:nb_data]\n",
        "\n",
        "for filename in filenames[1:]:\n",
        "  d = pd.read_csv(mypath+filename)\n",
        "  data = pd.concat([data, d[:nb_data]], axis=0)\n",
        "  #print(data.shape)\n",
        "\n",
        "#eliminate duplicate\n",
        "data = data.drop_duplicates(subset=['Body'])\n",
        "data"
      ],
      "execution_count": 2,
      "outputs": [
        {
          "output_type": "execute_result",
          "data": {
            "text/html": [
              "<div>\n",
              "<style scoped>\n",
              "    .dataframe tbody tr th:only-of-type {\n",
              "        vertical-align: middle;\n",
              "    }\n",
              "\n",
              "    .dataframe tbody tr th {\n",
              "        vertical-align: top;\n",
              "    }\n",
              "\n",
              "    .dataframe thead th {\n",
              "        text-align: right;\n",
              "    }\n",
              "</style>\n",
              "<table border=\"1\" class=\"dataframe\">\n",
              "  <thead>\n",
              "    <tr style=\"text-align: right;\">\n",
              "      <th></th>\n",
              "      <th>Id</th>\n",
              "      <th>Body</th>\n",
              "      <th>Title</th>\n",
              "      <th>Tags</th>\n",
              "      <th>CreationDate</th>\n",
              "    </tr>\n",
              "  </thead>\n",
              "  <tbody>\n",
              "    <tr>\n",
              "      <th>0</th>\n",
              "      <td>11237948</td>\n",
              "      <td>&lt;p&gt;This question is on the OpenCV functions &lt;c...</td>\n",
              "      <td>findHomography, getPerspectiveTransform, &amp; get...</td>\n",
              "      <td>&lt;c++&gt;&lt;opencv&gt;&lt;affinetransform&gt;&lt;homography&gt;</td>\n",
              "      <td>2012-06-28 04:08:43</td>\n",
              "    </tr>\n",
              "    <tr>\n",
              "      <th>1</th>\n",
              "      <td>3967620</td>\n",
              "      <td>&lt;p&gt;I've been messing about with member-functio...</td>\n",
              "      <td>Member-function pointers and phantom classes</td>\n",
              "      <td>&lt;c++&gt;&lt;member-function-pointers&gt;&lt;phantom-refere...</td>\n",
              "      <td>2010-10-19 10:58:48</td>\n",
              "    </tr>\n",
              "    <tr>\n",
              "      <th>2</th>\n",
              "      <td>3967661</td>\n",
              "      <td>&lt;p&gt;I am trying to install Qt in my CentOS syst...</td>\n",
              "      <td>error while loading shared libraries: libstdc+...</td>\n",
              "      <td>&lt;c++&gt;&lt;qt&gt;&lt;std&gt;&lt;qmake&gt;&lt;libstdc++&gt;</td>\n",
              "      <td>2010-10-19 11:03:01</td>\n",
              "    </tr>\n",
              "    <tr>\n",
              "      <th>3</th>\n",
              "      <td>27963226</td>\n",
              "      <td>&lt;p&gt;i am using ndk to compile c++ code on andro...</td>\n",
              "      <td>the bool parameter is wrong,given \"false\" ,but...</td>\n",
              "      <td>&lt;android&gt;&lt;c++&gt;&lt;android-ndk&gt;</td>\n",
              "      <td>2015-01-15 12:15:16</td>\n",
              "    </tr>\n",
              "    <tr>\n",
              "      <th>4</th>\n",
              "      <td>27963230</td>\n",
              "      <td>&lt;p&gt;According to the &lt;a href=\"http://www.iso.or...</td>\n",
              "      <td>Why Does the New C++ Standard use \"ISO/IEC 148...</td>\n",
              "      <td>&lt;c++&gt;&lt;c++14&gt;&lt;iso&gt;</td>\n",
              "      <td>2015-01-15 12:15:26</td>\n",
              "    </tr>\n",
              "    <tr>\n",
              "      <th>...</th>\n",
              "      <td>...</td>\n",
              "      <td>...</td>\n",
              "      <td>...</td>\n",
              "      <td>...</td>\n",
              "      <td>...</td>\n",
              "    </tr>\n",
              "    <tr>\n",
              "      <th>95</th>\n",
              "      <td>3415646</td>\n",
              "      <td>&lt;p&gt;I have a query that runs in an Excel Macro ...</td>\n",
              "      <td>MSQuery query changed in Excel</td>\n",
              "      <td>&lt;excel&gt;&lt;excel-2003&gt;&lt;vba&gt;</td>\n",
              "      <td>2010-08-05 14:22:55</td>\n",
              "    </tr>\n",
              "    <tr>\n",
              "      <th>96</th>\n",
              "      <td>45599064</td>\n",
              "      <td>&lt;p&gt;I want to my macro to send a message just w...</td>\n",
              "      <td>How I make my Worksheet_change react after the...</td>\n",
              "      <td>&lt;excel&gt;&lt;vba&gt;</td>\n",
              "      <td>2017-08-09 19:24:16</td>\n",
              "    </tr>\n",
              "    <tr>\n",
              "      <th>97</th>\n",
              "      <td>45599114</td>\n",
              "      <td>&lt;p&gt;Help, i want to update my table &lt;em&gt;PARKING...</td>\n",
              "      <td>access vba update one table, multiple fields</td>\n",
              "      <td>&lt;sql&gt;&lt;vba&gt;&lt;ms-access&gt;</td>\n",
              "      <td>2017-08-09 19:27:00</td>\n",
              "    </tr>\n",
              "    <tr>\n",
              "      <th>98</th>\n",
              "      <td>62857967</td>\n",
              "      <td>&lt;p&gt;I have been utilizing the &lt;strong&gt;Analysis ...</td>\n",
              "      <td>How to manually find residual/regression SS an...</td>\n",
              "      <td>&lt;excel&gt;&lt;vba&gt;&lt;statistics&gt;</td>\n",
              "      <td>2020-07-12 06:51:53</td>\n",
              "    </tr>\n",
              "    <tr>\n",
              "      <th>99</th>\n",
              "      <td>3417093</td>\n",
              "      <td>&lt;p&gt;I have the following VBA code in a module o...</td>\n",
              "      <td>Error when calling VBA function from VSTO code</td>\n",
              "      <td>&lt;c#&gt;&lt;excel&gt;&lt;vsto&gt;&lt;excel-2007&gt;&lt;vba&gt;</td>\n",
              "      <td>2010-08-05 16:48:17</td>\n",
              "    </tr>\n",
              "  </tbody>\n",
              "</table>\n",
              "<p>2558 rows × 5 columns</p>\n",
              "</div>"
            ],
            "text/plain": [
              "          Id  ...         CreationDate\n",
              "0   11237948  ...  2012-06-28 04:08:43\n",
              "1    3967620  ...  2010-10-19 10:58:48\n",
              "2    3967661  ...  2010-10-19 11:03:01\n",
              "3   27963226  ...  2015-01-15 12:15:16\n",
              "4   27963230  ...  2015-01-15 12:15:26\n",
              "..       ...  ...                  ...\n",
              "95   3415646  ...  2010-08-05 14:22:55\n",
              "96  45599064  ...  2017-08-09 19:24:16\n",
              "97  45599114  ...  2017-08-09 19:27:00\n",
              "98  62857967  ...  2020-07-12 06:51:53\n",
              "99   3417093  ...  2010-08-05 16:48:17\n",
              "\n",
              "[2558 rows x 5 columns]"
            ]
          },
          "metadata": {},
          "execution_count": 2
        }
      ]
    },
    {
      "cell_type": "markdown",
      "metadata": {
        "id": "curQqhpfNQMx"
      },
      "source": [
        "Concatenate Body and title column and drop the creationDate"
      ]
    },
    {
      "cell_type": "code",
      "metadata": {
        "colab": {
          "base_uri": "https://localhost:8080/",
          "height": 419
        },
        "id": "yI8uI6AHnoY4",
        "outputId": "e4da2487-0c8a-425f-b35c-c66ebb048e9e"
      },
      "source": [
        "\n",
        "#data = data.drop(['Id', 'CreationDate'], axis=1)\n",
        "data.shape\n",
        "data\n",
        "X = data[\"Title\"] + data[\"Body\"]\n",
        "X\n",
        "data[\"Body\"] = pd.concat([X, data[\"Tags\"]], axis=1)\n",
        "data = data.drop([\"Title\", \"CreationDate\"], axis=1)\n",
        "data"
      ],
      "execution_count": 3,
      "outputs": [
        {
          "output_type": "execute_result",
          "data": {
            "text/html": [
              "<div>\n",
              "<style scoped>\n",
              "    .dataframe tbody tr th:only-of-type {\n",
              "        vertical-align: middle;\n",
              "    }\n",
              "\n",
              "    .dataframe tbody tr th {\n",
              "        vertical-align: top;\n",
              "    }\n",
              "\n",
              "    .dataframe thead th {\n",
              "        text-align: right;\n",
              "    }\n",
              "</style>\n",
              "<table border=\"1\" class=\"dataframe\">\n",
              "  <thead>\n",
              "    <tr style=\"text-align: right;\">\n",
              "      <th></th>\n",
              "      <th>Id</th>\n",
              "      <th>Body</th>\n",
              "      <th>Tags</th>\n",
              "    </tr>\n",
              "  </thead>\n",
              "  <tbody>\n",
              "    <tr>\n",
              "      <th>0</th>\n",
              "      <td>11237948</td>\n",
              "      <td>findHomography, getPerspectiveTransform, &amp; get...</td>\n",
              "      <td>&lt;c++&gt;&lt;opencv&gt;&lt;affinetransform&gt;&lt;homography&gt;</td>\n",
              "    </tr>\n",
              "    <tr>\n",
              "      <th>1</th>\n",
              "      <td>3967620</td>\n",
              "      <td>Member-function pointers and phantom classes&lt;p...</td>\n",
              "      <td>&lt;c++&gt;&lt;member-function-pointers&gt;&lt;phantom-refere...</td>\n",
              "    </tr>\n",
              "    <tr>\n",
              "      <th>2</th>\n",
              "      <td>3967661</td>\n",
              "      <td>error while loading shared libraries: libstdc+...</td>\n",
              "      <td>&lt;c++&gt;&lt;qt&gt;&lt;std&gt;&lt;qmake&gt;&lt;libstdc++&gt;</td>\n",
              "    </tr>\n",
              "    <tr>\n",
              "      <th>3</th>\n",
              "      <td>27963226</td>\n",
              "      <td>the bool parameter is wrong,given \"false\" ,but...</td>\n",
              "      <td>&lt;android&gt;&lt;c++&gt;&lt;android-ndk&gt;</td>\n",
              "    </tr>\n",
              "    <tr>\n",
              "      <th>4</th>\n",
              "      <td>27963230</td>\n",
              "      <td>Why Does the New C++ Standard use \"ISO/IEC 148...</td>\n",
              "      <td>&lt;c++&gt;&lt;c++14&gt;&lt;iso&gt;</td>\n",
              "    </tr>\n",
              "    <tr>\n",
              "      <th>...</th>\n",
              "      <td>...</td>\n",
              "      <td>...</td>\n",
              "      <td>...</td>\n",
              "    </tr>\n",
              "    <tr>\n",
              "      <th>95</th>\n",
              "      <td>3415646</td>\n",
              "      <td>MSQuery query changed in Excel&lt;p&gt;I have a quer...</td>\n",
              "      <td>&lt;excel&gt;&lt;excel-2003&gt;&lt;vba&gt;</td>\n",
              "    </tr>\n",
              "    <tr>\n",
              "      <th>96</th>\n",
              "      <td>45599064</td>\n",
              "      <td>How I make my Worksheet_change react after the...</td>\n",
              "      <td>&lt;excel&gt;&lt;vba&gt;</td>\n",
              "    </tr>\n",
              "    <tr>\n",
              "      <th>97</th>\n",
              "      <td>45599114</td>\n",
              "      <td>access vba update one table, multiple fields&lt;p...</td>\n",
              "      <td>&lt;sql&gt;&lt;vba&gt;&lt;ms-access&gt;</td>\n",
              "    </tr>\n",
              "    <tr>\n",
              "      <th>98</th>\n",
              "      <td>62857967</td>\n",
              "      <td>How to manually find residual/regression SS an...</td>\n",
              "      <td>&lt;excel&gt;&lt;vba&gt;&lt;statistics&gt;</td>\n",
              "    </tr>\n",
              "    <tr>\n",
              "      <th>99</th>\n",
              "      <td>3417093</td>\n",
              "      <td>Error when calling VBA function from VSTO code...</td>\n",
              "      <td>&lt;c#&gt;&lt;excel&gt;&lt;vsto&gt;&lt;excel-2007&gt;&lt;vba&gt;</td>\n",
              "    </tr>\n",
              "  </tbody>\n",
              "</table>\n",
              "<p>2558 rows × 3 columns</p>\n",
              "</div>"
            ],
            "text/plain": [
              "          Id  ...                                               Tags\n",
              "0   11237948  ...         <c++><opencv><affinetransform><homography>\n",
              "1    3967620  ...  <c++><member-function-pointers><phantom-refere...\n",
              "2    3967661  ...                   <c++><qt><std><qmake><libstdc++>\n",
              "3   27963226  ...                        <android><c++><android-ndk>\n",
              "4   27963230  ...                                  <c++><c++14><iso>\n",
              "..       ...  ...                                                ...\n",
              "95   3415646  ...                           <excel><excel-2003><vba>\n",
              "96  45599064  ...                                       <excel><vba>\n",
              "97  45599114  ...                              <sql><vba><ms-access>\n",
              "98  62857967  ...                           <excel><vba><statistics>\n",
              "99   3417093  ...                 <c#><excel><vsto><excel-2007><vba>\n",
              "\n",
              "[2558 rows x 3 columns]"
            ]
          },
          "metadata": {},
          "execution_count": 3
        }
      ]
    },
    {
      "cell_type": "markdown",
      "metadata": {
        "id": "e29VeIIUNcwu"
      },
      "source": [
        "## Target selection\n",
        "select only the tags that we want"
      ]
    },
    {
      "cell_type": "code",
      "metadata": {
        "id": "C0kPOwYsxC2S",
        "colab": {
          "base_uri": "https://localhost:8080/"
        },
        "outputId": "75563dc2-b777-4d5c-ecf8-988d984ad7b8"
      },
      "source": [
        "data[\"Tags\"]\n",
        "data[\"Tags\"].iloc[0]\n",
        "target_interest  = [\"<c#>\", \"<c++>\", \"<java>\", \"<javascript>\", \"<html>\",\"<css>\",\"<android>\", \n",
        "                    \"<python>\", \"<r>\", \"<sql>\"]\n",
        "#target_interest = list(str_.lower() for str_ in target_interest)\n",
        "print(len(target_interest))\n",
        "print(target_interest)\n"
      ],
      "execution_count": 4,
      "outputs": [
        {
          "output_type": "stream",
          "name": "stdout",
          "text": [
            "10\n",
            "['<c#>', '<c++>', '<java>', '<javascript>', '<html>', '<css>', '<android>', '<python>', '<r>', '<sql>']\n"
          ]
        }
      ]
    },
    {
      "cell_type": "code",
      "metadata": {
        "colab": {
          "base_uri": "https://localhost:8080/"
        },
        "id": "uS2z5Me-pt79",
        "outputId": "240219f1-4431-4a27-cac1-c36ba55b479e"
      },
      "source": [
        "#select only the target we are interested in\n",
        "selected_target=[]\n",
        "is_in = []\n",
        "\n",
        "for tags in data[\"Tags\"].iloc[:]:\n",
        "  #print(tags)\n",
        "  for tag in target_interest:\n",
        "    is_in.append(tag in tags)\n",
        "  \n",
        "  if any(is_in) == True:\n",
        "    #print(True)\n",
        "    selected_target.append(1)\n",
        "  else:\n",
        "    #print(False)\n",
        "    selected_target.append(0)\n",
        "\n",
        "  is_in = []\n",
        "  #for int_tags in target_interest:\n",
        "print(selected_target)"
      ],
      "execution_count": 5,
      "outputs": [
        {
          "output_type": "stream",
          "name": "stdout",
          "text": [
            "[1, 1, 1, 1, 1, 1, 1, 1, 1, 1, 1, 1, 1, 1, 1, 1, 1, 1, 1, 1, 1, 1, 1, 1, 1, 1, 1, 1, 1, 1, 1, 1, 1, 1, 1, 1, 1, 1, 1, 1, 1, 1, 1, 1, 1, 1, 1, 1, 1, 1, 1, 1, 1, 1, 1, 1, 1, 1, 1, 1, 1, 1, 1, 1, 1, 1, 1, 1, 1, 1, 1, 1, 1, 1, 1, 1, 1, 1, 1, 1, 1, 1, 1, 1, 1, 1, 1, 1, 1, 1, 1, 1, 1, 1, 1, 1, 1, 1, 1, 1, 1, 1, 1, 1, 1, 1, 1, 1, 1, 1, 1, 1, 1, 1, 1, 1, 1, 1, 1, 1, 1, 1, 1, 1, 1, 1, 1, 1, 1, 1, 1, 1, 1, 1, 1, 1, 1, 1, 1, 1, 1, 1, 1, 1, 1, 1, 1, 1, 1, 1, 1, 1, 1, 1, 1, 1, 1, 1, 1, 1, 1, 1, 1, 1, 1, 1, 1, 1, 1, 1, 1, 1, 1, 1, 1, 1, 1, 1, 1, 1, 1, 1, 1, 1, 1, 1, 1, 1, 1, 1, 1, 1, 1, 1, 1, 1, 1, 1, 1, 0, 0, 0, 0, 0, 0, 0, 0, 0, 0, 0, 0, 0, 0, 0, 0, 0, 0, 0, 0, 0, 0, 1, 0, 0, 0, 1, 0, 0, 0, 0, 0, 0, 0, 0, 0, 0, 0, 0, 0, 0, 0, 0, 0, 0, 0, 0, 0, 0, 0, 0, 0, 0, 0, 0, 0, 0, 0, 0, 0, 0, 0, 0, 0, 0, 0, 0, 0, 0, 0, 0, 0, 0, 0, 0, 0, 0, 0, 0, 1, 1, 0, 0, 1, 0, 0, 0, 0, 0, 0, 0, 0, 0, 1, 0, 0, 0, 0, 0, 0, 0, 0, 0, 1, 1, 0, 0, 0, 0, 0, 0, 0, 0, 0, 1, 0, 0, 0, 0, 1, 1, 1, 1, 0, 0, 0, 0, 0, 0, 0, 0, 0, 0, 0, 1, 1, 0, 0, 0, 0, 0, 0, 1, 0, 0, 0, 0, 1, 0, 0, 1, 0, 0, 0, 0, 0, 1, 0, 0, 0, 0, 1, 0, 0, 0, 0, 0, 1, 1, 1, 0, 0, 1, 0, 0, 0, 0, 0, 0, 0, 0, 0, 0, 0, 0, 1, 1, 0, 0, 0, 0, 1, 0, 1, 0, 0, 1, 0, 0, 1, 0, 0, 0, 0, 0, 0, 0, 0, 0, 0, 0, 0, 0, 0, 0, 0, 0, 0, 0, 0, 0, 0, 0, 0, 0, 0, 0, 0, 0, 0, 0, 0, 0, 0, 0, 0, 0, 0, 1, 0, 0, 0, 0, 0, 0, 0, 0, 0, 0, 0, 0, 0, 0, 0, 0, 0, 0, 0, 0, 0, 0, 0, 0, 1, 0, 0, 0, 0, 0, 0, 0, 0, 0, 0, 0, 0, 0, 0, 0, 0, 0, 0, 0, 0, 0, 0, 0, 0, 0, 0, 1, 0, 0, 0, 0, 0, 0, 0, 0, 0, 1, 1, 1, 1, 1, 1, 1, 1, 1, 1, 1, 1, 1, 1, 1, 1, 1, 1, 1, 1, 1, 1, 1, 1, 1, 1, 1, 1, 1, 1, 1, 1, 1, 1, 1, 1, 1, 1, 1, 1, 1, 1, 1, 1, 1, 1, 1, 1, 1, 1, 1, 1, 1, 1, 1, 1, 1, 1, 1, 1, 1, 1, 1, 1, 1, 1, 1, 1, 1, 1, 1, 1, 1, 1, 1, 1, 1, 1, 1, 1, 1, 1, 1, 1, 1, 1, 1, 1, 1, 1, 1, 1, 1, 1, 1, 1, 1, 1, 1, 1, 1, 1, 1, 1, 1, 1, 1, 1, 1, 1, 1, 1, 1, 1, 1, 1, 1, 1, 1, 1, 1, 1, 1, 1, 1, 1, 1, 1, 1, 1, 1, 1, 1, 1, 1, 1, 1, 1, 1, 1, 1, 1, 1, 1, 1, 1, 1, 1, 1, 1, 1, 1, 1, 1, 1, 1, 1, 1, 1, 1, 1, 1, 1, 1, 1, 1, 1, 1, 1, 1, 1, 1, 1, 1, 1, 1, 1, 1, 1, 1, 1, 1, 1, 1, 1, 1, 1, 1, 1, 1, 1, 1, 1, 1, 1, 1, 1, 0, 0, 0, 0, 0, 0, 0, 0, 0, 0, 0, 0, 0, 0, 0, 0, 0, 0, 0, 0, 0, 0, 0, 0, 0, 0, 0, 0, 0, 0, 0, 0, 0, 0, 0, 0, 0, 0, 0, 0, 0, 0, 0, 0, 0, 0, 0, 0, 0, 0, 0, 0, 0, 0, 0, 1, 0, 0, 0, 0, 0, 0, 1, 0, 0, 0, 0, 0, 0, 0, 0, 0, 0, 0, 0, 0, 0, 0, 0, 0, 0, 0, 0, 0, 0, 0, 0, 0, 0, 0, 0, 0, 0, 0, 0, 0, 0, 0, 0, 0, 1, 1, 1, 1, 1, 1, 1, 1, 1, 1, 1, 1, 1, 1, 1, 1, 1, 1, 1, 1, 1, 1, 1, 1, 1, 1, 1, 1, 1, 1, 1, 1, 1, 1, 1, 1, 1, 1, 1, 1, 1, 1, 1, 1, 1, 1, 1, 1, 1, 1, 1, 1, 1, 1, 1, 1, 1, 1, 1, 1, 1, 1, 1, 1, 1, 1, 1, 1, 1, 1, 1, 1, 1, 1, 1, 1, 1, 1, 1, 1, 1, 1, 1, 1, 1, 1, 1, 1, 1, 1, 1, 1, 1, 1, 1, 1, 1, 1, 0, 0, 0, 1, 0, 0, 0, 1, 0, 0, 0, 1, 0, 1, 0, 1, 0, 0, 0, 0, 0, 0, 0, 0, 0, 1, 1, 0, 1, 1, 1, 1, 0, 0, 0, 0, 1, 0, 0, 0, 1, 0, 0, 0, 0, 1, 0, 0, 0, 0, 1, 1, 0, 1, 0, 0, 1, 1, 0, 0, 0, 1, 0, 0, 0, 1, 1, 0, 0, 0, 1, 1, 0, 1, 0, 1, 0, 1, 0, 0, 0, 0, 0, 0, 0, 1, 0, 0, 0, 0, 0, 0, 0, 0, 1, 0, 1, 1, 1, 0, 0, 0, 0, 0, 0, 0, 0, 0, 0, 0, 0, 0, 0, 0, 0, 0, 0, 0, 0, 0, 0, 0, 0, 0, 0, 0, 0, 0, 0, 0, 0, 0, 0, 0, 0, 0, 0, 0, 0, 0, 0, 0, 0, 0, 0, 0, 0, 0, 0, 0, 0, 0, 0, 0, 0, 0, 0, 0, 0, 0, 0, 0, 0, 0, 0, 0, 0, 0, 0, 0, 0, 0, 0, 0, 0, 0, 0, 0, 0, 0, 0, 0, 0, 0, 0, 0, 0, 0, 0, 0, 0, 0, 0, 0, 1, 1, 1, 1, 1, 1, 1, 1, 1, 1, 1, 1, 1, 1, 1, 1, 1, 1, 1, 1, 1, 1, 1, 1, 1, 1, 1, 1, 1, 1, 1, 1, 1, 1, 1, 1, 1, 1, 1, 1, 1, 1, 1, 1, 1, 1, 1, 1, 1, 1, 1, 1, 1, 1, 1, 1, 1, 1, 1, 1, 1, 1, 1, 1, 1, 1, 1, 1, 1, 1, 1, 1, 1, 1, 1, 1, 1, 1, 1, 1, 1, 1, 1, 1, 1, 1, 1, 1, 1, 1, 1, 1, 1, 1, 1, 1, 1, 1, 1, 1, 0, 0, 0, 0, 0, 0, 0, 0, 0, 0, 0, 0, 0, 0, 0, 0, 0, 0, 0, 0, 0, 0, 0, 0, 0, 0, 0, 0, 0, 0, 1, 0, 0, 0, 0, 0, 0, 0, 0, 0, 0, 0, 0, 0, 0, 0, 0, 0, 0, 0, 0, 0, 0, 0, 0, 1, 0, 0, 0, 0, 0, 0, 0, 0, 0, 0, 0, 0, 0, 1, 0, 0, 0, 0, 0, 0, 0, 0, 0, 0, 0, 0, 0, 0, 0, 0, 0, 0, 0, 0, 0, 0, 0, 0, 0, 0, 0, 0, 0, 0, 1, 0, 0, 0, 0, 0, 0, 0, 0, 0, 0, 0, 1, 0, 1, 1, 0, 0, 0, 0, 0, 0, 0, 0, 0, 0, 0, 0, 1, 0, 0, 1, 0, 0, 0, 0, 0, 0, 0, 0, 0, 1, 0, 0, 0, 0, 0, 0, 0, 0, 1, 0, 0, 0, 0, 0, 0, 0, 0, 0, 1, 1, 0, 0, 1, 0, 0, 0, 1, 0, 0, 1, 1, 0, 1, 0, 1, 0, 0, 0, 0, 0, 0, 0, 0, 0, 0, 0, 0, 0, 0, 1, 0, 0, 0, 0, 0, 0, 0, 1, 1, 1, 1, 1, 1, 1, 1, 1, 1, 1, 1, 1, 1, 1, 1, 1, 1, 1, 1, 1, 1, 1, 1, 1, 1, 1, 1, 1, 1, 1, 1, 1, 1, 1, 1, 1, 1, 1, 1, 1, 1, 1, 1, 1, 1, 1, 1, 1, 1, 1, 1, 1, 1, 1, 1, 1, 1, 1, 1, 1, 1, 1, 1, 1, 1, 1, 1, 1, 1, 1, 1, 1, 1, 1, 1, 1, 1, 1, 1, 1, 1, 1, 1, 1, 1, 1, 1, 1, 1, 1, 1, 1, 1, 1, 1, 1, 1, 1, 1, 1, 1, 1, 1, 1, 1, 1, 1, 1, 1, 1, 1, 1, 1, 1, 1, 1, 1, 1, 1, 1, 1, 1, 1, 1, 1, 1, 1, 1, 1, 1, 1, 1, 1, 1, 1, 1, 1, 1, 1, 1, 1, 1, 1, 1, 1, 1, 1, 1, 1, 1, 1, 1, 1, 1, 1, 1, 1, 1, 1, 1, 1, 1, 1, 1, 1, 1, 1, 1, 1, 1, 1, 1, 1, 1, 1, 1, 1, 1, 1, 1, 1, 1, 1, 1, 1, 1, 1, 1, 1, 1, 1, 1, 1, 1, 1, 1, 1, 1, 1, 1, 1, 1, 1, 1, 1, 1, 1, 1, 1, 1, 1, 1, 1, 1, 1, 1, 1, 1, 1, 1, 1, 1, 1, 1, 0, 0, 0, 1, 0, 0, 1, 1, 0, 1, 0, 0, 1, 1, 1, 1, 0, 0, 1, 1, 1, 0, 1, 1, 0, 1, 0, 0, 1, 1, 1, 1, 0, 1, 0, 1, 0, 0, 1, 0, 1, 1, 0, 0, 0, 0, 1, 1, 1, 1, 0, 0, 1, 1, 1, 0, 0, 0, 1, 0, 1, 1, 0, 0, 0, 0, 0, 1, 0, 1, 0, 1, 1, 1, 0, 0, 0, 0, 1, 1, 1, 1, 0, 1, 1, 0, 0, 0, 0, 0, 0, 1, 1, 1, 0, 0, 0, 1, 1, 1, 0, 1, 0, 0, 0, 0, 0, 0, 0, 0, 0, 0, 0, 0, 1, 0, 0, 0, 0, 0, 0, 0, 0, 0, 0, 0, 0, 0, 0, 1, 0, 0, 0, 0, 1, 1, 1, 0, 0, 0, 0, 0, 0, 0, 0, 0, 0, 0, 0, 0, 0, 0, 0, 0, 0, 1, 0, 0, 0, 0, 1, 0, 0, 0, 0, 0, 1, 0, 0, 0, 0, 1, 0, 1, 0, 0, 1, 0, 1, 0, 0, 0, 0, 0, 0, 0, 0, 0, 1, 0, 0, 0, 0, 0, 1, 1, 0, 0, 0, 0, 0, 1, 0, 0, 0, 0, 0, 0, 1, 0, 0, 0, 0, 0, 0, 0, 0, 1, 0, 0, 0, 0, 1, 0, 0, 1, 0, 0, 0, 0, 1, 0, 0, 0, 0, 0, 0, 0, 0, 0, 0, 0, 0, 0, 0, 1, 1, 0, 0, 0, 0, 1, 0, 0, 0, 0, 0, 0, 0, 1, 0, 0, 1, 0, 0, 0, 0, 0, 0, 0, 0, 0, 0, 0, 0, 0, 0, 0, 1, 0, 0, 1, 0, 0, 0, 0, 0, 0, 0, 0, 0, 0, 0, 0, 1, 0, 0, 0, 0, 0, 0, 0, 0, 0, 0, 0, 0, 0, 0, 0, 0, 0, 0, 0, 0, 0, 0, 0, 0, 0, 0, 0, 0, 0, 0, 0, 0, 0, 0, 0, 0, 0, 0, 0, 0, 0, 0, 0, 0, 0, 0, 0, 0, 0, 0, 0, 0, 0, 0, 0, 0, 0, 0, 0, 0, 1, 0, 0, 0, 0, 0, 0, 0, 0, 0, 0, 0, 0, 0, 0, 0, 0, 0, 0, 1, 0, 0, 0, 1, 1, 1, 1, 1, 1, 1, 1, 1, 1, 1, 1, 1, 1, 1, 1, 1, 1, 1, 1, 1, 1, 1, 1, 1, 1, 1, 1, 1, 1, 1, 1, 1, 1, 1, 1, 1, 1, 1, 1, 1, 1, 1, 1, 1, 1, 1, 1, 1, 1, 1, 1, 1, 1, 1, 1, 1, 1, 1, 1, 1, 1, 1, 1, 1, 1, 1, 1, 1, 1, 1, 1, 1, 1, 1, 1, 1, 1, 1, 1, 1, 1, 0, 0, 0, 0, 1, 0, 0, 0, 0, 0, 0, 0, 0, 0, 0, 1, 0, 0, 1, 0, 0, 0, 0, 0, 0, 0, 0, 0, 1, 1, 0, 1, 0, 0, 0, 1, 0, 0, 0, 1, 0, 1, 0, 0, 1, 0, 0, 0, 0, 0, 0, 0, 1, 0, 1, 0, 0, 1, 1, 0, 0, 0, 0, 0, 0, 0, 1, 0, 0, 0, 0, 0, 0, 0, 1, 1, 0, 0, 0, 0, 0, 1, 1, 0, 0, 0, 0, 1, 0, 0, 0, 1, 1, 0, 1, 0, 1, 0, 1, 0, 0, 0, 0, 0, 0, 0, 0, 0, 0, 0, 0, 0, 0, 0, 0, 0, 0, 0, 0, 0, 0, 0, 0, 0, 0, 0, 0, 0, 0, 0, 0, 0, 0, 0, 0, 0, 0, 0, 0, 0, 0, 0, 0, 0, 1, 0, 0, 0, 0, 0, 0, 0, 0, 1, 0, 0, 1, 0, 0, 0, 0, 0, 0, 0, 0, 0, 0, 0, 0, 0, 0, 0, 0, 0, 1, 0, 0, 0, 0, 0, 0, 0, 0, 1, 0, 0, 0, 0, 0, 0, 0, 0, 1, 0, 0, 0, 0, 0, 0, 0, 0, 0, 0, 0, 0, 0, 0, 0, 0, 0, 0, 0, 1, 1, 0, 0, 0, 0, 0, 0, 0, 0, 0, 0, 0, 0, 0, 0, 0, 0, 0, 0, 0, 0, 0, 0, 0, 0, 0, 0, 0, 1, 0, 0, 0, 0, 0, 0, 0, 0, 0, 0, 0, 0, 0, 0, 0, 0, 0, 0, 0, 0, 0, 0, 0, 0, 0, 0, 0, 0, 0, 1, 0, 0, 0, 0, 0, 0, 1, 0, 0, 0, 0, 0, 0, 0, 0, 0, 0, 0, 0, 0, 0, 0, 0, 0, 0, 0, 0, 0, 0, 0, 0, 1, 0, 0, 0, 0, 0, 0, 0, 0, 0, 0, 0, 0, 0, 0, 0, 0, 0, 0, 0, 0, 0, 0, 0, 1, 0, 0, 0, 0, 0, 0, 0, 1, 0, 0, 0, 0, 0, 0, 0, 0, 0, 0, 0, 0, 0, 0, 0, 0, 0, 0, 0, 0, 0, 0, 0, 0, 0, 0, 0, 0, 0, 0, 0, 0, 0, 0, 0, 0, 0, 0, 0, 0, 0, 1, 0, 0, 0, 0, 0, 0, 0, 0, 0, 0, 0, 0, 0, 0, 0, 0, 0, 0, 0, 0, 0, 0, 0, 0, 0, 0, 0, 0, 0, 0, 0, 0, 0, 0, 0, 0, 0, 0, 0, 0, 0, 1, 1, 0, 0, 0, 0, 0, 0, 1, 0, 0, 0, 0, 0, 0, 0, 0, 0, 0, 0, 0, 0, 0, 1, 0, 0, 0, 0, 0, 0, 0, 0, 0, 0, 0, 0, 0, 0, 0, 0, 0, 0, 0, 0, 0, 0, 0, 0, 0, 0, 0, 0, 0, 0, 0, 0, 0, 0, 1, 0, 0, 0, 0, 0, 1, 0, 1]\n"
          ]
        }
      ]
    },
    {
      "cell_type": "code",
      "metadata": {
        "colab": {
          "base_uri": "https://localhost:8080/",
          "height": 437
        },
        "id": "LTi8vmtVtReh",
        "outputId": "706766fa-dca6-43e8-f052-a7ce390f7028"
      },
      "source": [
        "print(len(selected_target))\n",
        "data[\"interest\"] = selected_target\n",
        "data"
      ],
      "execution_count": 6,
      "outputs": [
        {
          "output_type": "stream",
          "name": "stdout",
          "text": [
            "2558\n"
          ]
        },
        {
          "output_type": "execute_result",
          "data": {
            "text/html": [
              "<div>\n",
              "<style scoped>\n",
              "    .dataframe tbody tr th:only-of-type {\n",
              "        vertical-align: middle;\n",
              "    }\n",
              "\n",
              "    .dataframe tbody tr th {\n",
              "        vertical-align: top;\n",
              "    }\n",
              "\n",
              "    .dataframe thead th {\n",
              "        text-align: right;\n",
              "    }\n",
              "</style>\n",
              "<table border=\"1\" class=\"dataframe\">\n",
              "  <thead>\n",
              "    <tr style=\"text-align: right;\">\n",
              "      <th></th>\n",
              "      <th>Id</th>\n",
              "      <th>Body</th>\n",
              "      <th>Tags</th>\n",
              "      <th>interest</th>\n",
              "    </tr>\n",
              "  </thead>\n",
              "  <tbody>\n",
              "    <tr>\n",
              "      <th>0</th>\n",
              "      <td>11237948</td>\n",
              "      <td>findHomography, getPerspectiveTransform, &amp; get...</td>\n",
              "      <td>&lt;c++&gt;&lt;opencv&gt;&lt;affinetransform&gt;&lt;homography&gt;</td>\n",
              "      <td>1</td>\n",
              "    </tr>\n",
              "    <tr>\n",
              "      <th>1</th>\n",
              "      <td>3967620</td>\n",
              "      <td>Member-function pointers and phantom classes&lt;p...</td>\n",
              "      <td>&lt;c++&gt;&lt;member-function-pointers&gt;&lt;phantom-refere...</td>\n",
              "      <td>1</td>\n",
              "    </tr>\n",
              "    <tr>\n",
              "      <th>2</th>\n",
              "      <td>3967661</td>\n",
              "      <td>error while loading shared libraries: libstdc+...</td>\n",
              "      <td>&lt;c++&gt;&lt;qt&gt;&lt;std&gt;&lt;qmake&gt;&lt;libstdc++&gt;</td>\n",
              "      <td>1</td>\n",
              "    </tr>\n",
              "    <tr>\n",
              "      <th>3</th>\n",
              "      <td>27963226</td>\n",
              "      <td>the bool parameter is wrong,given \"false\" ,but...</td>\n",
              "      <td>&lt;android&gt;&lt;c++&gt;&lt;android-ndk&gt;</td>\n",
              "      <td>1</td>\n",
              "    </tr>\n",
              "    <tr>\n",
              "      <th>4</th>\n",
              "      <td>27963230</td>\n",
              "      <td>Why Does the New C++ Standard use \"ISO/IEC 148...</td>\n",
              "      <td>&lt;c++&gt;&lt;c++14&gt;&lt;iso&gt;</td>\n",
              "      <td>1</td>\n",
              "    </tr>\n",
              "    <tr>\n",
              "      <th>...</th>\n",
              "      <td>...</td>\n",
              "      <td>...</td>\n",
              "      <td>...</td>\n",
              "      <td>...</td>\n",
              "    </tr>\n",
              "    <tr>\n",
              "      <th>95</th>\n",
              "      <td>3415646</td>\n",
              "      <td>MSQuery query changed in Excel&lt;p&gt;I have a quer...</td>\n",
              "      <td>&lt;excel&gt;&lt;excel-2003&gt;&lt;vba&gt;</td>\n",
              "      <td>0</td>\n",
              "    </tr>\n",
              "    <tr>\n",
              "      <th>96</th>\n",
              "      <td>45599064</td>\n",
              "      <td>How I make my Worksheet_change react after the...</td>\n",
              "      <td>&lt;excel&gt;&lt;vba&gt;</td>\n",
              "      <td>0</td>\n",
              "    </tr>\n",
              "    <tr>\n",
              "      <th>97</th>\n",
              "      <td>45599114</td>\n",
              "      <td>access vba update one table, multiple fields&lt;p...</td>\n",
              "      <td>&lt;sql&gt;&lt;vba&gt;&lt;ms-access&gt;</td>\n",
              "      <td>1</td>\n",
              "    </tr>\n",
              "    <tr>\n",
              "      <th>98</th>\n",
              "      <td>62857967</td>\n",
              "      <td>How to manually find residual/regression SS an...</td>\n",
              "      <td>&lt;excel&gt;&lt;vba&gt;&lt;statistics&gt;</td>\n",
              "      <td>0</td>\n",
              "    </tr>\n",
              "    <tr>\n",
              "      <th>99</th>\n",
              "      <td>3417093</td>\n",
              "      <td>Error when calling VBA function from VSTO code...</td>\n",
              "      <td>&lt;c#&gt;&lt;excel&gt;&lt;vsto&gt;&lt;excel-2007&gt;&lt;vba&gt;</td>\n",
              "      <td>1</td>\n",
              "    </tr>\n",
              "  </tbody>\n",
              "</table>\n",
              "<p>2558 rows × 4 columns</p>\n",
              "</div>"
            ],
            "text/plain": [
              "          Id  ... interest\n",
              "0   11237948  ...        1\n",
              "1    3967620  ...        1\n",
              "2    3967661  ...        1\n",
              "3   27963226  ...        1\n",
              "4   27963230  ...        1\n",
              "..       ...  ...      ...\n",
              "95   3415646  ...        0\n",
              "96  45599064  ...        0\n",
              "97  45599114  ...        1\n",
              "98  62857967  ...        0\n",
              "99   3417093  ...        1\n",
              "\n",
              "[2558 rows x 4 columns]"
            ]
          },
          "metadata": {},
          "execution_count": 6
        }
      ]
    },
    {
      "cell_type": "code",
      "metadata": {
        "colab": {
          "base_uri": "https://localhost:8080/",
          "height": 419
        },
        "id": "pYOgpJjFtL_k",
        "outputId": "16d65797-20f2-42d4-abbe-ca69ec996b49"
      },
      "source": [
        "data =data[data.interest != 0]\n",
        "data = data.drop(\"interest\", axis = 1)\n",
        "data"
      ],
      "execution_count": 7,
      "outputs": [
        {
          "output_type": "execute_result",
          "data": {
            "text/html": [
              "<div>\n",
              "<style scoped>\n",
              "    .dataframe tbody tr th:only-of-type {\n",
              "        vertical-align: middle;\n",
              "    }\n",
              "\n",
              "    .dataframe tbody tr th {\n",
              "        vertical-align: top;\n",
              "    }\n",
              "\n",
              "    .dataframe thead th {\n",
              "        text-align: right;\n",
              "    }\n",
              "</style>\n",
              "<table border=\"1\" class=\"dataframe\">\n",
              "  <thead>\n",
              "    <tr style=\"text-align: right;\">\n",
              "      <th></th>\n",
              "      <th>Id</th>\n",
              "      <th>Body</th>\n",
              "      <th>Tags</th>\n",
              "    </tr>\n",
              "  </thead>\n",
              "  <tbody>\n",
              "    <tr>\n",
              "      <th>0</th>\n",
              "      <td>11237948</td>\n",
              "      <td>findHomography, getPerspectiveTransform, &amp; get...</td>\n",
              "      <td>&lt;c++&gt;&lt;opencv&gt;&lt;affinetransform&gt;&lt;homography&gt;</td>\n",
              "    </tr>\n",
              "    <tr>\n",
              "      <th>1</th>\n",
              "      <td>3967620</td>\n",
              "      <td>Member-function pointers and phantom classes&lt;p...</td>\n",
              "      <td>&lt;c++&gt;&lt;member-function-pointers&gt;&lt;phantom-refere...</td>\n",
              "    </tr>\n",
              "    <tr>\n",
              "      <th>2</th>\n",
              "      <td>3967661</td>\n",
              "      <td>error while loading shared libraries: libstdc+...</td>\n",
              "      <td>&lt;c++&gt;&lt;qt&gt;&lt;std&gt;&lt;qmake&gt;&lt;libstdc++&gt;</td>\n",
              "    </tr>\n",
              "    <tr>\n",
              "      <th>3</th>\n",
              "      <td>27963226</td>\n",
              "      <td>the bool parameter is wrong,given \"false\" ,but...</td>\n",
              "      <td>&lt;android&gt;&lt;c++&gt;&lt;android-ndk&gt;</td>\n",
              "    </tr>\n",
              "    <tr>\n",
              "      <th>4</th>\n",
              "      <td>27963230</td>\n",
              "      <td>Why Does the New C++ Standard use \"ISO/IEC 148...</td>\n",
              "      <td>&lt;c++&gt;&lt;c++14&gt;&lt;iso&gt;</td>\n",
              "    </tr>\n",
              "    <tr>\n",
              "      <th>...</th>\n",
              "      <td>...</td>\n",
              "      <td>...</td>\n",
              "      <td>...</td>\n",
              "    </tr>\n",
              "    <tr>\n",
              "      <th>41</th>\n",
              "      <td>3398072</td>\n",
              "      <td>python: is there a frequency function?&lt;p&gt;in ex...</td>\n",
              "      <td>&lt;python&gt;&lt;excel&gt;&lt;vba&gt;</td>\n",
              "    </tr>\n",
              "    <tr>\n",
              "      <th>56</th>\n",
              "      <td>54054315</td>\n",
              "      <td>VBA HTML Navigate Through Listings&lt;p&gt;I've got ...</td>\n",
              "      <td>&lt;html&gt;&lt;excel&gt;&lt;vba&gt;&lt;web-scraping&gt;</td>\n",
              "    </tr>\n",
              "    <tr>\n",
              "      <th>91</th>\n",
              "      <td>3414023</td>\n",
              "      <td>iterate over database query results in vba in ...</td>\n",
              "      <td>&lt;sql&gt;&lt;excel&gt;&lt;vba&gt;&lt;cell&gt;</td>\n",
              "    </tr>\n",
              "    <tr>\n",
              "      <th>97</th>\n",
              "      <td>45599114</td>\n",
              "      <td>access vba update one table, multiple fields&lt;p...</td>\n",
              "      <td>&lt;sql&gt;&lt;vba&gt;&lt;ms-access&gt;</td>\n",
              "    </tr>\n",
              "    <tr>\n",
              "      <th>99</th>\n",
              "      <td>3417093</td>\n",
              "      <td>Error when calling VBA function from VSTO code...</td>\n",
              "      <td>&lt;c#&gt;&lt;excel&gt;&lt;vsto&gt;&lt;excel-2007&gt;&lt;vba&gt;</td>\n",
              "    </tr>\n",
              "  </tbody>\n",
              "</table>\n",
              "<p>1117 rows × 3 columns</p>\n",
              "</div>"
            ],
            "text/plain": [
              "          Id  ...                                               Tags\n",
              "0   11237948  ...         <c++><opencv><affinetransform><homography>\n",
              "1    3967620  ...  <c++><member-function-pointers><phantom-refere...\n",
              "2    3967661  ...                   <c++><qt><std><qmake><libstdc++>\n",
              "3   27963226  ...                        <android><c++><android-ndk>\n",
              "4   27963230  ...                                  <c++><c++14><iso>\n",
              "..       ...  ...                                                ...\n",
              "41   3398072  ...                               <python><excel><vba>\n",
              "56  54054315  ...                   <html><excel><vba><web-scraping>\n",
              "91   3414023  ...                            <sql><excel><vba><cell>\n",
              "97  45599114  ...                              <sql><vba><ms-access>\n",
              "99   3417093  ...                 <c#><excel><vsto><excel-2007><vba>\n",
              "\n",
              "[1117 rows x 3 columns]"
            ]
          },
          "metadata": {},
          "execution_count": 7
        }
      ]
    },
    {
      "cell_type": "markdown",
      "metadata": {
        "id": "jJu4wUCtN3hs"
      },
      "source": [
        "#II - Clean all corpus\n"
      ]
    },
    {
      "cell_type": "code",
      "metadata": {
        "colab": {
          "base_uri": "https://localhost:8080/",
          "height": 124
        },
        "id": "yOUmS26gQio6",
        "outputId": "72098b7a-b495-4c2a-ee00-2b4e6cbca063"
      },
      "source": [
        "data['Body'] = data['Body'].apply(pts.preprocess) #<--- Really important line ! 18min execution\n",
        "\n",
        "data['Body'].iloc[-1]"
      ],
      "execution_count": 8,
      "outputs": [
        {
          "output_type": "execute_result",
          "data": {
            "application/vnd.google.colaboratory.intrinsic+json": {
              "type": "string"
            },
            "text/plain": [
              "'error call vba function vsto codei follow vba code modul one xlt file public sub setshapetopbyv shapenam As string byval topvalu As singl thisworkbookactivesheetshapesshapenametop topvalu end sub In vsto addin I follow C code tri call vba function mworksheetapplicationrunsetshapetop kvkey kvvalu typemiss typemiss typemiss typemiss typemiss typemiss typemiss typemiss typemiss typemiss typemiss typemiss typemiss typemiss typemiss typemiss typemiss typemiss typemiss typemiss typemiss typemiss typemiss typemiss typemiss typemiss typemiss typemiss that line throw except follow excerpt log net log except comexcept target cluster report invok method macro execut target method cluster report paramet messag can run macro setshapetop the macro may avail workbook macro may disabl stack trace server stack trace except rethrown systemruntimeremotingproxiesrealproxyhandlereturnmessageimessag reqmsg imessag retmsg systemruntimeremotingproxiesrealproxyprivateinvokemessagedataamp msgdata int type microsoftofficeinteropexcelapplicationrunobject macro object arg object arg object arg object arg object arg object arg object arg object arg object arg object arg object arg object arg object arg object arg object arg object arg object arg object arg object arg object arg object arg object arg object arg object arg object arg object arg object arg object arg object arg object arg msaexcelclusterpresenterrenderreportireportdata reportdata iresponsereportparamet reportparam worksheet worksheet cworkspacemsabasketlink msalibraryuipresentationclusterpresentercslin Am I miss someth If anyon point right direct Id realli appreci'"
            ]
          },
          "metadata": {},
          "execution_count": 8
        }
      ]
    },
    {
      "cell_type": "code",
      "metadata": {
        "id": "SqTl0kwgNKSt"
      },
      "source": [
        ""
      ],
      "execution_count": 8,
      "outputs": []
    },
    {
      "cell_type": "code",
      "metadata": {
        "id": "whRWx0_AoVY5"
      },
      "source": [
        "#save the datafram on drive\n",
        "import pickle\n",
        "pickle_out = open(\"/content/drive/MyDrive/Etudes/IA/stackoverflow_/dataframe_top14.pickle\",\"wb\")\n",
        "pickle.dump(data, pickle_out)\n",
        "pickle_out.close()"
      ],
      "execution_count": 9,
      "outputs": []
    },
    {
      "cell_type": "code",
      "metadata": {
        "id": "41ixi7DNEfJo"
      },
      "source": [
        ""
      ],
      "execution_count": 9,
      "outputs": []
    }
  ]
}