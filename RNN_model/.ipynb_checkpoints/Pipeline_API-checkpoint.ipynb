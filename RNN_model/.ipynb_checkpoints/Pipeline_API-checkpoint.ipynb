{
 "cells": [
  {
   "cell_type": "code",
   "execution_count": 57,
   "id": "827fb5b2",
   "metadata": {
    "ExecuteTime": {
     "end_time": "2021-10-25T20:54:07.057681Z",
     "start_time": "2021-10-25T20:54:07.046684Z"
    }
   },
   "outputs": [],
   "source": [
    "from tensorflow import keras\n",
    "import preprocess_tools as pts\n",
    "import pandas as pd\n",
    "#!pip install dataframe-image\n",
    "import dataframe_image as dfi\n",
    "import pickle\n",
    "def pipeline(data, path_to_model, multilabelbinarizer):\n",
    "    \"\"\"\n",
    "    load model cand compute prediction\n",
    "    \"\"\"\n",
    "    data[\"Body\"]  = data[\"Title\"] + data[\"Body\"]\n",
    "    data = data.drop([\"Title\", \"CreationDate\"], axis=1)\n",
    "    print(\"input data shape\\n\",data.head())\n",
    "    \n",
    "    \n",
    "    data['Body'] = data['Body'].apply(pts.preprocess) \n",
    "    \n",
    "    print(\"...preprocessed\")\n",
    "    path_to_tokenizer = \"./Data_preparation_notebook/top11_tokenizer.pickle\"\n",
    "    pickle_in = open(path_to_tokenizer,\"rb\")\n",
    "    tokenizer = pickle.load(pickle_in)\n",
    "    print(\"...word to sequence\")\n",
    "    X_unknown = tokenizer.texts_to_sequences(data[\"Body\"])\n",
    "    X_unknown = keras.preprocessing.sequence.pad_sequences(X_unknown)\n",
    "    \n",
    "    \n",
    "    #path_to_model = \"./SavedModel/RNN_V2_nb_epochs_30/\"\n",
    "    model = keras.models.load_model(path_to_model)\n",
    "    print(\"... model sucessfully loaded\")\n",
    "    y = model.predict(X_unknown)\n",
    "    predictions = np.round(y)\n",
    "\n",
    "    for i in range(predictions.shape[0]):\n",
    "        arr = predictions[i]\n",
    "        if sum(arr) == 0:\n",
    "            predictions[i,np.argmax(y[i])] =1\n",
    "    print(predictions.shape)\n",
    "    predictions_df = pd.DataFrame(predictions,\n",
    "                   columns=['<android>', '<c#>', '<c++>', '<css>', '<html>', '<java>', '<javascript>',\n",
    "                    '<python>', '<r>', '<sql>'])\n",
    "    \n",
    "    dfi.export(predictions_df, 'dataframe.png')\n",
    "    return predictions_df\n"
   ]
  },
  {
   "cell_type": "code",
   "execution_count": 58,
   "id": "b5cc1b95",
   "metadata": {
    "ExecuteTime": {
     "end_time": "2021-10-25T20:54:19.408546Z",
     "start_time": "2021-10-25T20:54:13.322630Z"
    }
   },
   "outputs": [
    {
     "name": "stderr",
     "output_type": "stream",
     "text": [
      "C:\\Users\\Arnaud\\anaconda3\\envs\\tf_2.6\\lib\\site-packages\\sklearn\\base.py:324: UserWarning: Trying to unpickle estimator MultiLabelBinarizer from version 0.22.2.post1 when using version 1.0. This might lead to breaking code or invalid results. Use at your own risk. For more info please refer to:\n",
      "https://scikit-learn.org/stable/modules/model_persistence.html#security-maintainability-limitations\n",
      "  warnings.warn(\n"
     ]
    },
    {
     "name": "stdout",
     "output_type": "stream",
     "text": [
      "input data shape\n",
      "          Id                                               Body  \\\n",
      "0  36920138  json Array Parsing using Gson<p>i have the fol...   \n",
      "1  11237936  Mobile Web - Disable long-touch/taphold text s...   \n",
      "2  51964390  Get camera zoomlevel from googlemaps in Kotlin...   \n",
      "3  25812055  Android Wear BoxInsetLayout isRound always ret...   \n",
      "4  17728266  how to call a user defined method in a custom ...   \n",
      "\n",
      "                                        Tags  \n",
      "0             <android><json><parsing><gson>  \n",
      "1  <android><iphone><css><mobile><highlight>  \n",
      "2             <android><google-maps><kotlin>  \n",
      "3             <android><android-ui><wear-os>  \n",
      "4                                  <android>  \n",
      "...preprocessed\n",
      "...word to sequence\n",
      "WARNING:tensorflow:Layer lstm will not use cuDNN kernels since it doesn't meet the criteria. It will use a generic GPU kernel as fallback when running on GPU.\n",
      "... model sucessfully loaded\n",
      "WARNING:tensorflow:Model was constructed with shape (None, 1270) for input KerasTensor(type_spec=TensorSpec(shape=(None, 1270), dtype=tf.float32, name='embedding_input'), name='embedding_input', description=\"created by layer 'embedding_input'\"), but it was called on an input with incompatible shape (None, 123).\n",
      "(10, 10)\n"
     ]
    }
   ],
   "source": [
    "import pandas as pd\n",
    "pickle_in = open(\"./Data_preparation_notebook/mlb.pickle\",\"rb\")\n",
    "mlb = pickle.load(pickle_in)\n",
    "\n",
    "unknown_data = pd.read_csv(\"../QueryResults/QueryResults/QueryResultsAndroid.csv\").iloc[:10]\n",
    "\n",
    "predictions = pipeline(unknown_data, \"./SavedModel/RNN_V2_RNN_V2_14/\", mlb)\n"
   ]
  },
  {
   "cell_type": "code",
   "execution_count": 60,
   "id": "290a6ad1",
   "metadata": {
    "ExecuteTime": {
     "end_time": "2021-10-25T20:54:29.448092Z",
     "start_time": "2021-10-25T20:54:29.435096Z"
    }
   },
   "outputs": [
    {
     "name": "stdout",
     "output_type": "stream",
     "text": [
      "   <android>  <c#>  <c++>  <css>  <html>  <java>  <javascript>  <python>  <r>  \\\n",
      "0        1.0   0.0    0.0    0.0     0.0     1.0           0.0       0.0  0.0   \n",
      "1        0.0   0.0    0.0    0.0     0.0     0.0           1.0       0.0  0.0   \n",
      "2        1.0   0.0    0.0    0.0     0.0     0.0           0.0       0.0  0.0   \n",
      "3        0.0   1.0    0.0    0.0     0.0     0.0           0.0       0.0  0.0   \n",
      "4        1.0   1.0    0.0    0.0     0.0     0.0           0.0       0.0  0.0   \n",
      "5        1.0   0.0    0.0    0.0     0.0     0.0           0.0       0.0  0.0   \n",
      "6        1.0   0.0    0.0    0.0     0.0     0.0           0.0       0.0  0.0   \n",
      "7        1.0   0.0    0.0    0.0     0.0     0.0           0.0       0.0  0.0   \n",
      "8        1.0   0.0    0.0    0.0     0.0     0.0           0.0       0.0  0.0   \n",
      "9        0.0   0.0    1.0    0.0     0.0     0.0           0.0       0.0  0.0   \n",
      "\n",
      "   <sql>  \n",
      "0    0.0  \n",
      "1    0.0  \n",
      "2    0.0  \n",
      "3    0.0  \n",
      "4    0.0  \n",
      "5    0.0  \n",
      "6    0.0  \n",
      "7    0.0  \n",
      "8    0.0  \n",
      "9    0.0  \n"
     ]
    }
   ],
   "source": [
    "print(predictions[:50])"
   ]
  },
  {
   "cell_type": "code",
   "execution_count": 39,
   "id": "0248d9e8",
   "metadata": {
    "ExecuteTime": {
     "end_time": "2021-10-25T20:42:31.780796Z",
     "start_time": "2021-10-25T20:42:31.761802Z"
    }
   },
   "outputs": [
    {
     "data": {
      "text/html": [
       "<div>\n",
       "<style scoped>\n",
       "    .dataframe tbody tr th:only-of-type {\n",
       "        vertical-align: middle;\n",
       "    }\n",
       "\n",
       "    .dataframe tbody tr th {\n",
       "        vertical-align: top;\n",
       "    }\n",
       "\n",
       "    .dataframe thead th {\n",
       "        text-align: right;\n",
       "    }\n",
       "</style>\n",
       "<table border=\"1\" class=\"dataframe\">\n",
       "  <thead>\n",
       "    <tr style=\"text-align: right;\">\n",
       "      <th></th>\n",
       "      <th>Id</th>\n",
       "      <th>Body</th>\n",
       "      <th>Title</th>\n",
       "      <th>Tags</th>\n",
       "      <th>CreationDate</th>\n",
       "    </tr>\n",
       "  </thead>\n",
       "  <tbody>\n",
       "    <tr>\n",
       "      <th>0</th>\n",
       "      <td>36920138</td>\n",
       "      <td>json Array Parsing using Gson&lt;p&gt;i have the fol...</td>\n",
       "      <td>json Array Parsing using Gson</td>\n",
       "      <td>&lt;android&gt;&lt;json&gt;&lt;parsing&gt;&lt;gson&gt;</td>\n",
       "      <td>2016-04-28 16:14:00</td>\n",
       "    </tr>\n",
       "    <tr>\n",
       "      <th>1</th>\n",
       "      <td>11237936</td>\n",
       "      <td>Mobile Web - Disable long-touch/taphold text s...</td>\n",
       "      <td>Mobile Web - Disable long-touch/taphold text s...</td>\n",
       "      <td>&lt;android&gt;&lt;iphone&gt;&lt;css&gt;&lt;mobile&gt;&lt;highlight&gt;</td>\n",
       "      <td>2012-06-28 04:07:11</td>\n",
       "    </tr>\n",
       "    <tr>\n",
       "      <th>2</th>\n",
       "      <td>51964390</td>\n",
       "      <td>Get camera zoomlevel from googlemaps in Kotlin...</td>\n",
       "      <td>Get camera zoomlevel from googlemaps in Kotlin</td>\n",
       "      <td>&lt;android&gt;&lt;google-maps&gt;&lt;kotlin&gt;</td>\n",
       "      <td>2018-08-22 10:01:53</td>\n",
       "    </tr>\n",
       "    <tr>\n",
       "      <th>3</th>\n",
       "      <td>25812055</td>\n",
       "      <td>Android Wear BoxInsetLayout isRound always ret...</td>\n",
       "      <td>Android Wear BoxInsetLayout isRound always ret...</td>\n",
       "      <td>&lt;android&gt;&lt;android-ui&gt;&lt;wear-os&gt;</td>\n",
       "      <td>2014-09-12 15:45:16</td>\n",
       "    </tr>\n",
       "    <tr>\n",
       "      <th>4</th>\n",
       "      <td>17728266</td>\n",
       "      <td>how to call a user defined method in a custom ...</td>\n",
       "      <td>how to call a user defined method in a custom ...</td>\n",
       "      <td>&lt;android&gt;</td>\n",
       "      <td>2013-07-18 15:50:14</td>\n",
       "    </tr>\n",
       "    <tr>\n",
       "      <th>5</th>\n",
       "      <td>17728282</td>\n",
       "      <td>osmdroid - java.lang.UnsupportedOperationExcep...</td>\n",
       "      <td>osmdroid - java.lang.UnsupportedOperationExcep...</td>\n",
       "      <td>&lt;android&gt;&lt;android-studio&gt;&lt;osmdroid&gt;&lt;openstreet...</td>\n",
       "      <td>2013-07-18 15:50:50</td>\n",
       "    </tr>\n",
       "    <tr>\n",
       "      <th>6</th>\n",
       "      <td>63781419</td>\n",
       "      <td>Draw pixel art in Jetpack Compose&lt;p&gt;I need to ...</td>\n",
       "      <td>Draw pixel art in Jetpack Compose</td>\n",
       "      <td>&lt;android&gt;&lt;kotlin&gt;&lt;android-jetpack-compose&gt;</td>\n",
       "      <td>2020-09-07 16:44:52</td>\n",
       "    </tr>\n",
       "    <tr>\n",
       "      <th>7</th>\n",
       "      <td>3967694</td>\n",
       "      <td>Android get time format&lt;p&gt;Is there a nice way ...</td>\n",
       "      <td>Android get time format</td>\n",
       "      <td>&lt;android&gt;&lt;datetime&gt;&lt;format&gt;</td>\n",
       "      <td>2010-10-19 11:07:50</td>\n",
       "    </tr>\n",
       "    <tr>\n",
       "      <th>8</th>\n",
       "      <td>54143856</td>\n",
       "      <td>How to prevent double items but also prevent e...</td>\n",
       "      <td>How to prevent double items but also prevent e...</td>\n",
       "      <td>&lt;android&gt;</td>\n",
       "      <td>2019-01-11 09:40:51</td>\n",
       "    </tr>\n",
       "    <tr>\n",
       "      <th>9</th>\n",
       "      <td>54143881</td>\n",
       "      <td>error: attribute behaviour_peekHeight not foun...</td>\n",
       "      <td>error: attribute behaviour_peekHeight not found</td>\n",
       "      <td>&lt;android&gt;&lt;android-studio&gt;&lt;bottom-sheet&gt;</td>\n",
       "      <td>2019-01-11 09:42:17</td>\n",
       "    </tr>\n",
       "  </tbody>\n",
       "</table>\n",
       "</div>"
      ],
      "text/plain": [
       "         Id                                               Body  \\\n",
       "0  36920138  json Array Parsing using Gson<p>i have the fol...   \n",
       "1  11237936  Mobile Web - Disable long-touch/taphold text s...   \n",
       "2  51964390  Get camera zoomlevel from googlemaps in Kotlin...   \n",
       "3  25812055  Android Wear BoxInsetLayout isRound always ret...   \n",
       "4  17728266  how to call a user defined method in a custom ...   \n",
       "5  17728282  osmdroid - java.lang.UnsupportedOperationExcep...   \n",
       "6  63781419  Draw pixel art in Jetpack Compose<p>I need to ...   \n",
       "7   3967694  Android get time format<p>Is there a nice way ...   \n",
       "8  54143856  How to prevent double items but also prevent e...   \n",
       "9  54143881  error: attribute behaviour_peekHeight not foun...   \n",
       "\n",
       "                                               Title  \\\n",
       "0                      json Array Parsing using Gson   \n",
       "1  Mobile Web - Disable long-touch/taphold text s...   \n",
       "2     Get camera zoomlevel from googlemaps in Kotlin   \n",
       "3  Android Wear BoxInsetLayout isRound always ret...   \n",
       "4  how to call a user defined method in a custom ...   \n",
       "5  osmdroid - java.lang.UnsupportedOperationExcep...   \n",
       "6                  Draw pixel art in Jetpack Compose   \n",
       "7                            Android get time format   \n",
       "8  How to prevent double items but also prevent e...   \n",
       "9    error: attribute behaviour_peekHeight not found   \n",
       "\n",
       "                                                Tags         CreationDate  \n",
       "0                     <android><json><parsing><gson>  2016-04-28 16:14:00  \n",
       "1          <android><iphone><css><mobile><highlight>  2012-06-28 04:07:11  \n",
       "2                     <android><google-maps><kotlin>  2018-08-22 10:01:53  \n",
       "3                     <android><android-ui><wear-os>  2014-09-12 15:45:16  \n",
       "4                                          <android>  2013-07-18 15:50:14  \n",
       "5  <android><android-studio><osmdroid><openstreet...  2013-07-18 15:50:50  \n",
       "6         <android><kotlin><android-jetpack-compose>  2020-09-07 16:44:52  \n",
       "7                        <android><datetime><format>  2010-10-19 11:07:50  \n",
       "8                                          <android>  2019-01-11 09:40:51  \n",
       "9            <android><android-studio><bottom-sheet>  2019-01-11 09:42:17  "
      ]
     },
     "execution_count": 39,
     "metadata": {},
     "output_type": "execute_result"
    }
   ],
   "source": [
    "unknown_data"
   ]
  },
  {
   "cell_type": "code",
   "execution_count": null,
   "id": "9b4788e6",
   "metadata": {},
   "outputs": [],
   "source": []
  }
 ],
 "metadata": {
  "kernelspec": {
   "display_name": "Python 3 (ipykernel)",
   "language": "python",
   "name": "python3"
  },
  "language_info": {
   "codemirror_mode": {
    "name": "ipython",
    "version": 3
   },
   "file_extension": ".py",
   "mimetype": "text/x-python",
   "name": "python",
   "nbconvert_exporter": "python",
   "pygments_lexer": "ipython3",
   "version": "3.9.7"
  },
  "toc": {
   "base_numbering": 1,
   "nav_menu": {},
   "number_sections": true,
   "sideBar": true,
   "skip_h1_title": false,
   "title_cell": "Table of Contents",
   "title_sidebar": "Contents",
   "toc_cell": false,
   "toc_position": {},
   "toc_section_display": true,
   "toc_window_display": false
  },
  "varInspector": {
   "cols": {
    "lenName": 16,
    "lenType": 16,
    "lenVar": 40
   },
   "kernels_config": {
    "python": {
     "delete_cmd_postfix": "",
     "delete_cmd_prefix": "del ",
     "library": "var_list.py",
     "varRefreshCmd": "print(var_dic_list())"
    },
    "r": {
     "delete_cmd_postfix": ") ",
     "delete_cmd_prefix": "rm(",
     "library": "var_list.r",
     "varRefreshCmd": "cat(var_dic_list()) "
    }
   },
   "types_to_exclude": [
    "module",
    "function",
    "builtin_function_or_method",
    "instance",
    "_Feature"
   ],
   "window_display": false
  }
 },
 "nbformat": 4,
 "nbformat_minor": 5
}
