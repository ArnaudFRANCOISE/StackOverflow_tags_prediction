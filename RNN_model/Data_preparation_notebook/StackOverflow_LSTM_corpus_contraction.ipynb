{
 "cells": [
  {
   "cell_type": "code",
   "execution_count": 2,
   "metadata": {
    "ExecuteTime": {
     "end_time": "2021-10-10T15:54:14.734547Z",
     "start_time": "2021-10-10T15:54:09.274652Z"
    },
    "colab": {
     "base_uri": "https://localhost:8080/"
    },
    "id": "fd5o1UhmSbzN",
    "outputId": "3d277d01-c325-490e-db66-92482a466beb"
   },
   "outputs": [
    {
     "name": "stdout",
     "output_type": "stream",
     "text": [
      "Requirement already satisfied: numpy==1.19.5 in c:\\users\\arnaud\\anaconda3\\lib\\site-packages (1.19.5)\n",
      "Requirement already satisfied: TensorFlow==2.5 in c:\\users\\arnaud\\anaconda3\\lib\\site-packages (2.5.0)\n",
      "Requirement already satisfied: flatbuffers~=1.12.0 in c:\\users\\arnaud\\anaconda3\\lib\\site-packages (from TensorFlow==2.5) (1.12)\n",
      "Requirement already satisfied: astunparse~=1.6.3 in c:\\users\\arnaud\\appdata\\roaming\\python\\python37\\site-packages (from TensorFlow==2.5) (1.6.3)\n",
      "Requirement already satisfied: wheel~=0.35 in c:\\users\\arnaud\\anaconda3\\lib\\site-packages (from TensorFlow==2.5) (0.37.0)\n",
      "Requirement already satisfied: keras-preprocessing~=1.1.2 in c:\\users\\arnaud\\appdata\\roaming\\python\\python37\\site-packages (from TensorFlow==2.5) (1.1.2)\n",
      "Requirement already satisfied: google-pasta~=0.2 in c:\\users\\arnaud\\anaconda3\\lib\\site-packages (from TensorFlow==2.5) (0.2.0)\n",
      "Requirement already satisfied: gast==0.4.0 in c:\\users\\arnaud\\anaconda3\\lib\\site-packages (from TensorFlow==2.5) (0.4.0)\n",
      "Requirement already satisfied: tensorflow-estimator<2.6.0,>=2.5.0rc0 in c:\\users\\arnaud\\anaconda3\\lib\\site-packages (from TensorFlow==2.5) (2.5.0)\n",
      "Requirement already satisfied: tensorboard~=2.5 in c:\\users\\arnaud\\anaconda3\\lib\\site-packages (from TensorFlow==2.5) (2.6.0)\n",
      "Requirement already satisfied: wrapt~=1.12.1 in c:\\users\\arnaud\\anaconda3\\lib\\site-packages (from TensorFlow==2.5) (1.12.1)\n",
      "Requirement already satisfied: protobuf>=3.9.2 in c:\\users\\arnaud\\anaconda3\\lib\\site-packages (from TensorFlow==2.5) (3.17.2)\n",
      "Requirement already satisfied: absl-py~=0.10 in c:\\users\\arnaud\\anaconda3\\lib\\site-packages (from TensorFlow==2.5) (0.13.0)\n",
      "Requirement already satisfied: keras-nightly~=2.5.0.dev in c:\\users\\arnaud\\anaconda3\\lib\\site-packages (from TensorFlow==2.5) (2.5.0.dev2021032900)\n",
      "Requirement already satisfied: numpy~=1.19.2 in c:\\users\\arnaud\\anaconda3\\lib\\site-packages (from TensorFlow==2.5) (1.19.5)\n",
      "Requirement already satisfied: termcolor~=1.1.0 in c:\\users\\arnaud\\anaconda3\\lib\\site-packages (from TensorFlow==2.5) (1.1.0)\n",
      "Requirement already satisfied: h5py~=3.1.0 in c:\\users\\arnaud\\anaconda3\\lib\\site-packages (from TensorFlow==2.5) (3.1.0)\n",
      "Requirement already satisfied: typing-extensions~=3.7.4 in c:\\users\\arnaud\\anaconda3\\lib\\site-packages (from TensorFlow==2.5) (3.7.4.3)\n",
      "Requirement already satisfied: six~=1.15.0 in c:\\users\\arnaud\\anaconda3\\lib\\site-packages (from TensorFlow==2.5) (1.15.0)\n",
      "Requirement already satisfied: opt-einsum~=3.3.0 in c:\\users\\arnaud\\anaconda3\\lib\\site-packages (from TensorFlow==2.5) (3.3.0)\n",
      "Requirement already satisfied: grpcio~=1.34.0 in c:\\users\\arnaud\\anaconda3\\lib\\site-packages (from TensorFlow==2.5) (1.34.1)\n",
      "Requirement already satisfied: cached-property in c:\\users\\arnaud\\anaconda3\\lib\\site-packages (from h5py~=3.1.0->TensorFlow==2.5) (1.5.2)\n",
      "Requirement already satisfied: google-auth<2,>=1.6.3 in c:\\users\\arnaud\\anaconda3\\lib\\site-packages (from tensorboard~=2.5->TensorFlow==2.5) (1.23.0)\n",
      "Requirement already satisfied: tensorboard-plugin-wit>=1.6.0 in c:\\users\\arnaud\\anaconda3\\lib\\site-packages (from tensorboard~=2.5->TensorFlow==2.5) (1.8.0)\n",
      "Requirement already satisfied: requests<3,>=2.21.0 in c:\\users\\arnaud\\anaconda3\\lib\\site-packages (from tensorboard~=2.5->TensorFlow==2.5) (2.26.0)\n",
      "Requirement already satisfied: tensorboard-data-server<0.7.0,>=0.6.0 in c:\\users\\arnaud\\anaconda3\\lib\\site-packages (from tensorboard~=2.5->TensorFlow==2.5) (0.6.1)\n",
      "Requirement already satisfied: werkzeug>=0.11.15 in c:\\users\\arnaud\\anaconda3\\lib\\site-packages (from tensorboard~=2.5->TensorFlow==2.5) (2.0.1)\n",
      "Requirement already satisfied: setuptools>=41.0.0 in c:\\users\\arnaud\\anaconda3\\lib\\site-packages (from tensorboard~=2.5->TensorFlow==2.5) (58.0.4)\n",
      "Requirement already satisfied: google-auth-oauthlib<0.5,>=0.4.1 in c:\\users\\arnaud\\anaconda3\\lib\\site-packages (from tensorboard~=2.5->TensorFlow==2.5) (0.4.4)\n",
      "Requirement already satisfied: markdown>=2.6.8 in c:\\users\\arnaud\\anaconda3\\lib\\site-packages (from tensorboard~=2.5->TensorFlow==2.5) (3.3.4)\n",
      "Requirement already satisfied: cachetools<5.0,>=2.0.0 in c:\\users\\arnaud\\anaconda3\\lib\\site-packages (from google-auth<2,>=1.6.3->tensorboard~=2.5->TensorFlow==2.5) (4.1.1)\n",
      "Requirement already satisfied: pyasn1-modules>=0.2.1 in c:\\users\\arnaud\\anaconda3\\lib\\site-packages (from google-auth<2,>=1.6.3->tensorboard~=2.5->TensorFlow==2.5) (0.2.8)\n",
      "Requirement already satisfied: rsa<5,>=3.1.4 in c:\\users\\arnaud\\anaconda3\\lib\\site-packages (from google-auth<2,>=1.6.3->tensorboard~=2.5->TensorFlow==2.5) (4.6)\n",
      "Requirement already satisfied: requests-oauthlib>=0.7.0 in c:\\users\\arnaud\\anaconda3\\lib\\site-packages (from google-auth-oauthlib<0.5,>=0.4.1->tensorboard~=2.5->TensorFlow==2.5) (1.3.0)\n",
      "Requirement already satisfied: importlib-metadata in c:\\users\\arnaud\\anaconda3\\lib\\site-packages (from markdown>=2.6.8->tensorboard~=2.5->TensorFlow==2.5) (4.8.1)\n",
      "Requirement already satisfied: pyasn1<0.5.0,>=0.4.6 in c:\\users\\arnaud\\anaconda3\\lib\\site-packages (from pyasn1-modules>=0.2.1->google-auth<2,>=1.6.3->tensorboard~=2.5->TensorFlow==2.5) (0.4.8)\n",
      "Requirement already satisfied: charset-normalizer~=2.0.0 in c:\\users\\arnaud\\anaconda3\\lib\\site-packages (from requests<3,>=2.21.0->tensorboard~=2.5->TensorFlow==2.5) (2.0.4)\n",
      "Requirement already satisfied: certifi>=2017.4.17 in c:\\users\\arnaud\\anaconda3\\lib\\site-packages (from requests<3,>=2.21.0->tensorboard~=2.5->TensorFlow==2.5) (2021.5.30)\n",
      "Requirement already satisfied: idna<4,>=2.5 in c:\\users\\arnaud\\anaconda3\\lib\\site-packages (from requests<3,>=2.21.0->tensorboard~=2.5->TensorFlow==2.5) (3.2)\n",
      "Requirement already satisfied: urllib3<1.27,>=1.21.1 in c:\\users\\arnaud\\anaconda3\\lib\\site-packages (from requests<3,>=2.21.0->tensorboard~=2.5->TensorFlow==2.5) (1.26.7)\n",
      "Requirement already satisfied: oauthlib>=3.0.0 in c:\\users\\arnaud\\anaconda3\\lib\\site-packages (from requests-oauthlib>=0.7.0->google-auth-oauthlib<0.5,>=0.4.1->tensorboard~=2.5->TensorFlow==2.5) (3.1.0)\n",
      "Requirement already satisfied: zipp>=0.5 in c:\\users\\arnaud\\anaconda3\\lib\\site-packages (from importlib-metadata->markdown>=2.6.8->tensorboard~=2.5->TensorFlow==2.5) (3.6.0)\n"
     ]
    }
   ],
   "source": [
    "import pickle\n",
    "#!pip install pandas\n",
    "import numpy as np  \n",
    "import pandas as pd\n",
    "!pip install numpy==1.19.5\n",
    "!pip install TensorFlow==2.5\n",
    "import preprocess_tools as pts\n",
    "\n",
    "#!git clone https://github.com/ArnaudFRANCOISE/StackOverflow_tags_prediction.git\n",
    "#!ls"
   ]
  },
  {
   "cell_type": "code",
   "execution_count": 3,
   "metadata": {
    "ExecuteTime": {
     "end_time": "2021-10-10T15:54:23.310968Z",
     "start_time": "2021-10-10T15:54:14.767982Z"
    },
    "colab": {
     "base_uri": "https://localhost:8080/",
     "height": 590
    },
    "id": "tRdlT2GBLeDG",
    "outputId": "da925f4f-7011-4742-e57e-c4700afb881d"
   },
   "outputs": [
    {
     "data": {
      "text/html": [
       "<div>\n",
       "<style scoped>\n",
       "    .dataframe tbody tr th:only-of-type {\n",
       "        vertical-align: middle;\n",
       "    }\n",
       "\n",
       "    .dataframe tbody tr th {\n",
       "        vertical-align: top;\n",
       "    }\n",
       "\n",
       "    .dataframe thead th {\n",
       "        text-align: right;\n",
       "    }\n",
       "</style>\n",
       "<table border=\"1\" class=\"dataframe\">\n",
       "  <thead>\n",
       "    <tr style=\"text-align: right;\">\n",
       "      <th></th>\n",
       "      <th>Id</th>\n",
       "      <th>Body</th>\n",
       "      <th>Title</th>\n",
       "      <th>Tags</th>\n",
       "      <th>CreationDate</th>\n",
       "    </tr>\n",
       "  </thead>\n",
       "  <tbody>\n",
       "    <tr>\n",
       "      <th>0</th>\n",
       "      <td>27963214</td>\n",
       "      <td>&lt;pre&gt;&lt;code&gt;var a = 'why is this not undefined?...</td>\n",
       "      <td>Why is the function argument not overwritten o...</td>\n",
       "      <td>&lt;javascript&gt;&lt;variables&gt;&lt;function-parameter&gt;</td>\n",
       "      <td>2015-01-15 12:14:55</td>\n",
       "    </tr>\n",
       "    <tr>\n",
       "      <th>1</th>\n",
       "      <td>27963268</td>\n",
       "      <td>&lt;p&gt;I'm getting a json object with number of it...</td>\n",
       "      <td>angular how to order item by date from format ...</td>\n",
       "      <td>&lt;javascript&gt;&lt;json&gt;&lt;angularjs&gt;&lt;date&gt;</td>\n",
       "      <td>2015-01-15 12:17:12</td>\n",
       "    </tr>\n",
       "    <tr>\n",
       "      <th>2</th>\n",
       "      <td>27963277</td>\n",
       "      <td>&lt;p&gt;Please find here after the full html code o...</td>\n",
       "      <td>How can I adapt my google maps embed code for ...</td>\n",
       "      <td>&lt;javascript&gt;&lt;html&gt;&lt;google-maps&gt;&lt;google-maps-ap...</td>\n",
       "      <td>2015-01-15 12:17:32</td>\n",
       "    </tr>\n",
       "    <tr>\n",
       "      <th>3</th>\n",
       "      <td>27963279</td>\n",
       "      <td>&lt;p&gt;I'm trying to debug a very large obfuscated...</td>\n",
       "      <td>Find string in temporary Javascript variable a...</td>\n",
       "      <td>&lt;javascript&gt;&lt;google-chrome&gt;&lt;debugging&gt;</td>\n",
       "      <td>2015-01-15 12:17:47</td>\n",
       "    </tr>\n",
       "    <tr>\n",
       "      <th>4</th>\n",
       "      <td>62882956</td>\n",
       "      <td>&lt;p&gt;I'm new on java and node, so after 2 days t...</td>\n",
       "      <td>Convert response to JSON/String and Write to a...</td>\n",
       "      <td>&lt;javascript&gt;&lt;java&gt;&lt;json&gt;</td>\n",
       "      <td>2020-07-13 19:29:33</td>\n",
       "    </tr>\n",
       "    <tr>\n",
       "      <th>...</th>\n",
       "      <td>...</td>\n",
       "      <td>...</td>\n",
       "      <td>...</td>\n",
       "      <td>...</td>\n",
       "      <td>...</td>\n",
       "    </tr>\n",
       "    <tr>\n",
       "      <th>4995</th>\n",
       "      <td>58715327</td>\n",
       "      <td>&lt;p&gt;i have to send a HTTP post request to a web...</td>\n",
       "      <td>how to get authorization from a http request u...</td>\n",
       "      <td>&lt;excel&gt;&lt;vba&gt;</td>\n",
       "      <td>2019-11-05 16:12:18</td>\n",
       "    </tr>\n",
       "    <tr>\n",
       "      <th>4996</th>\n",
       "      <td>41609108</td>\n",
       "      <td>&lt;p&gt;I'm using Access 2013 and have a query \"qry...</td>\n",
       "      <td>Access VBA Copy images is only copying first i...</td>\n",
       "      <td>&lt;loops&gt;&lt;ms-access&gt;&lt;vba&gt;</td>\n",
       "      <td>2017-01-12 09:13:36</td>\n",
       "    </tr>\n",
       "    <tr>\n",
       "      <th>4997</th>\n",
       "      <td>58716732</td>\n",
       "      <td>&lt;p&gt;Hopefully this is a simple one for somebody...</td>\n",
       "      <td>Excel VBA UserForm TextBox Does Not Recognise ...</td>\n",
       "      <td>&lt;excel&gt;&lt;vba&gt;&lt;userform&gt;</td>\n",
       "      <td>2019-11-05 17:41:12</td>\n",
       "    </tr>\n",
       "    <tr>\n",
       "      <th>4998</th>\n",
       "      <td>41609477</td>\n",
       "      <td>&lt;p&gt;I have the below code which will calculate ...</td>\n",
       "      <td>Using formula based on color of the text</td>\n",
       "      <td>&lt;excel&gt;&lt;vba&gt;</td>\n",
       "      <td>2017-01-12 09:31:58</td>\n",
       "    </tr>\n",
       "    <tr>\n",
       "      <th>4999</th>\n",
       "      <td>67228613</td>\n",
       "      <td>&lt;p&gt;I have created a VBA to extract info from a...</td>\n",
       "      <td>VBA code not working properly when copying and...</td>\n",
       "      <td>&lt;excel&gt;&lt;vba&gt;&lt;for-loop&gt;</td>\n",
       "      <td>2021-04-23 10:48:25</td>\n",
       "    </tr>\n",
       "  </tbody>\n",
       "</table>\n",
       "<p>132065 rows × 5 columns</p>\n",
       "</div>"
      ],
      "text/plain": [
       "            Id                                               Body  \\\n",
       "0     27963214  <pre><code>var a = 'why is this not undefined?...   \n",
       "1     27963268  <p>I'm getting a json object with number of it...   \n",
       "2     27963277  <p>Please find here after the full html code o...   \n",
       "3     27963279  <p>I'm trying to debug a very large obfuscated...   \n",
       "4     62882956  <p>I'm new on java and node, so after 2 days t...   \n",
       "...        ...                                                ...   \n",
       "4995  58715327  <p>i have to send a HTTP post request to a web...   \n",
       "4996  41609108  <p>I'm using Access 2013 and have a query \"qry...   \n",
       "4997  58716732  <p>Hopefully this is a simple one for somebody...   \n",
       "4998  41609477  <p>I have the below code which will calculate ...   \n",
       "4999  67228613  <p>I have created a VBA to extract info from a...   \n",
       "\n",
       "                                                  Title  \\\n",
       "0     Why is the function argument not overwritten o...   \n",
       "1     angular how to order item by date from format ...   \n",
       "2     How can I adapt my google maps embed code for ...   \n",
       "3     Find string in temporary Javascript variable a...   \n",
       "4     Convert response to JSON/String and Write to a...   \n",
       "...                                                 ...   \n",
       "4995  how to get authorization from a http request u...   \n",
       "4996  Access VBA Copy images is only copying first i...   \n",
       "4997  Excel VBA UserForm TextBox Does Not Recognise ...   \n",
       "4998           Using formula based on color of the text   \n",
       "4999  VBA code not working properly when copying and...   \n",
       "\n",
       "                                                   Tags         CreationDate  \n",
       "0           <javascript><variables><function-parameter>  2015-01-15 12:14:55  \n",
       "1                   <javascript><json><angularjs><date>  2015-01-15 12:17:12  \n",
       "2     <javascript><html><google-maps><google-maps-ap...  2015-01-15 12:17:32  \n",
       "3                <javascript><google-chrome><debugging>  2015-01-15 12:17:47  \n",
       "4                              <javascript><java><json>  2020-07-13 19:29:33  \n",
       "...                                                 ...                  ...  \n",
       "4995                                       <excel><vba>  2019-11-05 16:12:18  \n",
       "4996                            <loops><ms-access><vba>  2017-01-12 09:13:36  \n",
       "4997                             <excel><vba><userform>  2019-11-05 17:41:12  \n",
       "4998                                       <excel><vba>  2017-01-12 09:31:58  \n",
       "4999                             <excel><vba><for-loop>  2021-04-23 10:48:25  \n",
       "\n",
       "[132065 rows x 5 columns]"
      ]
     },
     "execution_count": 3,
     "metadata": {},
     "output_type": "execute_result"
    }
   ],
   "source": [
    "import os\n",
    "import pandas as pd\n",
    "\n",
    "from os import listdir\n",
    "from os.path import isfile, join\n",
    "\n",
    "mypath = \"./QueryResults/QueryResults/\"\n",
    "\n",
    "filenames = [f for f in listdir(mypath) if isfile(join(mypath, f))]\n",
    "#gather all csv into one dataframe\n",
    "#print(len(filenames))\n",
    "data = pd.read_csv(mypath+filenames[0])\n",
    "data\n",
    "\n",
    "for filename in filenames[1:]:\n",
    "  d = pd.read_csv(mypath+filename)\n",
    "  data = pd.concat([data, d.iloc[:5000,:]], axis=0)\n",
    "  #print(data.shape)\n",
    "\n",
    "#eliminate duplicate\n",
    "data = data.drop_duplicates(subset=['Body'])\n",
    "data"
   ]
  },
  {
   "cell_type": "code",
   "execution_count": 4,
   "metadata": {
    "ExecuteTime": {
     "end_time": "2021-10-10T15:54:29.048521Z",
     "start_time": "2021-10-10T15:54:23.358783Z"
    },
    "id": "16VL9otVEtKv"
   },
   "outputs": [],
   "source": [
    "import numpy as np \n",
    "import pandas as pd \n",
    "#!pip install keras\n",
    "import tensorflow as tf\n",
    "from tensorflow.keras.preprocessing.sequence import pad_sequences\n",
    "from tensorflow.keras.models import Sequential\n",
    "from tensorflow.keras.layers import Dense, Embedding, LSTM, SpatialDropout1D\n",
    "from sklearn.model_selection import train_test_split\n",
    "from tensorflow.keras.utils import to_categorical\n",
    "import re"
   ]
  },
  {
   "cell_type": "code",
   "execution_count": 5,
   "metadata": {
    "ExecuteTime": {
     "end_time": "2021-10-10T15:55:08.221732Z",
     "start_time": "2021-10-10T15:54:29.097436Z"
    },
    "id": "arseslbGFBCl"
   },
   "outputs": [],
   "source": [
    "from tensorflow.keras.preprocessing.text import Tokenizer\n",
    "max_fatures = 2000\n",
    "tokenizer = Tokenizer(num_words=max_fatures, split=' ')\n",
    "tokenizer.fit_on_texts(data['Body'].values)\n",
    "X = tokenizer.texts_to_sequences(data['Body'].values)\n",
    "\n",
    "\n"
   ]
  },
  {
   "cell_type": "code",
   "execution_count": 6,
   "metadata": {
    "ExecuteTime": {
     "end_time": "2021-10-10T15:55:16.607772Z",
     "start_time": "2021-10-10T15:55:13.097647Z"
    },
    "id": "rV6ORyHKSCVk"
   },
   "outputs": [],
   "source": [
    "X = pad_sequences(X)"
   ]
  },
  {
   "cell_type": "code",
   "execution_count": 7,
   "metadata": {
    "ExecuteTime": {
     "end_time": "2021-10-10T15:55:16.669581Z",
     "start_time": "2021-10-10T15:55:16.656198Z"
    },
    "colab": {
     "base_uri": "https://localhost:8080/"
    },
    "id": "RAGCyk1NNERI",
    "outputId": "701042f3-abb4-446d-b128-4e9e855cfb3f"
   },
   "outputs": [
    {
     "data": {
      "text/plain": [
       "array([[  0,   0,   0, ...,  35, 659,   1],\n",
       "       [  0,   0,   0, ...,   3, 161,   1],\n",
       "       [  0,   0,   0, ...,   7,   2,   9],\n",
       "       ...,\n",
       "       [  0,   0,   0, ...,   5, 324,   1],\n",
       "       [  0,   0,   0, ..., 678,   2,   9],\n",
       "       [  0,   0,   0, ...,  84,   6,   1]])"
      ]
     },
     "execution_count": 7,
     "metadata": {},
     "output_type": "execute_result"
    }
   ],
   "source": [
    "X"
   ]
  },
  {
   "cell_type": "code",
   "execution_count": 8,
   "metadata": {
    "ExecuteTime": {
     "end_time": "2021-10-10T15:55:17.468760Z",
     "start_time": "2021-10-10T15:55:16.701573Z"
    },
    "colab": {
     "base_uri": "https://localhost:8080/"
    },
    "id": "aqL3U-vXVwfs",
    "outputId": "e060d36c-17c9-41f1-c16e-a88ea776c04e"
   },
   "outputs": [
    {
     "name": "stdout",
     "output_type": "stream",
     "text": [
      "<class 'pandas.core.frame.DataFrame'>\n",
      "RangeIndex: 132065 entries, 0 to 132064\n",
      "Columns: 6195 entries, 0 to 6194\n",
      "dtypes: int32(6195)\n",
      "memory usage: 3.0 GB\n"
     ]
    }
   ],
   "source": [
    "type(X)\n",
    "X = pd.DataFrame(X)\n",
    "X.info()"
   ]
  },
  {
   "cell_type": "code",
   "execution_count": 9,
   "metadata": {
    "ExecuteTime": {
     "end_time": "2021-10-10T15:55:18.250797Z",
     "start_time": "2021-10-10T15:55:17.752884Z"
    }
   },
   "outputs": [
    {
     "name": "stdout",
     "output_type": "stream",
     "text": [
      "<class 'pandas.core.frame.DataFrame'>\n",
      "Int64Index: 132065 entries, 0 to 4999\n",
      "Data columns (total 5 columns):\n",
      " #   Column        Non-Null Count   Dtype \n",
      "---  ------        --------------   ----- \n",
      " 0   Id            132065 non-null  int64 \n",
      " 1   Body          132065 non-null  object\n",
      " 2   Title         132065 non-null  object\n",
      " 3   Tags          132065 non-null  object\n",
      " 4   CreationDate  132065 non-null  object\n",
      "dtypes: int64(1), object(4)\n",
      "memory usage: 6.0+ MB\n"
     ]
    }
   ],
   "source": [
    "data.info()"
   ]
  },
  {
   "cell_type": "code",
   "execution_count": 10,
   "metadata": {
    "ExecuteTime": {
     "end_time": "2021-10-10T15:55:18.534074Z",
     "start_time": "2021-10-10T15:55:18.519706Z"
    },
    "id": "Tm8ZRa2ANzos"
   },
   "outputs": [
    {
     "data": {
      "text/plain": [
       "'pickle_out = open(\"/content/drive/MyDrive/Etudes/IA/stackoverflow_/y_lstmrawtags.pickle\",\"wb\")\\npickle.dump(data[\"Tags\"], pickle_out)\\npickle_out.close() '"
      ]
     },
     "execution_count": 10,
     "metadata": {},
     "output_type": "execute_result"
    }
   ],
   "source": [
    "  \"\"\"pickle_out = open(\"/content/drive/MyDrive/Etudes/IA/stackoverflow_/y_lstmrawtags.pickle\",\"wb\")\n",
    "  pickle.dump(data[\"Tags\"], pickle_out)\n",
    "  pickle_out.close() \"\"\""
   ]
  },
  {
   "cell_type": "code",
   "execution_count": 11,
   "metadata": {
    "ExecuteTime": {
     "end_time": "2021-10-10T15:55:27.782564Z",
     "start_time": "2021-10-10T15:55:18.803834Z"
    },
    "id": "a2KrLWEJxdUt"
   },
   "outputs": [],
   "source": [
    "from sklearn.model_selection import train_test_split\n",
    "X_train, X_test, y_train, y_test = train_test_split(X, data['Tags'], test_size=0.20, random_state=42)"
   ]
  },
  {
   "cell_type": "code",
   "execution_count": 12,
   "metadata": {
    "ExecuteTime": {
     "end_time": "2021-10-10T15:57:08.585470Z",
     "start_time": "2021-10-10T15:55:30.256728Z"
    },
    "id": "TDCtsCeXT7aT"
   },
   "outputs": [],
   "source": [
    "\n",
    "import pickle\n",
    "def save():\n",
    "  pickle_out = open(\"./RNN_model/X_train_seq.pickle\",\"wb\")\n",
    "  pickle.dump(X_train, pickle_out)\n",
    "  pickle_out.close()\n",
    "\n",
    "  pickle_out = open(\"./RNN_model/X_test_seq.pickle\",\"wb\")\n",
    "  pickle.dump(X_test, pickle_out)\n",
    "  pickle_out.close()\n",
    "\n",
    "\n",
    "save()"
   ]
  },
  {
   "cell_type": "code",
   "execution_count": 13,
   "metadata": {
    "ExecuteTime": {
     "end_time": "2021-10-10T15:57:09.718357Z",
     "start_time": "2021-10-10T15:57:09.690365Z"
    },
    "colab": {
     "base_uri": "https://localhost:8080/"
    },
    "id": "sHpxiMgpVOco",
    "outputId": "f2a5f800-e50e-4525-d7d7-9b2c1284302c"
   },
   "outputs": [
    {
     "name": "stdout",
     "output_type": "stream",
     "text": [
      "26\n",
      "['assembly', 'c', 'c++', 'coffeescript', 'go', 'groovy', 'haskell', 'java', 'javascript', 'lua', 'matlab', 'objective-c', 'html', 'css', 'android', 'perl', 'php', 'python', 'r', 'ruby', 'scala', 'sql', 'swift', 'typescript', 'vb.net', 'vba']\n"
     ]
    }
   ],
   "source": [
    "\n",
    "target_interest  = [\"Assembly\", \"C\", \"C++\", \"CoffeeScript\", \"Go\", \"Groovy\", \"Haskell\", \"Java\", \n",
    "                    \"JavaScript\", \"Lua\", \"Matlab\", \"Objective-c\",\"html\",\"css\",\"android\",\"Perl\", \"PHP\",\n",
    "                    \"Python\", \"R\", \"Ruby\", \"Scala\", \"SQL\", \"Swift\", \"TypeScript\",\"Vb.Net\", \"Vba\"]\n",
    "target_interest = list(str_.lower() for str_ in target_interest)\n",
    "print(len(target_interest))\n",
    "print(target_interest)"
   ]
  },
  {
   "cell_type": "code",
   "execution_count": 14,
   "metadata": {
    "ExecuteTime": {
     "end_time": "2021-10-10T15:57:10.694316Z",
     "start_time": "2021-10-10T15:57:10.400584Z"
    },
    "colab": {
     "base_uri": "https://localhost:8080/"
    },
    "id": "2YNfNa59VSNI",
    "outputId": "85484398-07fd-4c6b-a1c7-bf535d6af46f"
   },
   "outputs": [
    {
     "name": "stdout",
     "output_type": "stream",
     "text": [
      "['algorithm', 'haskell', 'functional-programming', 'lambda-calculus']\n"
     ]
    }
   ],
   "source": [
    "def clean_tags(tags_content):\n",
    "  cleaned = []\n",
    "  \n",
    "  \n",
    "  token_vec = pts.tokenizer(tags_content)\n",
    "  wrong = ['>','<']\n",
    "  for tag in token_vec:\n",
    "    if tag not in wrong:\n",
    "      cleaned.append(tag)\n",
    "  return cleaned\n",
    "\n",
    "print(clean_tags(y_train.iloc[0]))"
   ]
  },
  {
   "cell_type": "code",
   "execution_count": 15,
   "metadata": {
    "ExecuteTime": {
     "end_time": "2021-10-10T15:58:39.609065Z",
     "start_time": "2021-10-10T15:57:11.458120Z"
    },
    "colab": {
     "base_uri": "https://localhost:8080/"
    },
    "id": "DPvUyzyMVWbW",
    "outputId": "5b57f994-3190-43fc-e68d-60393ec4ac23"
   },
   "outputs": [
    {
     "name": "stdout",
     "output_type": "stream",
     "text": [
      "Present tag:  assembly progress:  99.0 % 0 % .0 %  javascript progress:  0.0 %  c progress:  0.0 %  c progress:  0.0 %  progress:  0.0 % javascript progress:  1.0 %  %  go progress:  1.0 %  %  % progress:  2.0 % 2.0 % progress:  3.0 %  3.0 % %  objective-c progress:  4.0 % 4.0 %  %  4.0 %  matlab progress:  5.0 %  php progress:  5.0 %  javascript progress:  5.0 %  ruby progress:  6.0 % javascript progress:  6.0 %  go progress:  7.0 %  javascript progress:  7.0 %  %  perl progress:  8.0 %  8.0 % progress:  8.0 %  progress:  9.0 % 9.0 %  swift progress:  9.0 %  coffeescript progress:  9.0 %  javascript progress:  10.0 %  % lua progress:  11.0 %  scala progress:  11.0 %  matlab progress:  11.0 %  % %  c progress:  12.0 % % sql progress:  12.0 %  typescript progress:  13.0 %  javascript progress:  13.0 %  android progress:  14.0 %  progress:  14.0 %  vb.net progress:  14.0 %  15.0 %  haskell progress:  15.0 % % 16.0 %  haskell progress:  16.0 % progress:  17.0 %  perl progress:  17.0 % scala progress:  17.0 %  javascript progress:  17.0 %  go progress:  18.0 %  haskell progress:  18.0 %  %  matlab progress:  19.0 %  groovy progress:  19.0 %  assembly progress:  20.0 %  css progress:  20.0 %  groovy progress:  20.0 %  c progress:  20.0 %  go progress:  21.0 % %  sql progress:  21.0 %  haskell progress:  22.0 %  22.0 %  objective-c progress:  22.0 %  progress:  22.0 %  assembly progress:  23.0 %  coffeescript progress:  23.0 %  23.0 %  %  25.0 %  groovy progress:  25.0 %  c++ progress:  25.0 %  26.0 %  coffeescript progress:  26.0 %  assembly progress:  26.0 % %  python progress:  27.0 %  java progress:  27.0 %  c progress:  28.0 %  28.0 %  go progress:  28.0 %  r progress:  28.0 %  haskell progress:  29.0 %  % %  30.0 %  php progress:  30.0 %  progress:  31.0 %  scala progress:  31.0 %  java progress:  31.0 %  c++ progress:  32.0 %  typescript progress:  32.0 %  % perl progress:  33.0 %  33.0 % 33.0 %  progress:  34.0 %  python progress:  34.0 %  vb.net progress:  34.0 %  progress:  35.0 %  java progress:  35.0 %  35.0 %  r progress:  36.0 %  sql progress:  36.0 %  java progress:  36.0 %  progress:  36.0 % %  java progress:  37.0 % %  % 38.0 %  css progress:  39.0 % progress:  39.0 %  python progress:  39.0 % javascript progress:  39.0 %  r progress:  40.0 %  scala progress:  40.0 %  php progress:  40.0 %  swift progress:  40.0 %  assembly progress:  41.0 %  ruby progress:  41.0 %  41.0 %  41.0 % javascript progress:  42.0 %  groovy progress:  42.0 % %  %  python progress:  43.0 %  vb.net progress:  44.0 %  javascript progress:  44.0 %  progress:  44.0 %  c progress:  44.0 %  java progress:  45.0 %  45.0 %  android progress:  45.0 % progress:  46.0 % 46.0 %  r progress:  46.0 %  javascript progress:  47.0 %  c progress:  47.0 %  vba progress:  47.0 %  haskell progress:  47.0 %  %  progress:  48.0 %  vba progress:  48.0 %  java progress:  48.0 %  matlab progress:  49.0 %  perl progress:  49.0 %  progress:  49.0 %  progress:  49.0 %  javascript progress:  50.0 %  r progress:  50.0 %  scala progress:  50.0 % progress:  51.0 %  %  scala progress:  51.0 %  vb.net progress:  52.0 % progress:  52.0 %  javascript progress:  52.0 % c progress:  52.0 %  javascript progress:  53.0 %  %  objective-c progress:  54.0 %  android progress:  54.0 %  assembly progress:  54.0 % 54.0 %  progress:  55.0 %  haskell progress:  55.0 % ruby progress:  55.0 %  scala progress:  55.0 %  scala progress:  56.0 %  python progress:  56.0 % 56.0 %  java progress:  56.0 % 57.0 %  57.0 % progress:  57.0 %  progress:  57.0 %  %  css progress:  58.0 %  go progress:  58.0 %  r progress:  59.0 %  typescript progress:  59.0 %  assembly progress:  59.0 %  60.0 % % progress:  60.0 %  lua progress:  60.0 %  vba progress:  61.0 %  python progress:  61.0 %  javascript progress:  61.0 % progress:  62.0 %  c progress:  62.0 %  62.0 %  java progress:  63.0 %  javascript progress:  63.0 % progress:  63.0 %  sql progress:  63.0 % %  %  %  r progress:  65.0 %  haskell progress:  65.0 %  progress:  65.0 %  c progress:  66.0 %  assembly progress:  66.0 % progress:  67.0 % %  go progress:  67.0 % 67.0 % ruby progress:  68.0 %  swift progress:  68.0 %  objective-c progress:  68.0 %  javascript progress:  69.0 %  go progress:  69.0 %  vb.net progress:  69.0 %  lua progress:  69.0 %  objective-c progress:  70.0 % 70.0 %  70.0 %  php progress:  70.0 %  progress:  71.0 % groovy progress:  71.0 % html progress:  71.0 %  javascript progress:  72.0 %  %  73.0 %  73.0 %  android progress:  73.0 %  php progress:  73.0 % javascript progress:  74.0 %  c++ progress:  74.0 % c progress:  74.0 % progress:  75.0 %  swift progress:  75.0 % 75.0 %  swift progress:  76.0 %  vb.net progress:  76.0 %  progress:  76.0 %  objective-c progress:  76.0 %  javascript progress:  77.0 %  77.0 %  vba progress:  77.0 %  scala progress:  77.0 %  %  %  sql progress:  78.0 % progress:  79.0 %  javascript progress:  79.0 %  swift progress:  79.0 %  c progress:  79.0 %  java progress:  80.0 %  %  vb.net progress:  81.0 % progress:  81.0 %  javascript progress:  81.0 %  objective-c progress:  82.0 %  matlab progress:  82.0 %  groovy progress:  82.0 %  82.0 %  coffeescript progress:  83.0 % %  scala progress:  83.0 %  objective-c progress:  83.0 %  c progress:  84.0 % python progress:  84.0 %  coffeescript progress:  84.0 %  php progress:  84.0 % progress:  85.0 % progress:  85.0 %  perl progress:  86.0 %  java progress:  86.0 %  c progress:  86.0 %  java progress:  86.0 % objective-c progress:  87.0 %  scala progress:  87.0 % 87.0 %  matlab progress:  89.0 % 89.0 % % progress:  89.0 %  android progress:  90.0 %  perl progress:  90.0 %  haskell progress:  90.0 %  objective-c progress:  90.0 %  java progress:  91.0 % %  python progress:  91.0 % 92.0 %  vb.net progress:  92.0 %  matlab progress:  92.0 %  progress:  92.0 %  lua progress:  93.0 %  javascript progress:  93.0 %  progress:  93.0 % coffeescript progress:  94.0 %  javascript progress:  94.0 % 94.0 %  94.0 %  perl progress:  95.0 %  objective-c progress:  95.0 % go progress:  95.0 %  sql progress:  96.0 %  php progress:  96.0 %  php progress:  96.0 %  r progress:  97.0 % 97.0 %  python progress:  97.0 %  javascript progress:  97.0 %  java progress:  98.0 %  java progress:  98.0 %  lua progress:  99.0 %  99.0 %  %  html progress:  0.0 %  css progress:  1.0 %  go progress:  2.0 %  javascript progress:  3.0 %  javascript progress:  4.0 %  c++ progress:  5.0 %  matlab progress:  6.0 %  haskell progress:  8.0 %  ruby progress:  9.0 %  11.0 %  python progress:  12.0 %  progress:  13.0 % r progress:  15.0 %  ruby progress:  16.0 % go progress:  17.0 %  vb.net progress:  18.0 % %  c progress:  20.0 % progress:  21.0 %  22.0 %  php progress:  23.0 %  c++ progress:  24.0 % haskell progress:  25.0 %  %  perl progress:  28.0 %  29.0 % 30.0 %  groovy progress:  31.0 %  assembly progress:  32.0 %  %  %  lua progress:  35.0 %  progress:  36.0 %  objective-c progress:  37.0 %  javascript progress:  38.0 %  assembly progress:  39.0 % progress:  40.0 %  %  javascript progress:  42.0 % progress:  43.0 % progress:  44.0 %  css progress:  46.0 %  typescript progress:  47.0 %  groovy progress:  48.0 % javascript progress:  49.0 % progress:  51.0 % 53.0 %  ruby progress:  54.0 %  %  progress:  56.0 %  ruby progress:  58.0 %  59.0 %  r progress:  61.0 % 62.0 %  progress:  63.0 %  vba progress:  64.0 %  65.0 %  66.0 %  c++ progress:  67.0 %  android progress:  68.0 %  javascript progress:  69.0 %  70.0 % progress:  73.0 %  %  scala progress:  75.0 %  c progress:  76.0 % progress:  77.0 %  lua progress:  78.0 %  objective-c progress:  79.0 %  javascript progress:  80.0 %  r progress:  81.0 %  javascript progress:  82.0 % %  php progress:  85.0 % vba progress:  86.0 %  87.0 %  progress:  88.0 % vba progress:  89.0 %  css progress:  90.0 %  c++ progress:  91.0 %  %  javascript progress:  93.0 %  94.0 %  % 96.0 %  go progress:  97.0 %  sql progress:  98.0 %  % \r"
     ]
    }
   ],
   "source": [
    "#10min\n",
    "def target_selection_to_bin(y_train, y_test):\n",
    "  y_train, y_test\n",
    "  target_train = np.zeros((y_train.shape[0], 26))\n",
    "\n",
    "  target_test = np.zeros((y_test.shape[0], 26))\n",
    "  len1, len2 = y_train.shape[0], y_test.shape[0]\n",
    "\n",
    "  for i in range(y_train.shape[0]):\n",
    "    #print(data[\"Tags\"].iloc[i])\n",
    "    tag_list  = clean_tags(y_train.iloc[i])\n",
    "    #print(tag_list)\n",
    "    for tag_ in tag_list:\n",
    "      tag = str(tag_)\n",
    "\n",
    "      if (tag in target_interest):\n",
    "        print(\"Present tag: \",tag,\"progress: \", np.floor(i/len1*100),'% ',end=\"\\r\")\n",
    "\n",
    "        target_train[i,target_interest.index(tag)] = 1\n",
    "        #print(data[\"Tags\"].iloc[i])\n",
    "\n",
    "  for i in range(y_test.shape[0]):\n",
    "    #print(data[\"Tags\"].iloc[i])\n",
    "    tag_list  = clean_tags(y_test.iloc[i])\n",
    "    #print(tag_list)\n",
    "    for tag_ in tag_list:\n",
    "      tag = str(tag_)\n",
    "\n",
    "      if (tag in target_interest):\n",
    "        print(\"Present tag: \",tag,\"progress: \", np.floor(i/len2*100),'% ',end=\"\\r\")\n",
    "\n",
    "        target_test[i,target_interest.index(tag)] = 1\n",
    "        #print(data[\"Tags\"].iloc[i])\n",
    "  return target_train, target_test\n",
    "\n",
    "y_train_bin, y_test_bin = target_selection_to_bin(y_train, y_test)"
   ]
  },
  {
   "cell_type": "code",
   "execution_count": 16,
   "metadata": {
    "ExecuteTime": {
     "end_time": "2021-10-10T15:58:40.419560Z",
     "start_time": "2021-10-10T15:58:40.360507Z"
    },
    "id": "63EQFsh1VqZD"
   },
   "outputs": [],
   "source": [
    "pickle_out = open(\"./RNN_model//target_test_lstm.pickle\",\"wb\")\n",
    "pickle.dump(y_train_bin, pickle_out)\n",
    "pickle_out.close()\n",
    "pickle_out = open(\"./RNN_model//target_ltsm.pickle\",\"wb\")\n",
    "pickle.dump(y_test_bin , pickle_out)\n",
    "pickle_out.close()"
   ]
  },
  {
   "cell_type": "code",
   "execution_count": 17,
   "metadata": {
    "ExecuteTime": {
     "end_time": "2021-10-10T15:58:41.175961Z",
     "start_time": "2021-10-10T15:58:41.162392Z"
    },
    "colab": {
     "base_uri": "https://localhost:8080/"
    },
    "id": "5R2_iHvayq2D",
    "outputId": "4031ae64-4c05-47f7-bf53-bffcb3603b4d"
   },
   "outputs": [
    {
     "name": "stdout",
     "output_type": "stream",
     "text": [
      "(105652, 6195)\n",
      "(26413, 6195)\n",
      "(105652,)\n",
      "(26413,)\n"
     ]
    }
   ],
   "source": [
    "print(X_train.shape)\n",
    "print(X_test.shape)\n",
    "print(y_train.shape)\n",
    "print(y_test.shape)\n"
   ]
  },
  {
   "cell_type": "code",
   "execution_count": 18,
   "metadata": {
    "ExecuteTime": {
     "end_time": "2021-10-10T15:58:41.971076Z",
     "start_time": "2021-10-10T15:58:41.910975Z"
    },
    "colab": {
     "base_uri": "https://localhost:8080/"
    },
    "id": "WeGSAWyyXvXq",
    "outputId": "48f19591-05b1-4804-a483-e879cc3c2bc3"
   },
   "outputs": [
    {
     "name": "stdout",
     "output_type": "stream",
     "text": [
      "data distribution test set  \t train set\n",
      "assembly\n",
      "\t\t 1010 \t\t 3993\n",
      "c\n",
      "\t\t 2494 \t\t 9598\n",
      "c++\n",
      "\t\t 1196 \t\t 5020\n",
      "coffeescript\n",
      "\t\t 1054 \t\t 3946\n",
      "go\n",
      "\t\t 1029 \t\t 3977\n",
      "groovy\n",
      "\t\t 965 \t\t 4036\n",
      "haskell\n",
      "\t\t 1038 \t\t 3968\n",
      "java\n",
      "\t\t 1433 \t\t 5604\n",
      "javascript\n",
      "\t\t 2930 \t\t 11423\n",
      "lua\n",
      "\t\t 1014 \t\t 3986\n",
      "matlab\n",
      "\t\t 1017 \t\t 3987\n",
      "objective-c\n",
      "\t\t 1007 \t\t 4085\n",
      "html\n",
      "\t\t 1276 \t\t 5341\n",
      "css\n",
      "\t\t 1023 \t\t 4140\n",
      "android\n",
      "\t\t 1065 \t\t 4227\n",
      "perl\n",
      "\t\t 953 \t\t 4053\n",
      "php\n",
      "\t\t 1150 \t\t 4730\n",
      "python\n",
      "\t\t 1123 \t\t 4690\n",
      "r\n",
      "\t\t 1017 \t\t 4027\n",
      "ruby\n",
      "\t\t 1038 \t\t 4145\n",
      "scala\n",
      "\t\t 1001 \t\t 4040\n",
      "sql\n",
      "\t\t 1022 \t\t 4390\n",
      "swift\n",
      "\t\t 1022 \t\t 3988\n",
      "typescript\n",
      "\t\t 994 \t\t 4024\n",
      "vb.net\n",
      "\t\t 981 \t\t 4026\n",
      "vba\n",
      "\t\t 998 \t\t 4021\n"
     ]
    }
   ],
   "source": [
    "#label distribution\n",
    "#make histogram\n",
    "print(\"data distribution test set  \\t train set\")\n",
    "for i in range(len(target_interest)):\n",
    "  print(target_interest[i])\n",
    "  print(\"\\t\\t\",np.count_nonzero(y_test_bin[:,i] == 1, axis=0),'\\t\\t', np.count_nonzero(y_train_bin[:,i] == 1,axis=0))"
   ]
  },
  {
   "cell_type": "code",
   "execution_count": 19,
   "metadata": {
    "ExecuteTime": {
     "end_time": "2021-10-10T15:58:43.385657Z",
     "start_time": "2021-10-10T15:58:42.675826Z"
    },
    "colab": {
     "base_uri": "https://localhost:8080/"
    },
    "id": "GhK-nJn9V44z",
    "outputId": "34bf7d4b-1216-4423-c904-bcbb684e1ab7"
   },
   "outputs": [
    {
     "ename": "NameError",
     "evalue": "name 'target' is not defined",
     "output_type": "error",
     "traceback": [
      "\u001b[1;31m---------------------------------------------------------------------------\u001b[0m",
      "\u001b[1;31mNameError\u001b[0m                                 Traceback (most recent call last)",
      "\u001b[1;32m~\\AppData\\Local\\Temp/ipykernel_18324/4042299403.py\u001b[0m in \u001b[0;36m<module>\u001b[1;34m\u001b[0m\n\u001b[1;32m----> 1\u001b[1;33m \u001b[0mprint\u001b[0m\u001b[1;33m(\u001b[0m\u001b[0mtarget\u001b[0m\u001b[1;33m.\u001b[0m\u001b[0mshape\u001b[0m\u001b[1;33m)\u001b[0m\u001b[1;33m\u001b[0m\u001b[1;33m\u001b[0m\u001b[0m\n\u001b[0m\u001b[0;32m      2\u001b[0m \u001b[0mprint\u001b[0m\u001b[1;33m(\u001b[0m\u001b[0mx_train\u001b[0m\u001b[1;33m.\u001b[0m\u001b[0mshape\u001b[0m\u001b[1;33m)\u001b[0m\u001b[1;33m\u001b[0m\u001b[1;33m\u001b[0m\u001b[0m\n",
      "\u001b[1;31mNameError\u001b[0m: name 'target' is not defined"
     ]
    }
   ],
   "source": [
    "print(target.shape)\n",
    "print(x_train.shape)"
   ]
  },
  {
   "cell_type": "code",
   "execution_count": null,
   "metadata": {
    "id": "UWByghQnfZKL"
   },
   "outputs": [],
   "source": []
  },
  {
   "cell_type": "code",
   "execution_count": null,
   "metadata": {},
   "outputs": [],
   "source": []
  }
 ],
 "metadata": {
  "colab": {
   "collapsed_sections": [],
   "name": "StackOverflow_LSTM_corpus contraction.ipynb",
   "provenance": []
  },
  "kernelspec": {
   "display_name": "Python 3 (ipykernel)",
   "language": "python",
   "name": "python3"
  },
  "language_info": {
   "codemirror_mode": {
    "name": "ipython",
    "version": 3
   },
   "file_extension": ".py",
   "mimetype": "text/x-python",
   "name": "python",
   "nbconvert_exporter": "python",
   "pygments_lexer": "ipython3",
   "version": "3.7.10"
  },
  "toc": {
   "base_numbering": 1,
   "nav_menu": {},
   "number_sections": true,
   "sideBar": true,
   "skip_h1_title": false,
   "title_cell": "Table of Contents",
   "title_sidebar": "Contents",
   "toc_cell": false,
   "toc_position": {},
   "toc_section_display": true,
   "toc_window_display": false
  },
  "varInspector": {
   "cols": {
    "lenName": 16,
    "lenType": 16,
    "lenVar": 40
   },
   "kernels_config": {
    "python": {
     "delete_cmd_postfix": "",
     "delete_cmd_prefix": "del ",
     "library": "var_list.py",
     "varRefreshCmd": "print(var_dic_list())"
    },
    "r": {
     "delete_cmd_postfix": ") ",
     "delete_cmd_prefix": "rm(",
     "library": "var_list.r",
     "varRefreshCmd": "cat(var_dic_list()) "
    }
   },
   "types_to_exclude": [
    "module",
    "function",
    "builtin_function_or_method",
    "instance",
    "_Feature"
   ],
   "window_display": false
  }
 },
 "nbformat": 4,
 "nbformat_minor": 1
}
