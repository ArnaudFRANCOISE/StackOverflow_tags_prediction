{
 "cells": [
  {
   "cell_type": "code",
   "execution_count": null,
   "id": "j182FlhtX8OH",
   "metadata": {
    "colab": {
     "base_uri": "https://localhost:8080/"
    },
    "id": "j182FlhtX8OH",
    "outputId": "22d96e96-d0ee-4210-9df7-152ec280c6a3"
   },
   "outputs": [
    {
     "name": "stdout",
     "output_type": "stream",
     "text": [
      "Drive already mounted at /content/drive; to attempt to forcibly remount, call drive.mount(\"/content/drive\", force_remount=True).\n"
     ]
    }
   ],
   "source": [
    "#Running local\n",
    "#from google.colab import drive\n",
    "#drive.mount('/content/drive')"
   ]
  },
  {
   "cell_type": "code",
   "execution_count": 3,
   "id": "d92c4e5b",
   "metadata": {
    "ExecuteTime": {
     "end_time": "2021-10-24T15:33:18.242315Z",
     "start_time": "2021-10-24T15:33:18.229319Z"
    },
    "id": "d92c4e5b"
   },
   "outputs": [],
   "source": [
    "import tensorflow\n",
    "from tensorflow.keras.preprocessing.sequence import pad_sequences\n",
    "from tensorflow.keras.models import Sequential\n",
    "from tensorflow.keras.layers import Dense, Embedding, LSTM, SpatialDropout1D\n",
    "from sklearn.model_selection import train_test_split\n",
    "from tensorflow.keras.utils import to_categorical"
   ]
  },
  {
   "cell_type": "code",
   "execution_count": 4,
   "id": "6f31696e",
   "metadata": {
    "ExecuteTime": {
     "end_time": "2021-10-24T15:33:18.458904Z",
     "start_time": "2021-10-24T15:33:18.441908Z"
    },
    "id": "6f31696e"
   },
   "outputs": [],
   "source": [
    "import pickle\n",
    "pickle_in = open(\"./data/top11_X_seq.pickle\",\"rb\")\n",
    "X = pickle.load(pickle_in)\n",
    "\n",
    "pickle_in = open(\"./data/top11_y_seq.pickle\",\"rb\")\n",
    "y = pickle.load(pickle_in)"
   ]
  },
  {
   "cell_type": "code",
   "execution_count": 5,
   "id": "B5U84rt6ZISP",
   "metadata": {
    "ExecuteTime": {
     "end_time": "2021-10-24T15:33:18.677079Z",
     "start_time": "2021-10-24T15:33:18.653087Z"
    },
    "colab": {
     "base_uri": "https://localhost:8080/"
    },
    "id": "B5U84rt6ZISP",
    "outputId": "4e0232c1-1c7f-40bd-d305-1adeca594197"
   },
   "outputs": [
    {
     "data": {
      "text/plain": [
       "array([[0, 0, 1, ..., 0, 0, 0],\n",
       "       [0, 0, 1, ..., 0, 0, 0],\n",
       "       [0, 0, 1, ..., 0, 0, 0],\n",
       "       ...,\n",
       "       [0, 0, 0, ..., 0, 0, 1],\n",
       "       [0, 0, 0, ..., 0, 0, 1],\n",
       "       [0, 1, 0, ..., 0, 0, 0]], dtype=int64)"
      ]
     },
     "execution_count": 5,
     "metadata": {},
     "output_type": "execute_result"
    }
   ],
   "source": [
    "y"
   ]
  },
  {
   "cell_type": "code",
   "execution_count": 6,
   "id": "fHu0FnWdZGsG",
   "metadata": {
    "ExecuteTime": {
     "end_time": "2021-10-24T15:33:18.848891Z",
     "start_time": "2021-10-24T15:33:18.841892Z"
    },
    "id": "fHu0FnWdZGsG"
   },
   "outputs": [],
   "source": [
    "X\n",
    "from sklearn.preprocessing import MinMaxScaler\n",
    "\n",
    "scaler = MinMaxScaler()\n",
    "#X = scaler.fit_transform(X)"
   ]
  },
  {
   "cell_type": "code",
   "execution_count": 7,
   "id": "VIPOCmXxyJZM",
   "metadata": {
    "ExecuteTime": {
     "end_time": "2021-10-24T15:33:19.848289Z",
     "start_time": "2021-10-24T15:33:19.015834Z"
    },
    "colab": {
     "base_uri": "https://localhost:8080/"
    },
    "id": "VIPOCmXxyJZM",
    "outputId": "c308e17f-c774-494b-f1a9-70ed8646fd09"
   },
   "outputs": [
    {
     "name": "stdout",
     "output_type": "stream",
     "text": [
      "<class 'pandas.core.frame.DataFrame'>\n",
      "RangeIndex: 1117 entries, 0 to 1116\n",
      "Columns: 1270 entries, 0 to 1269\n",
      "dtypes: int32(1270)\n",
      "memory usage: 5.4 MB\n"
     ]
    }
   ],
   "source": [
    "import pandas as pd\n",
    "\n",
    "type(X)\n",
    "Xf = pd.DataFrame(X)\n",
    "Xf.info()"
   ]
  },
  {
   "cell_type": "code",
   "execution_count": 8,
   "id": "Q_Gm1_5_YFk4",
   "metadata": {
    "ExecuteTime": {
     "end_time": "2021-10-24T15:33:20.082443Z",
     "start_time": "2021-10-24T15:33:20.068449Z"
    },
    "id": "Q_Gm1_5_YFk4"
   },
   "outputs": [],
   "source": [
    "from sklearn.model_selection import train_test_split\n",
    "X_train, X_test, y_train, y_test = train_test_split(X, y, test_size=0.20, random_state=42)"
   ]
  },
  {
   "cell_type": "code",
   "execution_count": 9,
   "id": "w95aAvTLyvA3",
   "metadata": {
    "ExecuteTime": {
     "end_time": "2021-10-24T15:33:20.559929Z",
     "start_time": "2021-10-24T15:33:20.302372Z"
    },
    "colab": {
     "base_uri": "https://localhost:8080/"
    },
    "id": "w95aAvTLyvA3",
    "outputId": "16d158b5-d99b-457c-a24a-56c1653a1d25"
   },
   "outputs": [
    {
     "name": "stdout",
     "output_type": "stream",
     "text": [
      "(893, 1270)\n",
      "(893, 10)\n",
      "<class 'pandas.core.frame.DataFrame'>\n",
      "RangeIndex: 893 entries, 0 to 892\n",
      "Columns: 1270 entries, 0 to 1269\n",
      "dtypes: int32(1270)\n",
      "memory usage: 4.3 MB\n",
      "<class 'pandas.core.frame.DataFrame'>\n",
      "RangeIndex: 224 entries, 0 to 223\n",
      "Columns: 1270 entries, 0 to 1269\n",
      "dtypes: int32(1270)\n",
      "memory usage: 1.1 MB\n",
      "<class 'pandas.core.frame.DataFrame'>\n",
      "RangeIndex: 893 entries, 0 to 892\n",
      "Data columns (total 10 columns):\n",
      " #   Column  Non-Null Count  Dtype\n",
      "---  ------  --------------  -----\n",
      " 0   0       893 non-null    int64\n",
      " 1   1       893 non-null    int64\n",
      " 2   2       893 non-null    int64\n",
      " 3   3       893 non-null    int64\n",
      " 4   4       893 non-null    int64\n",
      " 5   5       893 non-null    int64\n",
      " 6   6       893 non-null    int64\n",
      " 7   7       893 non-null    int64\n",
      " 8   8       893 non-null    int64\n",
      " 9   9       893 non-null    int64\n",
      "dtypes: int64(10)\n",
      "memory usage: 69.9 KB\n",
      "<class 'pandas.core.frame.DataFrame'>\n",
      "RangeIndex: 224 entries, 0 to 223\n",
      "Data columns (total 10 columns):\n",
      " #   Column  Non-Null Count  Dtype\n",
      "---  ------  --------------  -----\n",
      " 0   0       224 non-null    int64\n",
      " 1   1       224 non-null    int64\n",
      " 2   2       224 non-null    int64\n",
      " 3   3       224 non-null    int64\n",
      " 4   4       224 non-null    int64\n",
      " 5   5       224 non-null    int64\n",
      " 6   6       224 non-null    int64\n",
      " 7   7       224 non-null    int64\n",
      " 8   8       224 non-null    int64\n",
      " 9   9       224 non-null    int64\n",
      "dtypes: int64(10)\n",
      "memory usage: 17.6 KB\n"
     ]
    }
   ],
   "source": [
    "print(X_train.shape)\n",
    "print(y_train.shape)\n",
    "import pandas as pd \n",
    "\n",
    "type(X_train)\n",
    "X = pd.DataFrame(X_train)\n",
    "X.info()\n",
    "\n",
    "type(X_test)\n",
    "X = pd.DataFrame(X_test)\n",
    "X.info()\n",
    "type(y_train)\n",
    "X = pd.DataFrame(y_train)\n",
    "X.info()\n",
    "type(y_test)\n",
    "X = pd.DataFrame(y_test)\n",
    "X.info()"
   ]
  },
  {
   "cell_type": "code",
   "execution_count": 10,
   "id": "QQ_q79Srap6X",
   "metadata": {
    "ExecuteTime": {
     "end_time": "2021-10-24T15:33:21.871832Z",
     "start_time": "2021-10-24T15:33:20.822022Z"
    },
    "colab": {
     "base_uri": "https://localhost:8080/",
     "height": 35
    },
    "id": "QQ_q79Srap6X",
    "outputId": "43a0496a-faac-4d99-d06f-3c80de535848"
   },
   "outputs": [
    {
     "data": {
      "text/plain": [
       "'Sun Oct 24 17:33:21 2021'"
      ]
     },
     "execution_count": 10,
     "metadata": {},
     "output_type": "execute_result"
    }
   ],
   "source": [
    "from tensorflow import keras\n",
    "METRICS = [\n",
    "      keras.metrics.TruePositives(name='TruePositives'),\n",
    "      keras.metrics.FalsePositives(name='FalsePositive'),\n",
    "      keras.metrics.TrueNegatives(name='TrueNegatives'),\n",
    "      keras.metrics.FalseNegatives(name='FalseNegatives'), \n",
    "      keras.metrics.BinaryAccuracy(name='accuracy'),\n",
    "      keras.metrics.Precision(name='precision'),\n",
    "      keras.metrics.Recall(name='recall'),\n",
    "      keras.metrics.AUC(name='auc'),\n",
    "]\n",
    "import time\n",
    "time.ctime(time.time())"
   ]
  },
  {
   "cell_type": "code",
   "execution_count": 11,
   "id": "WGRfoYUi03mw",
   "metadata": {
    "ExecuteTime": {
     "end_time": "2021-10-24T15:33:22.134462Z",
     "start_time": "2021-10-24T15:33:22.121467Z"
    },
    "colab": {
     "base_uri": "https://localhost:8080/"
    },
    "id": "WGRfoYUi03mw",
    "outputId": "55d31381-683c-4c0b-ce20-94c7d2e476e1"
   },
   "outputs": [
    {
     "data": {
      "text/plain": [
       "(893, 1270)"
      ]
     },
     "execution_count": 11,
     "metadata": {},
     "output_type": "execute_result"
    }
   ],
   "source": [
    "X_train.shape"
   ]
  },
  {
   "cell_type": "code",
   "execution_count": 12,
   "id": "BudDVAcrbGSn",
   "metadata": {
    "ExecuteTime": {
     "end_time": "2021-10-24T15:33:22.425336Z",
     "start_time": "2021-10-24T15:33:22.411371Z"
    },
    "id": "BudDVAcrbGSn"
   },
   "outputs": [],
   "source": [
    "from tensorflow.keras.callbacks import TensorBoard"
   ]
  },
  {
   "cell_type": "code",
   "execution_count": 13,
   "id": "df761b1f",
   "metadata": {
    "ExecuteTime": {
     "end_time": "2021-10-24T15:33:22.909698Z",
     "start_time": "2021-10-24T15:33:22.685258Z"
    },
    "colab": {
     "base_uri": "https://localhost:8080/"
    },
    "id": "df761b1f",
    "outputId": "a543761d-8e0c-405f-eb27-0399f999016b"
   },
   "outputs": [
    {
     "name": "stdout",
     "output_type": "stream",
     "text": [
      "WARNING:tensorflow:Layer lstm will not use cuDNN kernels since it doesn't meet the criteria. It will use a generic GPU kernel as fallback when running on GPU.\n",
      "Model: \"sequential\"\n",
      "_________________________________________________________________\n",
      "Layer (type)                 Output Shape              Param #   \n",
      "=================================================================\n",
      "embedding (Embedding)        (None, 1270, 128)         64000     \n",
      "_________________________________________________________________\n",
      "spatial_dropout1d (SpatialDr (None, 1270, 128)         0         \n",
      "_________________________________________________________________\n",
      "lstm (LSTM)                  (None, 128)               131584    \n",
      "_________________________________________________________________\n",
      "dense (Dense)                (None, 10)                1290      \n",
      "=================================================================\n",
      "Total params: 196,874\n",
      "Trainable params: 196,874\n",
      "Non-trainable params: 0\n",
      "_________________________________________________________________\n",
      "None\n"
     ]
    }
   ],
   "source": [
    "embed_dim = 128\n",
    "lstm_out = 128\n",
    "max_fatures = 500\n",
    "model = Sequential()\n",
    "model.add(Embedding(max_fatures, embed_dim,input_length = X_train.shape[1]))\n",
    "model.add(SpatialDropout1D(0.4))\n",
    "model.add(LSTM(lstm_out, dropout=0.2, recurrent_dropout=0.2))\n",
    "model.add(Dense(y_train.shape[1],activation='sigmoid'))\n",
    "model.compile(loss = 'binary_crossentropy', optimizer='adam',metrics = METRICS)\n",
    "\n",
    "print(model.summary())"
   ]
  },
  {
   "cell_type": "code",
   "execution_count": 20,
   "id": "dyhF8-9DbP5W",
   "metadata": {
    "ExecuteTime": {
     "end_time": "2021-10-24T20:38:14.936661Z",
     "start_time": "2021-10-24T15:40:59.592120Z"
    },
    "colab": {
     "base_uri": "https://localhost:8080/"
    },
    "id": "dyhF8-9DbP5W",
    "outputId": "611e8b5d-f106-401c-9f21-fbb309e1f55f"
   },
   "outputs": [
    {
     "name": "stdout",
     "output_type": "stream",
     "text": [
      "Epoch 1/14\n",
      "56/56 [==============================] - 1274s 23s/step - loss: 0.3625 - TruePositives: 0.0000e+00 - FalsePositive: 0.0000e+00 - TrueNegatives: 7888.0000 - FalseNegatives: 1042.0000 - accuracy: 0.8833 - precision: 0.0000e+00 - recall: 0.0000e+00 - auc: 0.5385 - val_loss: 0.3663 - val_TruePositives: 0.0000e+00 - val_FalsePositive: 0.0000e+00 - val_TrueNegatives: 1968.0000 - val_FalseNegatives: 272.0000 - val_accuracy: 0.8786 - val_precision: 0.0000e+00 - val_recall: 0.0000e+00 - val_auc: 0.5762\n",
      "Epoch 2/14\n",
      "56/56 [==============================] - 1190s 21s/step - loss: 0.3573 - TruePositives: 0.0000e+00 - FalsePositive: 0.0000e+00 - TrueNegatives: 7888.0000 - FalseNegatives: 1042.0000 - accuracy: 0.8833 - precision: 0.0000e+00 - recall: 0.0000e+00 - auc: 0.5675 - val_loss: 0.3683 - val_TruePositives: 0.0000e+00 - val_FalsePositive: 0.0000e+00 - val_TrueNegatives: 1968.0000 - val_FalseNegatives: 272.0000 - val_accuracy: 0.8786 - val_precision: 0.0000e+00 - val_recall: 0.0000e+00 - val_auc: 0.5569\n",
      "Epoch 3/14\n",
      "56/56 [==============================] - 1232s 22s/step - loss: 0.3560 - TruePositives: 0.0000e+00 - FalsePositive: 0.0000e+00 - TrueNegatives: 7888.0000 - FalseNegatives: 1042.0000 - accuracy: 0.8833 - precision: 0.0000e+00 - recall: 0.0000e+00 - auc: 0.5801 - val_loss: 0.3652 - val_TruePositives: 0.0000e+00 - val_FalsePositive: 0.0000e+00 - val_TrueNegatives: 1968.0000 - val_FalseNegatives: 272.0000 - val_accuracy: 0.8786 - val_precision: 0.0000e+00 - val_recall: 0.0000e+00 - val_auc: 0.5845\n",
      "Epoch 4/14\n",
      "56/56 [==============================] - 1300s 23s/step - loss: 0.3508 - TruePositives: 0.0000e+00 - FalsePositive: 0.0000e+00 - TrueNegatives: 7888.0000 - FalseNegatives: 1042.0000 - accuracy: 0.8833 - precision: 0.0000e+00 - recall: 0.0000e+00 - auc: 0.6168 - val_loss: 0.3617 - val_TruePositives: 0.0000e+00 - val_FalsePositive: 0.0000e+00 - val_TrueNegatives: 1968.0000 - val_FalseNegatives: 272.0000 - val_accuracy: 0.8786 - val_precision: 0.0000e+00 - val_recall: 0.0000e+00 - val_auc: 0.6092\n",
      "Epoch 5/14\n",
      "56/56 [==============================] - 1435s 26s/step - loss: 0.3419 - TruePositives: 0.0000e+00 - FalsePositive: 0.0000e+00 - TrueNegatives: 7888.0000 - FalseNegatives: 1042.0000 - accuracy: 0.8833 - precision: 0.0000e+00 - recall: 0.0000e+00 - auc: 0.6798 - val_loss: 0.3512 - val_TruePositives: 0.0000e+00 - val_FalsePositive: 0.0000e+00 - val_TrueNegatives: 1968.0000 - val_FalseNegatives: 272.0000 - val_accuracy: 0.8786 - val_precision: 0.0000e+00 - val_recall: 0.0000e+00 - val_auc: 0.6531\n",
      "Epoch 6/14\n",
      "56/56 [==============================] - 1291s 23s/step - loss: 0.3109 - TruePositives: 45.0000 - FalsePositive: 22.0000 - TrueNegatives: 7866.0000 - FalseNegatives: 997.0000 - accuracy: 0.8859 - precision: 0.6716 - recall: 0.0432 - auc: 0.7872 - val_loss: 0.3236 - val_TruePositives: 32.0000 - val_FalsePositive: 22.0000 - val_TrueNegatives: 1946.0000 - val_FalseNegatives: 240.0000 - val_accuracy: 0.8830 - val_precision: 0.5926 - val_recall: 0.1176 - val_auc: 0.7353\n",
      "Epoch 7/14\n",
      "56/56 [==============================] - 1180s 21s/step - loss: 0.2839 - TruePositives: 123.0000 - FalsePositive: 38.0000 - TrueNegatives: 7850.0000 - FalseNegatives: 919.0000 - accuracy: 0.8928 - precision: 0.7640 - recall: 0.1180 - auc: 0.8340 - val_loss: 0.3077 - val_TruePositives: 39.0000 - val_FalsePositive: 13.0000 - val_TrueNegatives: 1955.0000 - val_FalseNegatives: 233.0000 - val_accuracy: 0.8902 - val_precision: 0.7500 - val_recall: 0.1434 - val_auc: 0.7787\n",
      "Epoch 8/14\n",
      "56/56 [==============================] - 1250s 22s/step - loss: 0.2611 - TruePositives: 202.0000 - FalsePositive: 85.0000 - TrueNegatives: 7803.0000 - FalseNegatives: 840.0000 - accuracy: 0.8964 - precision: 0.7038 - recall: 0.1939 - auc: 0.8645 - val_loss: 0.3057 - val_TruePositives: 38.0000 - val_FalsePositive: 17.0000 - val_TrueNegatives: 1951.0000 - val_FalseNegatives: 234.0000 - val_accuracy: 0.8879 - val_precision: 0.6909 - val_recall: 0.1397 - val_auc: 0.7875\n",
      "Epoch 9/14\n",
      "56/56 [==============================] - 1263s 23s/step - loss: 0.2372 - TruePositives: 278.0000 - FalsePositive: 82.0000 - TrueNegatives: 7806.0000 - FalseNegatives: 764.0000 - accuracy: 0.9053 - precision: 0.7722 - recall: 0.2668 - auc: 0.8991 - val_loss: 0.3010 - val_TruePositives: 49.0000 - val_FalsePositive: 24.0000 - val_TrueNegatives: 1944.0000 - val_FalseNegatives: 223.0000 - val_accuracy: 0.8897 - val_precision: 0.6712 - val_recall: 0.1801 - val_auc: 0.7978\n",
      "Epoch 10/14\n",
      "56/56 [==============================] - 1266s 23s/step - loss: 0.2110 - TruePositives: 390.0000 - FalsePositive: 119.0000 - TrueNegatives: 7769.0000 - FalseNegatives: 652.0000 - accuracy: 0.9137 - precision: 0.7662 - recall: 0.3743 - auc: 0.9255 - val_loss: 0.3111 - val_TruePositives: 61.0000 - val_FalsePositive: 43.0000 - val_TrueNegatives: 1925.0000 - val_FalseNegatives: 211.0000 - val_accuracy: 0.8866 - val_precision: 0.5865 - val_recall: 0.2243 - val_auc: 0.7883\n",
      "Epoch 11/14\n",
      "56/56 [==============================] - 1255s 22s/step - loss: 0.2048 - TruePositives: 445.0000 - FalsePositive: 118.0000 - TrueNegatives: 7770.0000 - FalseNegatives: 597.0000 - accuracy: 0.9199 - precision: 0.7904 - recall: 0.4271 - auc: 0.9276 - val_loss: 0.2894 - val_TruePositives: 71.0000 - val_FalsePositive: 46.0000 - val_TrueNegatives: 1922.0000 - val_FalseNegatives: 201.0000 - val_accuracy: 0.8897 - val_precision: 0.6068 - val_recall: 0.2610 - val_auc: 0.8195\n",
      "Epoch 12/14\n",
      "56/56 [==============================] - 1360s 24s/step - loss: 0.1887 - TruePositives: 498.0000 - FalsePositive: 133.0000 - TrueNegatives: 7755.0000 - FalseNegatives: 544.0000 - accuracy: 0.9242 - precision: 0.7892 - recall: 0.4779 - auc: 0.9404 - val_loss: 0.3104 - val_TruePositives: 67.0000 - val_FalsePositive: 54.0000 - val_TrueNegatives: 1914.0000 - val_FalseNegatives: 205.0000 - val_accuracy: 0.8844 - val_precision: 0.5537 - val_recall: 0.2463 - val_auc: 0.7995\n",
      "Epoch 13/14\n",
      "56/56 [==============================] - 1271s 23s/step - loss: 0.1781 - TruePositives: 558.0000 - FalsePositive: 144.0000 - TrueNegatives: 7744.0000 - FalseNegatives: 484.0000 - accuracy: 0.9297 - precision: 0.7949 - recall: 0.5355 - auc: 0.9479 - val_loss: 0.3070 - val_TruePositives: 80.0000 - val_FalsePositive: 67.0000 - val_TrueNegatives: 1901.0000 - val_FalseNegatives: 192.0000 - val_accuracy: 0.8844 - val_precision: 0.5442 - val_recall: 0.2941 - val_auc: 0.8084\n",
      "Epoch 14/14\n",
      "56/56 [==============================] - 1263s 23s/step - loss: 0.1597 - TruePositives: 620.0000 - FalsePositive: 143.0000 - TrueNegatives: 7745.0000 - FalseNegatives: 422.0000 - accuracy: 0.9367 - precision: 0.8126 - recall: 0.5950 - auc: 0.9599 - val_loss: 0.2879 - val_TruePositives: 96.0000 - val_FalsePositive: 54.0000 - val_TrueNegatives: 1914.0000 - val_FalseNegatives: 176.0000 - val_accuracy: 0.8973 - val_precision: 0.6400 - val_recall: 0.3529 - val_auc: 0.8320\n",
      "Model: \"sequential\"\n",
      "_________________________________________________________________\n",
      "Layer (type)                 Output Shape              Param #   \n",
      "=================================================================\n",
      "embedding (Embedding)        (None, 1270, 128)         64000     \n",
      "_________________________________________________________________\n",
      "spatial_dropout1d (SpatialDr (None, 1270, 128)         0         \n",
      "_________________________________________________________________\n",
      "lstm (LSTM)                  (None, 128)               131584    \n",
      "_________________________________________________________________\n",
      "dense (Dense)                (None, 10)                1290      \n",
      "=================================================================\n",
      "Total params: 196,874\n",
      "Trainable params: 196,874\n",
      "Non-trainable params: 0\n",
      "_________________________________________________________________\n",
      "INFO:tensorflow:Assets written to: ./SavedModel/RNN_V2_RNN_V2_14\\assets\n"
     ]
    }
   ],
   "source": [
    "import tensorflow as tf\n",
    "\n",
    "my_callbacks = [\n",
    "    tf.keras.callbacks.EarlyStopping(patience=5),\n",
    "    tf.keras.callbacks.ReduceLROnPlateau(monitor='val_loss', factor=0.1,\n",
    "                              patience=3, min_lr=0.00001,mode='min')\n",
    "]\n",
    "\n",
    "\n",
    "nb_epochs = 14\n",
    "NAME = \"RNN_V2_{}\".format(nb_epochs)\n",
    "tensorboard = TensorBoard(log_dir=\"./logs/{}\".format(NAME))\n",
    "history=model.fit(\n",
    "    X_train,\n",
    "    y_train,\n",
    "    validation_data=(X_test,y_test),\n",
    "    epochs=nb_epochs,\n",
    "    batch_size=16,\n",
    "    callbacks=[tensorboard]\n",
    ")\n",
    "\n",
    "model.summary()\n",
    "model.save('./SavedModel/RNN_V2_{}'.format(NAME))"
   ]
  },
  {
   "cell_type": "code",
   "execution_count": 2,
   "id": "ff55c7d7",
   "metadata": {
    "ExecuteTime": {
     "end_time": "2021-10-24T21:04:09.285968Z",
     "start_time": "2021-10-24T21:04:02.083791Z"
    }
   },
   "outputs": [
    {
     "data": {
      "text/html": [
       "\n",
       "      <iframe id=\"tensorboard-frame-814933def93edd5e\" width=\"100%\" height=\"800\" frameborder=\"0\">\n",
       "      </iframe>\n",
       "      <script>\n",
       "        (function() {\n",
       "          const frame = document.getElementById(\"tensorboard-frame-814933def93edd5e\");\n",
       "          const url = new URL(\"/\", window.location);\n",
       "          const port = 6006;\n",
       "          if (port) {\n",
       "            url.port = port;\n",
       "          }\n",
       "          frame.src = url;\n",
       "        })();\n",
       "      </script>\n",
       "    "
      ],
      "text/plain": [
       "<IPython.core.display.HTML object>"
      ]
     },
     "metadata": {},
     "output_type": "display_data"
    }
   ],
   "source": [
    "#%reload_ext tensorboard\n",
    "#!kill 16828\n",
    "%tensorboard --logdir=\"C:\\Users\\Arnaud\\Documents\\GitHub\\StackOverflow_tags_prediction\\RNN_model\\tensordboardlogs\""
   ]
  },
  {
   "cell_type": "code",
   "execution_count": null,
   "id": "oN37PrG12KV0",
   "metadata": {
    "id": "oN37PrG12KV0"
   },
   "outputs": [],
   "source": [
    "import numpy as np\n",
    "y_predict = model.predict(X_test)\n",
    "is_predict_correct = []\n",
    "\n",
    "for i in range(y_predict.shape[0]):\n",
    "  is_predict_correct.append(np.argmax(y_predict[i]) == np.argmax(y_test[i]))"
   ]
  },
  {
   "cell_type": "code",
   "execution_count": null,
   "id": "5wagzbM3caPC",
   "metadata": {
    "colab": {
     "base_uri": "https://localhost:8080/"
    },
    "id": "5wagzbM3caPC",
    "outputId": "74c54e15-c161-4e40-d35b-7bc958c7ab05"
   },
   "outputs": [
    {
     "data": {
      "text/plain": [
       "array([[0.09, 0.1 , 0.09, 0.08, 0.1 , 0.13, 0.13, 0.11, 0.09, 0.09],\n",
       "       [0.09, 0.1 , 0.09, 0.08, 0.1 , 0.13, 0.14, 0.11, 0.09, 0.09],\n",
       "       [0.09, 0.1 , 0.09, 0.08, 0.1 , 0.12, 0.12, 0.11, 0.09, 0.09],\n",
       "       [0.09, 0.1 , 0.09, 0.09, 0.1 , 0.12, 0.13, 0.1 , 0.09, 0.09],\n",
       "       [0.09, 0.1 , 0.09, 0.08, 0.1 , 0.13, 0.13, 0.11, 0.09, 0.08]],\n",
       "      dtype=float32)"
      ]
     },
     "execution_count": 44,
     "metadata": {},
     "output_type": "execute_result"
    }
   ],
   "source": [
    "y_predict[:5],"
   ]
  },
  {
   "cell_type": "code",
   "execution_count": null,
   "id": "Z9M_Np-AclrB",
   "metadata": {
    "id": "Z9M_Np-AclrB"
   },
   "outputs": [],
   "source": []
  },
  {
   "cell_type": "code",
   "execution_count": null,
   "id": "Eiq5NFAccdnU",
   "metadata": {
    "colab": {
     "base_uri": "https://localhost:8080/"
    },
    "id": "Eiq5NFAccdnU",
    "outputId": "ea8ca610-4269-463a-968e-e623dfa5a4f9"
   },
   "outputs": [
    {
     "data": {
      "text/plain": [
       "array([[0, 0, 0, 0, 0, 1, 0, 0, 0, 0],\n",
       "       [1, 0, 0, 1, 0, 0, 0, 0, 0, 0],\n",
       "       [0, 0, 0, 0, 0, 0, 0, 1, 0, 0],\n",
       "       [0, 0, 0, 0, 0, 0, 1, 0, 0, 0],\n",
       "       [0, 0, 0, 0, 0, 1, 0, 0, 0, 0]])"
      ]
     },
     "execution_count": 37,
     "metadata": {},
     "output_type": "execute_result"
    }
   ],
   "source": [
    "y_test[:5]"
   ]
  },
  {
   "cell_type": "code",
   "execution_count": null,
   "id": "WmVSXShJcPka",
   "metadata": {
    "colab": {
     "base_uri": "https://localhost:8080/"
    },
    "id": "WmVSXShJcPka",
    "outputId": "13bd77e0-fbef-433e-9d92-0de9bd7d75cf"
   },
   "outputs": [
    {
     "data": {
      "text/plain": [
       "[True,\n",
       " False,\n",
       " False,\n",
       " True,\n",
       " False,\n",
       " False,\n",
       " False,\n",
       " False,\n",
       " False,\n",
       " False,\n",
       " False,\n",
       " False,\n",
       " False,\n",
       " False,\n",
       " False,\n",
       " False,\n",
       " False,\n",
       " False,\n",
       " False,\n",
       " False,\n",
       " False,\n",
       " False,\n",
       " False,\n",
       " False,\n",
       " False,\n",
       " False,\n",
       " False,\n",
       " False,\n",
       " False,\n",
       " False,\n",
       " False,\n",
       " False,\n",
       " True,\n",
       " False,\n",
       " True,\n",
       " False,\n",
       " False,\n",
       " True,\n",
       " False,\n",
       " True,\n",
       " False,\n",
       " False,\n",
       " False,\n",
       " False,\n",
       " False,\n",
       " True,\n",
       " True,\n",
       " False,\n",
       " False,\n",
       " False,\n",
       " False,\n",
       " False,\n",
       " False,\n",
       " True,\n",
       " False,\n",
       " False,\n",
       " False,\n",
       " False,\n",
       " False,\n",
       " False,\n",
       " False,\n",
       " False,\n",
       " False,\n",
       " True,\n",
       " False,\n",
       " False,\n",
       " False,\n",
       " True,\n",
       " False,\n",
       " False,\n",
       " False,\n",
       " False,\n",
       " False,\n",
       " False,\n",
       " False,\n",
       " False,\n",
       " False,\n",
       " False,\n",
       " False,\n",
       " True,\n",
       " False,\n",
       " False,\n",
       " False,\n",
       " False,\n",
       " False,\n",
       " False,\n",
       " False,\n",
       " False,\n",
       " False,\n",
       " False,\n",
       " False,\n",
       " True,\n",
       " False,\n",
       " False,\n",
       " False,\n",
       " False,\n",
       " False,\n",
       " False,\n",
       " False,\n",
       " False,\n",
       " False,\n",
       " False,\n",
       " False,\n",
       " False,\n",
       " False,\n",
       " False,\n",
       " False,\n",
       " False,\n",
       " False,\n",
       " False,\n",
       " False,\n",
       " False,\n",
       " False,\n",
       " False,\n",
       " False,\n",
       " False,\n",
       " False,\n",
       " False,\n",
       " False,\n",
       " False,\n",
       " False,\n",
       " False,\n",
       " False,\n",
       " True,\n",
       " True,\n",
       " True,\n",
       " True,\n",
       " False,\n",
       " False,\n",
       " False,\n",
       " False,\n",
       " False,\n",
       " False,\n",
       " False,\n",
       " False,\n",
       " False,\n",
       " False,\n",
       " False,\n",
       " False,\n",
       " False,\n",
       " False,\n",
       " False,\n",
       " False,\n",
       " False,\n",
       " True,\n",
       " False,\n",
       " False,\n",
       " False,\n",
       " False,\n",
       " False,\n",
       " False,\n",
       " False,\n",
       " False,\n",
       " False,\n",
       " False,\n",
       " False,\n",
       " False,\n",
       " False,\n",
       " False,\n",
       " False,\n",
       " False,\n",
       " False,\n",
       " False,\n",
       " False,\n",
       " False,\n",
       " False,\n",
       " False,\n",
       " False,\n",
       " False,\n",
       " False,\n",
       " False,\n",
       " False,\n",
       " False,\n",
       " False,\n",
       " False,\n",
       " True,\n",
       " False,\n",
       " False,\n",
       " False,\n",
       " False,\n",
       " False,\n",
       " False,\n",
       " False,\n",
       " False,\n",
       " False,\n",
       " False,\n",
       " False,\n",
       " True,\n",
       " False,\n",
       " False,\n",
       " False,\n",
       " False,\n",
       " False,\n",
       " True,\n",
       " False,\n",
       " False,\n",
       " False,\n",
       " False,\n",
       " False,\n",
       " False,\n",
       " False,\n",
       " True,\n",
       " False,\n",
       " False,\n",
       " False,\n",
       " False,\n",
       " False,\n",
       " False,\n",
       " False,\n",
       " False,\n",
       " False,\n",
       " False,\n",
       " False,\n",
       " False,\n",
       " False,\n",
       " False,\n",
       " False,\n",
       " False,\n",
       " True,\n",
       " False,\n",
       " False,\n",
       " False,\n",
       " False,\n",
       " False]"
      ]
     },
     "execution_count": 38,
     "metadata": {},
     "output_type": "execute_result"
    }
   ],
   "source": [
    "is_predict_correct"
   ]
  },
  {
   "cell_type": "code",
   "execution_count": null,
   "id": "5UK1oG_Sat10",
   "metadata": {
    "colab": {
     "base_uri": "https://localhost:8080/"
    },
    "id": "5UK1oG_Sat10",
    "outputId": "83ddb58e-5ebd-40d7-b3ac-230a0448804d"
   },
   "outputs": [
    {
     "data": {
      "text/plain": [
       "<tf.Tensor: shape=(), dtype=float32, numpy=0.0>"
      ]
     },
     "execution_count": 41,
     "metadata": {},
     "output_type": "execute_result"
    }
   ],
   "source": [
    "from sklearn.metrics import accuracy_score\n",
    "\n",
    "m = tf.keras.metrics.Accuracy()\n",
    "m.update_state(y_predict, y_test)\n",
    "m.result()"
   ]
  },
  {
   "cell_type": "code",
   "execution_count": null,
   "id": "kqh7CO0bcN3P",
   "metadata": {
    "id": "kqh7CO0bcN3P"
   },
   "outputs": [],
   "source": []
  },
  {
   "cell_type": "code",
   "execution_count": null,
   "id": "datMYkyHx6HC",
   "metadata": {
    "colab": {
     "base_uri": "https://localhost:8080/"
    },
    "id": "datMYkyHx6HC",
    "outputId": "b27b369c-9e29-46bd-e23b-386624df592c"
   },
   "outputs": [
    {
     "name": "stdout",
     "output_type": "stream",
     "text": [
      "Tue Oct 19 17:21:55 2021       \n",
      "+-----------------------------------------------------------------------------+\n",
      "| NVIDIA-SMI 470.74       Driver Version: 460.32.03    CUDA Version: 11.2     |\n",
      "|-------------------------------+----------------------+----------------------+\n",
      "| GPU  Name        Persistence-M| Bus-Id        Disp.A | Volatile Uncorr. ECC |\n",
      "| Fan  Temp  Perf  Pwr:Usage/Cap|         Memory-Usage | GPU-Util  Compute M. |\n",
      "|                               |                      |               MIG M. |\n",
      "|===============================+======================+======================|\n",
      "|   0  Tesla K80           Off  | 00000000:00:04.0 Off |                    0 |\n",
      "| N/A   73C    P0    71W / 149W |   1194MiB / 11441MiB |      0%      Default |\n",
      "|                               |                      |                  N/A |\n",
      "+-------------------------------+----------------------+----------------------+\n",
      "                                                                               \n",
      "+-----------------------------------------------------------------------------+\n",
      "| Processes:                                                                  |\n",
      "|  GPU   GI   CI        PID   Type   Process name                  GPU Memory |\n",
      "|        ID   ID                                                   Usage      |\n",
      "|=============================================================================|\n",
      "|  No running processes found                                                 |\n",
      "+-----------------------------------------------------------------------------+\n"
     ]
    }
   ],
   "source": [
    "!nvidia-smi"
   ]
  },
  {
   "cell_type": "code",
   "execution_count": null,
   "id": "PCJjeOeraFBb",
   "metadata": {
    "id": "PCJjeOeraFBb"
   },
   "outputs": [],
   "source": [
    "  pickle_out = open(\"/content/drive/MyDrive/Etudes/IA/stackoverflow_/RNN_Model/train_X_seq.pickle\",\"wb\")\n",
    "  pickle.dump(X_train, pickle_out)\n",
    "  pickle_out.close()\n",
    "\n",
    "  pickle_out = open(\"/content/drive/MyDrive/Etudes/IA/stackoverflow_/RNN_Model/train_y_seq.pickle\",\"wb\")\n",
    "  pickle.dump(y_train, pickle_out)\n",
    "  pickle_out.close()\n",
    "\n",
    "  pickle_out = open(\"/content/drive/MyDrive/Etudes/IA/stackoverflow_/RNN_Model/test_X_seq.pickle\",\"wb\")\n",
    "  pickle.dump(X_test, pickle_out)\n",
    "  pickle_out.close()\n",
    "\n",
    "  pickle_out = open(\"/content/drive/MyDrive/Etudes/IA/stackoverflow_/RNN_Model/test_y_seq.pickle\",\"wb\")\n",
    "  pickle.dump(y_test, pickle_out)\n",
    "  pickle_out.close()"
   ]
  },
  {
   "cell_type": "code",
   "execution_count": null,
   "id": "3dfe674d",
   "metadata": {
    "id": "3dfe674d"
   },
   "outputs": [],
   "source": []
  }
 ],
 "metadata": {
  "accelerator": "GPU",
  "colab": {
   "collapsed_sections": [],
   "name": "TOP12_RNN_model_v1_partIII.ipynb",
   "provenance": []
  },
  "kernelspec": {
   "display_name": "Python 3 (ipykernel)",
   "language": "python",
   "name": "python3"
  },
  "language_info": {
   "codemirror_mode": {
    "name": "ipython",
    "version": 3
   },
   "file_extension": ".py",
   "mimetype": "text/x-python",
   "name": "python",
   "nbconvert_exporter": "python",
   "pygments_lexer": "ipython3",
   "version": "3.9.7"
  },
  "toc": {
   "base_numbering": 1,
   "nav_menu": {},
   "number_sections": true,
   "sideBar": true,
   "skip_h1_title": false,
   "title_cell": "Table of Contents",
   "title_sidebar": "Contents",
   "toc_cell": false,
   "toc_position": {},
   "toc_section_display": true,
   "toc_window_display": false
  },
  "varInspector": {
   "cols": {
    "lenName": 16,
    "lenType": 16,
    "lenVar": 40
   },
   "kernels_config": {
    "python": {
     "delete_cmd_postfix": "",
     "delete_cmd_prefix": "del ",
     "library": "var_list.py",
     "varRefreshCmd": "print(var_dic_list())"
    },
    "r": {
     "delete_cmd_postfix": ") ",
     "delete_cmd_prefix": "rm(",
     "library": "var_list.r",
     "varRefreshCmd": "cat(var_dic_list()) "
    }
   },
   "types_to_exclude": [
    "module",
    "function",
    "builtin_function_or_method",
    "instance",
    "_Feature"
   ],
   "window_display": false
  }
 },
 "nbformat": 4,
 "nbformat_minor": 5
}
