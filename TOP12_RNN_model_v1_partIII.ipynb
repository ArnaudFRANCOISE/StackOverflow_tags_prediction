{
  "nbformat": 4,
  "nbformat_minor": 5,
  "metadata": {
    "colab": {
      "name": "TOP12_RNN_model_v1_partIII.ipynb",
      "provenance": [],
      "collapsed_sections": []
    },
    "kernelspec": {
      "display_name": "Python 3 (ipykernel)",
      "language": "python",
      "name": "python3"
    },
    "language_info": {
      "codemirror_mode": {
        "name": "ipython",
        "version": 3
      },
      "file_extension": ".py",
      "mimetype": "text/x-python",
      "name": "python",
      "nbconvert_exporter": "python",
      "pygments_lexer": "ipython3",
      "version": "3.7.10"
    },
    "toc": {
      "base_numbering": 1,
      "nav_menu": {},
      "number_sections": true,
      "sideBar": true,
      "skip_h1_title": false,
      "title_cell": "Table of Contents",
      "title_sidebar": "Contents",
      "toc_cell": false,
      "toc_position": {},
      "toc_section_display": true,
      "toc_window_display": false
    },
    "varInspector": {
      "cols": {
        "lenName": 16,
        "lenType": 16,
        "lenVar": 40
      },
      "kernels_config": {
        "python": {
          "delete_cmd_postfix": "",
          "delete_cmd_prefix": "del ",
          "library": "var_list.py",
          "varRefreshCmd": "print(var_dic_list())"
        },
        "r": {
          "delete_cmd_postfix": ") ",
          "delete_cmd_prefix": "rm(",
          "library": "var_list.r",
          "varRefreshCmd": "cat(var_dic_list()) "
        }
      },
      "types_to_exclude": [
        "module",
        "function",
        "builtin_function_or_method",
        "instance",
        "_Feature"
      ],
      "window_display": false
    },
    "accelerator": "GPU"
  },
  "cells": [
    {
      "cell_type": "code",
      "metadata": {
        "colab": {
          "base_uri": "https://localhost:8080/"
        },
        "id": "j182FlhtX8OH",
        "outputId": "7df11519-03f0-4705-e836-9b4580820cd6"
      },
      "source": [
        "from google.colab import drive\n",
        "drive.mount('/content/drive')"
      ],
      "id": "j182FlhtX8OH",
      "execution_count": null,
      "outputs": [
        {
          "output_type": "stream",
          "name": "stdout",
          "text": [
            "Mounted at /content/drive\n"
          ]
        }
      ]
    },
    {
      "cell_type": "code",
      "metadata": {
        "id": "d92c4e5b"
      },
      "source": [
        "import tensorflow\n",
        "from tensorflow.keras.preprocessing.sequence import pad_sequences\n",
        "from tensorflow.keras.models import Sequential\n",
        "from tensorflow.keras.layers import Dense, Embedding, LSTM, SpatialDropout1D\n",
        "from sklearn.model_selection import train_test_split\n",
        "from tensorflow.keras.utils import to_categorical"
      ],
      "id": "d92c4e5b",
      "execution_count": 1,
      "outputs": []
    },
    {
      "cell_type": "code",
      "metadata": {
        "id": "6f31696e",
        "colab": {
          "base_uri": "https://localhost:8080/",
          "height": 238
        },
        "outputId": "64e76196-cf5e-46b4-ec5c-3f1fdb146071"
      },
      "source": [
        "import pickle\n",
        "pickle_in = open(\"/content/drive/MyDrive/Etudes/IA/stackoverflow_/RNN_Model/top11_X_seq.pickle\",\"rb\")\n",
        "X = pickle.load(pickle_in)\n",
        "\n",
        "pickle_in = open(\"/content/drive/MyDrive/Etudes/IA/stackoverflow_/RNN_Model/top11_y_seq.pickle\",\"rb\")\n",
        "y = pickle.load(pickle_in)"
      ],
      "id": "6f31696e",
      "execution_count": 2,
      "outputs": [
        {
          "output_type": "error",
          "ename": "FileNotFoundError",
          "evalue": "ignored",
          "traceback": [
            "\u001b[0;31m---------------------------------------------------------------------------\u001b[0m",
            "\u001b[0;31mFileNotFoundError\u001b[0m                         Traceback (most recent call last)",
            "\u001b[0;32m<ipython-input-2-d321e0bffe89>\u001b[0m in \u001b[0;36m<module>\u001b[0;34m()\u001b[0m\n\u001b[1;32m      1\u001b[0m \u001b[0;32mimport\u001b[0m \u001b[0mpickle\u001b[0m\u001b[0;34m\u001b[0m\u001b[0;34m\u001b[0m\u001b[0m\n\u001b[0;32m----> 2\u001b[0;31m \u001b[0mpickle_in\u001b[0m \u001b[0;34m=\u001b[0m \u001b[0mopen\u001b[0m\u001b[0;34m(\u001b[0m\u001b[0;34m\"/content/drive/MyDrive/Etudes/IA/stackoverflow_/RNN_Model/top11_X_seq.pickle\"\u001b[0m\u001b[0;34m,\u001b[0m\u001b[0;34m\"rb\"\u001b[0m\u001b[0;34m)\u001b[0m\u001b[0;34m\u001b[0m\u001b[0;34m\u001b[0m\u001b[0m\n\u001b[0m\u001b[1;32m      3\u001b[0m \u001b[0mX\u001b[0m \u001b[0;34m=\u001b[0m \u001b[0mpickle\u001b[0m\u001b[0;34m.\u001b[0m\u001b[0mload\u001b[0m\u001b[0;34m(\u001b[0m\u001b[0mpickle_in\u001b[0m\u001b[0;34m)\u001b[0m\u001b[0;34m\u001b[0m\u001b[0;34m\u001b[0m\u001b[0m\n\u001b[1;32m      4\u001b[0m \u001b[0;34m\u001b[0m\u001b[0m\n\u001b[1;32m      5\u001b[0m \u001b[0mpickle_in\u001b[0m \u001b[0;34m=\u001b[0m \u001b[0mopen\u001b[0m\u001b[0;34m(\u001b[0m\u001b[0;34m\"/content/drive/MyDrive/Etudes/IA/stackoverflow_/RNN_Model/top11_y_seq.pickle\"\u001b[0m\u001b[0;34m,\u001b[0m\u001b[0;34m\"rb\"\u001b[0m\u001b[0;34m)\u001b[0m\u001b[0;34m\u001b[0m\u001b[0;34m\u001b[0m\u001b[0m\n",
            "\u001b[0;31mFileNotFoundError\u001b[0m: [Errno 2] No such file or directory: '/content/drive/MyDrive/Etudes/IA/stackoverflow_/RNN_Model/top11_X_seq.pickle'"
          ]
        }
      ]
    },
    {
      "cell_type": "code",
      "metadata": {
        "colab": {
          "base_uri": "https://localhost:8080/"
        },
        "id": "VIPOCmXxyJZM",
        "outputId": "71f31a6d-35ee-4c4a-8f87-45f117109a28"
      },
      "source": [
        "import pandas as pd\n",
        "\n",
        "type(X)\n",
        "Xf = pd.DataFrame(X)\n",
        "Xf.info()"
      ],
      "id": "VIPOCmXxyJZM",
      "execution_count": null,
      "outputs": [
        {
          "output_type": "stream",
          "name": "stdout",
          "text": [
            "<class 'pandas.core.frame.DataFrame'>\n",
            "RangeIndex: 54885 entries, 0 to 54884\n",
            "Columns: 3065 entries, 0 to 3064\n",
            "dtypes: int32(3065)\n",
            "memory usage: 641.7 MB\n"
          ]
        }
      ]
    },
    {
      "cell_type": "code",
      "metadata": {
        "id": "Q_Gm1_5_YFk4"
      },
      "source": [
        "from sklearn.model_selection import train_test_split\n",
        "X_train, X_test, y_train, y_test = train_test_split(X, y, test_size=0.20, random_state=42)"
      ],
      "id": "Q_Gm1_5_YFk4",
      "execution_count": null,
      "outputs": []
    },
    {
      "cell_type": "code",
      "metadata": {
        "colab": {
          "base_uri": "https://localhost:8080/"
        },
        "id": "w95aAvTLyvA3",
        "outputId": "7eb5be4f-09c1-48d6-e3f7-603c8b76f7f3"
      },
      "source": [
        "print(X_train.shape)\n",
        "print(y_train.shape)\n",
        "import pandas as pd \n",
        "\n",
        "type(X_train)\n",
        "X = pd.DataFrame(X_train)\n",
        "X.info()\n",
        "\n",
        "type(X_test)\n",
        "X = pd.DataFrame(X_test)\n",
        "X.info()\n",
        "type(y_train)\n",
        "X = pd.DataFrame(y_train)\n",
        "X.info()\n",
        "type(y_test)\n",
        "X = pd.DataFrame(y_test)\n",
        "X.info()"
      ],
      "id": "w95aAvTLyvA3",
      "execution_count": null,
      "outputs": [
        {
          "output_type": "stream",
          "name": "stdout",
          "text": [
            "(43908, 3065)\n",
            "(43908, 10)\n",
            "<class 'pandas.core.frame.DataFrame'>\n",
            "RangeIndex: 43908 entries, 0 to 43907\n",
            "Columns: 3065 entries, 0 to 3064\n",
            "dtypes: int32(3065)\n",
            "memory usage: 513.4 MB\n",
            "<class 'pandas.core.frame.DataFrame'>\n",
            "RangeIndex: 10977 entries, 0 to 10976\n",
            "Columns: 3065 entries, 0 to 3064\n",
            "dtypes: int32(3065)\n",
            "memory usage: 128.3 MB\n",
            "<class 'pandas.core.frame.DataFrame'>\n",
            "RangeIndex: 43908 entries, 0 to 43907\n",
            "Data columns (total 10 columns):\n",
            " #   Column  Non-Null Count  Dtype\n",
            "---  ------  --------------  -----\n",
            " 0   0       43908 non-null  int64\n",
            " 1   1       43908 non-null  int64\n",
            " 2   2       43908 non-null  int64\n",
            " 3   3       43908 non-null  int64\n",
            " 4   4       43908 non-null  int64\n",
            " 5   5       43908 non-null  int64\n",
            " 6   6       43908 non-null  int64\n",
            " 7   7       43908 non-null  int64\n",
            " 8   8       43908 non-null  int64\n",
            " 9   9       43908 non-null  int64\n",
            "dtypes: int64(10)\n",
            "memory usage: 3.4 MB\n",
            "<class 'pandas.core.frame.DataFrame'>\n",
            "RangeIndex: 10977 entries, 0 to 10976\n",
            "Data columns (total 10 columns):\n",
            " #   Column  Non-Null Count  Dtype\n",
            "---  ------  --------------  -----\n",
            " 0   0       10977 non-null  int64\n",
            " 1   1       10977 non-null  int64\n",
            " 2   2       10977 non-null  int64\n",
            " 3   3       10977 non-null  int64\n",
            " 4   4       10977 non-null  int64\n",
            " 5   5       10977 non-null  int64\n",
            " 6   6       10977 non-null  int64\n",
            " 7   7       10977 non-null  int64\n",
            " 8   8       10977 non-null  int64\n",
            " 9   9       10977 non-null  int64\n",
            "dtypes: int64(10)\n",
            "memory usage: 857.7 KB\n"
          ]
        }
      ]
    },
    {
      "cell_type": "code",
      "metadata": {
        "colab": {
          "base_uri": "https://localhost:8080/",
          "height": 35
        },
        "id": "QQ_q79Srap6X",
        "outputId": "bfd9677d-0a25-495c-b828-f1e373e83ef9"
      },
      "source": [
        "from tensorflow import keras\n",
        "METRICS = [\n",
        "      keras.metrics.TruePositives(name='TruePositives'),\n",
        "      keras.metrics.FalsePositives(name='FalsePositive'),\n",
        "      keras.metrics.TrueNegatives(name='TrueNegatives'),\n",
        "      keras.metrics.FalseNegatives(name='FalseNegatives'), \n",
        "      keras.metrics.BinaryAccuracy(name='accuracy'),\n",
        "      keras.metrics.Precision(name='precision'),\n",
        "      keras.metrics.Recall(name='recall'),\n",
        "      keras.metrics.AUC(name='auc'),\n",
        "]\n",
        "import time\n",
        "time.ctime(time.time())"
      ],
      "id": "QQ_q79Srap6X",
      "execution_count": null,
      "outputs": [
        {
          "output_type": "execute_result",
          "data": {
            "application/vnd.google.colaboratory.intrinsic+json": {
              "type": "string"
            },
            "text/plain": [
              "'Sun Oct 17 15:13:15 2021'"
            ]
          },
          "metadata": {},
          "execution_count": 19
        }
      ]
    },
    {
      "cell_type": "code",
      "metadata": {
        "colab": {
          "base_uri": "https://localhost:8080/"
        },
        "id": "WGRfoYUi03mw",
        "outputId": "9e6d8bc3-5434-48b5-de85-734da81cc020"
      },
      "source": [
        " X_train.shape"
      ],
      "id": "WGRfoYUi03mw",
      "execution_count": null,
      "outputs": [
        {
          "output_type": "execute_result",
          "data": {
            "text/plain": [
              "(43908, 3065)"
            ]
          },
          "metadata": {},
          "execution_count": 28
        }
      ]
    },
    {
      "cell_type": "code",
      "metadata": {
        "id": "BudDVAcrbGSn"
      },
      "source": [
        "from tensorflow.keras.callbacks import TensorBoard"
      ],
      "id": "BudDVAcrbGSn",
      "execution_count": null,
      "outputs": []
    },
    {
      "cell_type": "code",
      "metadata": {
        "colab": {
          "base_uri": "https://localhost:8080/"
        },
        "id": "df761b1f",
        "outputId": "d5725e17-d4c0-49f9-96f8-eb9f170ea48a"
      },
      "source": [
        "embed_dim = 128\n",
        "lstm_out = 128\n",
        "max_fatures = 500\n",
        "model = Sequential()\n",
        "model.add(Embedding(max_fatures, embed_dim,input_length = X_train.shape[1]))\n",
        "model.add(SpatialDropout1D(0.4))\n",
        "model.add(LSTM(lstm_out, dropout=0.2, recurrent_dropout=0.2))\n",
        "model.add(Dense(y_train.shape[1],activation='sigmoid'))\n",
        "model.compile(loss = 'binary_crossentropy', optimizer='adam',metrics = METRICS)\n",
        "\n",
        "print(model.summary())"
      ],
      "id": "df761b1f",
      "execution_count": null,
      "outputs": [
        {
          "output_type": "stream",
          "name": "stdout",
          "text": [
            "WARNING:tensorflow:Layer lstm_4 will not use cuDNN kernels since it doesn't meet the criteria. It will use a generic GPU kernel as fallback when running on GPU.\n",
            "Model: \"sequential_4\"\n",
            "_________________________________________________________________\n",
            "Layer (type)                 Output Shape              Param #   \n",
            "=================================================================\n",
            "embedding_3 (Embedding)      (None, 3065, 128)         64000     \n",
            "_________________________________________________________________\n",
            "spatial_dropout1d_3 (Spatial (None, 3065, 128)         0         \n",
            "_________________________________________________________________\n",
            "lstm_4 (LSTM)                (None, 128)               131584    \n",
            "_________________________________________________________________\n",
            "dense_3 (Dense)              (None, 10)                1290      \n",
            "=================================================================\n",
            "Total params: 196,874\n",
            "Trainable params: 196,874\n",
            "Non-trainable params: 0\n",
            "_________________________________________________________________\n",
            "None\n"
          ]
        }
      ]
    },
    {
      "cell_type": "code",
      "metadata": {
        "colab": {
          "base_uri": "https://localhost:8080/"
        },
        "id": "c2IhEgoGyFEc",
        "outputId": "900d7250-5d43-4dec-f14e-883ea94e0cf9"
      },
      "source": [
        "batch_size = 2\n",
        "model.fit(X_train, y_train[:,:], epochs = 7, batch_size=batch_size, verbose = 1)"
      ],
      "id": "c2IhEgoGyFEc",
      "execution_count": null,
      "outputs": [
        {
          "output_type": "stream",
          "name": "stdout",
          "text": [
            "Epoch 1/7\n",
            " 1649/21954 [=>............................] - ETA: 41:52:54 - loss: 0.3514 - TruePositives: 79.0000 - FalsePositive: 130.0000 - TrueNegatives: 29123.0000 - FalseNegatives: 3748.0000 - accuracy: 0.8828 - precision: 0.3780 - recall: 0.0206 - auc: 0.6017"
          ]
        }
      ]
    },
    {
      "cell_type": "code",
      "metadata": {
        "id": "dyhF8-9DbP5W"
      },
      "source": [
        "my_callbacks = [\n",
        "    tf.keras.callbacks.EarlyStopping(patience=5),\n",
        "    tf.keras.callbacks.ReduceLROnPlateau(monitor='val_loss', factor=0.1,\n",
        "                              patience=3, min_lr=0.00001,mode='min')\n",
        "]\n",
        "NAME = \"RNN_V2{}\".format(time.ctime(time.time()))\n",
        "tensorboard = TensorBoard(log_dir=\"/content/drive/MyDrive/Projet23/database/MultiFeatureBreathClass/Tensorboardlogs/logs{}\".format(NAME))\n",
        "\n",
        "history=net.fit(\n",
        "    X_train,\n",
        "    Ylabel_train,\n",
        "    validation_data=(X_test,Ylabel_val),\n",
        "    epochs=200,\n",
        "    batch_size=8,\n",
        "    callbacks=[tensorboard]\n",
        ")\n",
        "\n",
        "model.summary()\n",
        "model.save('/content/drive/MyDrive/Etudes/IA/stackoverflow_/RNN_Model/modelsaved/RNN_V2')"
      ],
      "id": "dyhF8-9DbP5W",
      "execution_count": null,
      "outputs": []
    },
    {
      "cell_type": "code",
      "metadata": {
        "id": "oN37PrG12KV0"
      },
      "source": [
        "o = X_train.iloc[:100,:]\n",
        "o.shape"
      ],
      "id": "oN37PrG12KV0",
      "execution_count": null,
      "outputs": []
    },
    {
      "cell_type": "code",
      "metadata": {
        "id": "datMYkyHx6HC"
      },
      "source": [
        "!nvidia-smi"
      ],
      "id": "datMYkyHx6HC",
      "execution_count": null,
      "outputs": []
    },
    {
      "cell_type": "code",
      "metadata": {
        "id": "3dfe674d"
      },
      "source": [
        ""
      ],
      "id": "3dfe674d",
      "execution_count": null,
      "outputs": []
    }
  ]
}