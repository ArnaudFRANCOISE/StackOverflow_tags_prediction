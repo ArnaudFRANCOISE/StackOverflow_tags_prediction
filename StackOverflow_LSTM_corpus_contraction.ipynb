{
  "nbformat": 4,
  "nbformat_minor": 0,
  "metadata": {
    "colab": {
      "name": "StackOverflow_LSTM_corpus contraction.ipynb",
      "provenance": [],
      "collapsed_sections": []
    },
    "kernelspec": {
      "name": "python3",
      "display_name": "Python 3"
    },
    "language_info": {
      "name": "python"
    }
  },
  "cells": [
    {
      "cell_type": "code",
      "metadata": {
        "colab": {
          "base_uri": "https://localhost:8080/"
        },
        "id": "fd5o1UhmSbzN",
        "outputId": "3d277d01-c325-490e-db66-92482a466beb"
      },
      "source": [
        "import pickle\n",
        "import numpy as np  \n",
        "import pandas as pd\n",
        "\n",
        "import drive.MyDrive.preprocess_tools as pts\n",
        "\n",
        "!git clone https://github.com/ArnaudFRANCOISE/StackOverflow_tags_prediction.git\n",
        "!ls"
      ],
      "execution_count": null,
      "outputs": [
        {
          "output_type": "stream",
          "name": "stdout",
          "text": [
            "[nltk_data] Downloading package stopwords to /root/nltk_data...\n",
            "[nltk_data]   Package stopwords is already up-to-date!\n",
            "[nltk_data] Downloading package wordnet to /root/nltk_data...\n",
            "[nltk_data]   Package wordnet is already up-to-date!\n",
            "[nltk_data] Downloading package punkt to /root/nltk_data...\n",
            "[nltk_data]   Package punkt is already up-to-date!\n",
            "fatal: destination path 'StackOverflow_tags_prediction' already exists and is not an empty directory.\n",
            "drive  sample_data  StackOverflow_tags_prediction\n"
          ]
        }
      ]
    },
    {
      "cell_type": "code",
      "metadata": {
        "colab": {
          "base_uri": "https://localhost:8080/",
          "height": 590
        },
        "id": "tRdlT2GBLeDG",
        "outputId": "da925f4f-7011-4742-e57e-c4700afb881d"
      },
      "source": [
        "import os\n",
        "import pandas as pd\n",
        "\n",
        "from os import listdir\n",
        "from os.path import isfile, join\n",
        "\n",
        "mypath = \"/content/StackOverflow_tags_prediction/QueryResults/QueryResults/\"\n",
        "\n",
        "filenames = [f for f in listdir(mypath) if isfile(join(mypath, f))]\n",
        "#gather all csv into one dataframe\n",
        "#print(len(filenames))\n",
        "data = pd.read_csv(mypath+filenames[0])\n",
        "data\n",
        "\n",
        "for filename in filenames[1:]:\n",
        "  d = pd.read_csv(mypath+filename)\n",
        "  data = pd.concat([data, d.iloc[:5000,:]], axis=0)\n",
        "  #print(data.shape)\n",
        "\n",
        "#eliminate duplicate\n",
        "data = data.drop_duplicates(subset=['Body'])\n",
        "data"
      ],
      "execution_count": null,
      "outputs": [
        {
          "output_type": "execute_result",
          "data": {
            "text/html": [
              "<div>\n",
              "<style scoped>\n",
              "    .dataframe tbody tr th:only-of-type {\n",
              "        vertical-align: middle;\n",
              "    }\n",
              "\n",
              "    .dataframe tbody tr th {\n",
              "        vertical-align: top;\n",
              "    }\n",
              "\n",
              "    .dataframe thead th {\n",
              "        text-align: right;\n",
              "    }\n",
              "</style>\n",
              "<table border=\"1\" class=\"dataframe\">\n",
              "  <thead>\n",
              "    <tr style=\"text-align: right;\">\n",
              "      <th></th>\n",
              "      <th>Id</th>\n",
              "      <th>Body</th>\n",
              "      <th>Title</th>\n",
              "      <th>Tags</th>\n",
              "      <th>CreationDate</th>\n",
              "    </tr>\n",
              "  </thead>\n",
              "  <tbody>\n",
              "    <tr>\n",
              "      <th>0</th>\n",
              "      <td>51964879</td>\n",
              "      <td>&lt;p&gt;I am learning to write the groovy script to...</td>\n",
              "      <td>Configure matrix authorization plugin using Gr...</td>\n",
              "      <td>&lt;jenkins&gt;&lt;groovy&gt;&lt;jenkins-plugins&gt;&lt;jenkins-gro...</td>\n",
              "      <td>2018-08-22 10:31:25</td>\n",
              "    </tr>\n",
              "    <tr>\n",
              "      <th>1</th>\n",
              "      <td>62701591</td>\n",
              "      <td>&lt;p&gt;New to spring magic, hoping spring magic ca...</td>\n",
              "      <td>Forcing Spring to call subclass for one method</td>\n",
              "      <td>&lt;spring&gt;&lt;spring-boot&gt;&lt;groovy&gt;&lt;annotations&gt;&lt;spr...</td>\n",
              "      <td>2020-07-02 17:07:15</td>\n",
              "    </tr>\n",
              "    <tr>\n",
              "      <th>2</th>\n",
              "      <td>45597662</td>\n",
              "      <td>&lt;p&gt;Trying to post jenkins log to rest end poin...</td>\n",
              "      <td>parse jenkins job to get last few lines and pa...</td>\n",
              "      <td>&lt;jenkins&gt;&lt;groovy&gt;</td>\n",
              "      <td>2017-08-09 17:59:54</td>\n",
              "    </tr>\n",
              "    <tr>\n",
              "      <th>3</th>\n",
              "      <td>19803888</td>\n",
              "      <td>&lt;p&gt;I want to get application path in my applic...</td>\n",
              "      <td>How to get app path in grails?</td>\n",
              "      <td>&lt;grails&gt;&lt;groovy&gt;&lt;grails-2.0&gt;</td>\n",
              "      <td>2013-11-06 04:03:26</td>\n",
              "    </tr>\n",
              "    <tr>\n",
              "      <th>4</th>\n",
              "      <td>3402152</td>\n",
              "      <td>&lt;p&gt;Coming from a J2EE dev background, I love t...</td>\n",
              "      <td>Is Grails a viable option for large scale ente...</td>\n",
              "      <td>&lt;java&gt;&lt;grails&gt;&lt;jakarta-ee&gt;&lt;groovy&gt;</td>\n",
              "      <td>2010-08-04 02:23:05</td>\n",
              "    </tr>\n",
              "    <tr>\n",
              "      <th>...</th>\n",
              "      <td>...</td>\n",
              "      <td>...</td>\n",
              "      <td>...</td>\n",
              "      <td>...</td>\n",
              "      <td>...</td>\n",
              "    </tr>\n",
              "    <tr>\n",
              "      <th>4995</th>\n",
              "      <td>11257201</td>\n",
              "      <td>&lt;p&gt;i want to display more than one images in a...</td>\n",
              "      <td>Display more than one images from drawable fol...</td>\n",
              "      <td>&lt;android&gt;</td>\n",
              "      <td>2012-06-29 06:41:58</td>\n",
              "    </tr>\n",
              "    <tr>\n",
              "      <th>4996</th>\n",
              "      <td>54072808</td>\n",
              "      <td>&lt;p&gt;I created a &lt;a href=\"https://developers.goo...</td>\n",
              "      <td>Using custom google action offline on a smartp...</td>\n",
              "      <td>&lt;android&gt;&lt;google-assistant-sdk&gt;</td>\n",
              "      <td>2019-01-07 10:44:26</td>\n",
              "    </tr>\n",
              "    <tr>\n",
              "      <th>4997</th>\n",
              "      <td>11257210</td>\n",
              "      <td>&lt;p&gt;I have two buttons in android. Btn1 and Btn...</td>\n",
              "      <td>Button click action in android?</td>\n",
              "      <td>&lt;android&gt;</td>\n",
              "      <td>2012-06-29 06:43:13</td>\n",
              "    </tr>\n",
              "    <tr>\n",
              "      <th>4998</th>\n",
              "      <td>3567420</td>\n",
              "      <td>&lt;p&gt;I am trying to write an application that wi...</td>\n",
              "      <td>How to catch that map panning and zoom are rea...</td>\n",
              "      <td>&lt;android&gt;&lt;google-maps&gt;&lt;drag&gt;&lt;dynamic-data&gt;</td>\n",
              "      <td>2010-08-25 15:15:30</td>\n",
              "    </tr>\n",
              "    <tr>\n",
              "      <th>4999</th>\n",
              "      <td>3567312</td>\n",
              "      <td>&lt;p&gt;I have done some extensive searching for co...</td>\n",
              "      <td>Android Drop Shadow on View</td>\n",
              "      <td>&lt;android&gt;&lt;xml&gt;&lt;imageview&gt;&lt;shadow&gt;&lt;dropshadow&gt;</td>\n",
              "      <td>2010-08-25 15:05:48</td>\n",
              "    </tr>\n",
              "  </tbody>\n",
              "</table>\n",
              "<p>133283 rows × 5 columns</p>\n",
              "</div>"
            ],
            "text/plain": [
              "            Id  ...         CreationDate\n",
              "0     51964879  ...  2018-08-22 10:31:25\n",
              "1     62701591  ...  2020-07-02 17:07:15\n",
              "2     45597662  ...  2017-08-09 17:59:54\n",
              "3     19803888  ...  2013-11-06 04:03:26\n",
              "4      3402152  ...  2010-08-04 02:23:05\n",
              "...        ...  ...                  ...\n",
              "4995  11257201  ...  2012-06-29 06:41:58\n",
              "4996  54072808  ...  2019-01-07 10:44:26\n",
              "4997  11257210  ...  2012-06-29 06:43:13\n",
              "4998   3567420  ...  2010-08-25 15:15:30\n",
              "4999   3567312  ...  2010-08-25 15:05:48\n",
              "\n",
              "[133283 rows x 5 columns]"
            ]
          },
          "metadata": {},
          "execution_count": 1
        }
      ]
    },
    {
      "cell_type": "code",
      "metadata": {
        "id": "16VL9otVEtKv"
      },
      "source": [
        "import numpy as np \n",
        "import pandas as pd \n",
        "from keras.preprocessing.sequence import pad_sequences\n",
        "from keras.models import Sequential\n",
        "from keras.layers import Dense, Embedding, LSTM, SpatialDropout1D\n",
        "from sklearn.model_selection import train_test_split\n",
        "from keras.utils.np_utils import to_categorical\n",
        "import re"
      ],
      "execution_count": null,
      "outputs": []
    },
    {
      "cell_type": "code",
      "metadata": {
        "id": "arseslbGFBCl"
      },
      "source": [
        "from keras.preprocessing.text import Tokenizer\n",
        "max_fatures = 2000\n",
        "tokenizer = Tokenizer(num_words=max_fatures, split=' ')\n",
        "tokenizer.fit_on_texts(data['Body'].values)\n",
        "X = tokenizer.texts_to_sequences(data['Body'].values)\n",
        "\n",
        "\n"
      ],
      "execution_count": null,
      "outputs": []
    },
    {
      "cell_type": "code",
      "metadata": {
        "id": "rV6ORyHKSCVk"
      },
      "source": [
        "X = pad_sequences(X)"
      ],
      "execution_count": null,
      "outputs": []
    },
    {
      "cell_type": "code",
      "metadata": {
        "colab": {
          "base_uri": "https://localhost:8080/"
        },
        "id": "RAGCyk1NNERI",
        "outputId": "701042f3-abb4-446d-b128-4e9e855cfb3f"
      },
      "source": [
        "X"
      ],
      "execution_count": null,
      "outputs": [
        {
          "output_type": "execute_result",
          "data": {
            "text/plain": [
              "array([[  0,   0,   0, ..., 555, 191,   1],\n",
              "       [  0,   0,   0, ..., 842, 571,   1],\n",
              "       [  0,   0,   0, ..., 860, 312,   1],\n",
              "       ...,\n",
              "       [  0,   0,   0, ...,  11, 559,   1],\n",
              "       [  0,   0,   0, ...,  17,  12,   1],\n",
              "       [  0,   0,   0, ...,  64, 305,   1]], dtype=int32)"
            ]
          },
          "metadata": {},
          "execution_count": 5
        }
      ]
    },
    {
      "cell_type": "code",
      "metadata": {
        "colab": {
          "base_uri": "https://localhost:8080/"
        },
        "id": "aqL3U-vXVwfs",
        "outputId": "e060d36c-17c9-41f1-c16e-a88ea776c04e"
      },
      "source": [
        "type(X)\n",
        "X = pd.DataFrame(X)\n",
        "X.info()"
      ],
      "execution_count": null,
      "outputs": [
        {
          "output_type": "stream",
          "name": "stdout",
          "text": [
            "<class 'pandas.core.frame.DataFrame'>\n",
            "RangeIndex: 133283 entries, 0 to 133282\n",
            "Columns: 6203 entries, 0 to 6202\n",
            "dtypes: int32(6203)\n",
            "memory usage: 3.1 GB\n"
          ]
        }
      ]
    },
    {
      "cell_type": "code",
      "metadata": {
        "id": "Tm8ZRa2ANzos"
      },
      "source": [
        "  \"\"\"pickle_out = open(\"/content/drive/MyDrive/Etudes/IA/stackoverflow_/y_lstmrawtags.pickle\",\"wb\")\n",
        "  pickle.dump(data[\"Tags\"], pickle_out)\n",
        "  pickle_out.close() \"\"\""
      ],
      "execution_count": null,
      "outputs": []
    },
    {
      "cell_type": "code",
      "metadata": {
        "id": "a2KrLWEJxdUt"
      },
      "source": [
        "from sklearn.model_selection import train_test_split\n",
        "X_train, X_test, y_train, y_test = train_test_split(X, data['Tags'], test_size=0.20, random_state=42)"
      ],
      "execution_count": null,
      "outputs": []
    },
    {
      "cell_type": "code",
      "metadata": {
        "id": "TDCtsCeXT7aT"
      },
      "source": [
        "\n",
        "import pickle\n",
        "def save():\n",
        "  pickle_out = open(\"/content/drive/MyDrive/Etudes/IA/stackoverflow_/X_train_seq.pickle\",\"wb\")\n",
        "  pickle.dump(X_train, pickle_out)\n",
        "  pickle_out.close()\n",
        "\n",
        "  pickle_out = open(\"/content/drive/MyDrive/Etudes/IA/stackoverflow_/X_test_seq.pickle\",\"wb\")\n",
        "  pickle.dump(X_test, pickle_out)\n",
        "  pickle_out.close()\n",
        "\n",
        "\n",
        "save()"
      ],
      "execution_count": null,
      "outputs": []
    },
    {
      "cell_type": "code",
      "metadata": {
        "colab": {
          "base_uri": "https://localhost:8080/"
        },
        "id": "sHpxiMgpVOco",
        "outputId": "f2a5f800-e50e-4525-d7d7-9b2c1284302c"
      },
      "source": [
        "\n",
        "target_interest  = [\"Assembly\", \"C\", \"C++\", \"CoffeeScript\", \"Go\", \"Groovy\", \"Haskell\", \"Java\", \n",
        "                    \"JavaScript\", \"Lua\", \"Matlab\", \"Objective-c\",\"html\",\"css\",\"android\",\"Perl\", \"PHP\",\n",
        "                    \"Python\", \"R\", \"Ruby\", \"Scala\", \"SQL\", \"Swift\", \"TypeScript\",\"Vb.Net\", \"Vba\"]\n",
        "target_interest = list(str_.lower() for str_ in target_interest)\n",
        "print(len(target_interest))\n",
        "print(target_interest)"
      ],
      "execution_count": null,
      "outputs": [
        {
          "output_type": "stream",
          "name": "stdout",
          "text": [
            "26\n",
            "['assembly', 'c', 'c++', 'coffeescript', 'go', 'groovy', 'haskell', 'java', 'javascript', 'lua', 'matlab', 'objective-c', 'html', 'css', 'android', 'perl', 'php', 'python', 'r', 'ruby', 'scala', 'sql', 'swift', 'typescript', 'vb.net', 'vba']\n"
          ]
        }
      ]
    },
    {
      "cell_type": "code",
      "metadata": {
        "colab": {
          "base_uri": "https://localhost:8080/"
        },
        "id": "2YNfNa59VSNI",
        "outputId": "85484398-07fd-4c6b-a1c7-bf535d6af46f"
      },
      "source": [
        "def clean_tags(tags_content):\n",
        "  cleaned = []\n",
        "  \n",
        "  \n",
        "  token_vec = pts.tokenizer(tags_content)\n",
        "  wrong = ['>','<']\n",
        "  for tag in token_vec:\n",
        "    if tag not in wrong:\n",
        "      cleaned.append(tag)\n",
        "  return cleaned\n",
        "\n",
        "print(clean_tags(y_train.iloc[0]))"
      ],
      "execution_count": null,
      "outputs": [
        {
          "output_type": "stream",
          "name": "stdout",
          "text": [
            "['php', 'mysql']\n"
          ]
        }
      ]
    },
    {
      "cell_type": "code",
      "metadata": {
        "colab": {
          "base_uri": "https://localhost:8080/"
        },
        "id": "DPvUyzyMVWbW",
        "outputId": "5b57f994-3190-43fc-e68d-60393ec4ac23"
      },
      "source": [
        "#10min\n",
        "def target_selection_to_bin(y_train, y_test):\n",
        "  y_train, y_test\n",
        "  target_train = np.zeros((y_train.shape[0], 26))\n",
        "\n",
        "  target_test = np.zeros((y_test.shape[0], 26))\n",
        "  len1, len2 = y_train.shape[0], y_test.shape[0]\n",
        "\n",
        "  for i in range(y_train.shape[0]):\n",
        "    #print(data[\"Tags\"].iloc[i])\n",
        "    tag_list  = clean_tags(y_train.iloc[i])\n",
        "    #print(tag_list)\n",
        "    for tag_ in tag_list:\n",
        "      tag = str(tag_)\n",
        "\n",
        "      if (tag in target_interest):\n",
        "        print(\"Present tag: \",tag,\"progress: \", np.floor(i/len1*100),'% ',end=\"\\r\")\n",
        "\n",
        "        target_train[i,target_interest.index(tag)] = 1\n",
        "        #print(data[\"Tags\"].iloc[i])\n",
        "\n",
        "  for i in range(y_test.shape[0]):\n",
        "    #print(data[\"Tags\"].iloc[i])\n",
        "    tag_list  = clean_tags(y_test.iloc[i])\n",
        "    #print(tag_list)\n",
        "    for tag_ in tag_list:\n",
        "      tag = str(tag_)\n",
        "\n",
        "      if (tag in target_interest):\n",
        "        print(\"Present tag: \",tag,\"progress: \", np.floor(i/len2*100),'% ',end=\"\\r\")\n",
        "\n",
        "        target_test[i,target_interest.index(tag)] = 1\n",
        "        #print(data[\"Tags\"].iloc[i])\n",
        "  return target_train, target_test\n",
        "\n",
        "y_train_bin, y_test_bin = target_selection_to_bin(y_train, y_test)"
      ],
      "execution_count": null,
      "outputs": [
        {
          "output_type": "stream",
          "name": "stdout",
          "text": [
            ""
          ]
        }
      ]
    },
    {
      "cell_type": "code",
      "metadata": {
        "id": "63EQFsh1VqZD"
      },
      "source": [
        "pickle_out = open(\"/content/drive/MyDrive/Etudes/IA/stackoverflow_/target_test_lstm.pickle\",\"wb\")\n",
        "pickle.dump(y_train_bin, pickle_out)\n",
        "pickle_out.close()\n",
        "pickle_out = open(\"/content/drive/MyDrive/Etudes/IA/stackoverflow_/target_ltsm.pickle\",\"wb\")\n",
        "pickle.dump(y_test_bin , pickle_out)\n",
        "pickle_out.close()"
      ],
      "execution_count": null,
      "outputs": []
    },
    {
      "cell_type": "code",
      "metadata": {
        "colab": {
          "base_uri": "https://localhost:8080/"
        },
        "id": "5R2_iHvayq2D",
        "outputId": "4031ae64-4c05-47f7-bf53-bffcb3603b4d"
      },
      "source": [
        "print(X_train.shape)\n",
        "print(X_test.shape)\n",
        "print(y_train.shape)\n",
        "print(y_test.shape)\n"
      ],
      "execution_count": null,
      "outputs": [
        {
          "output_type": "stream",
          "name": "stdout",
          "text": [
            "(106626, 6203)\n",
            "(26657, 6203)\n",
            "(106626,)\n",
            "(26657,)\n"
          ]
        }
      ]
    },
    {
      "cell_type": "code",
      "metadata": {
        "colab": {
          "base_uri": "https://localhost:8080/"
        },
        "id": "WeGSAWyyXvXq",
        "outputId": "48f19591-05b1-4804-a483-e879cc3c2bc3"
      },
      "source": [
        "#label distribution\n",
        "print(\"data distribution test set  \\t train set\")\n",
        "for i in range(len(target_interest)):\n",
        "  print(target_interest[i])\n",
        "  print(\"\\t\\t\",np.count_nonzero(y_test_bin[:,i] == 1, axis=0),'\\t\\t', np.count_nonzero(y_train_bin[:,i] == 1,axis=0))"
      ],
      "execution_count": null,
      "outputs": [
        {
          "output_type": "stream",
          "name": "stdout",
          "text": [
            "data distribution test set  \t train set\n",
            "assembly\n",
            "\t\t 970 \t\t 4033\n",
            "c\n",
            "\t\t 2427 \t\t 9610\n",
            "c++\n",
            "\t\t 1258 \t\t 4958\n",
            "coffeescript\n",
            "\t\t 998 \t\t 4002\n",
            "go\n",
            "\t\t 997 \t\t 4009\n",
            "groovy\n",
            "\t\t 1997 \t\t 8003\n",
            "haskell\n",
            "\t\t 969 \t\t 4037\n",
            "java\n",
            "\t\t 1578 \t\t 6355\n",
            "javascript\n",
            "\t\t 2119 \t\t 8483\n",
            "lua\n",
            "\t\t 972 \t\t 4028\n",
            "matlab\n",
            "\t\t 1014 \t\t 3990\n",
            "objective-c\n",
            "\t\t 1000 \t\t 4093\n",
            "html\n",
            "\t\t 1290 \t\t 5329\n",
            "css\n",
            "\t\t 994 \t\t 4172\n",
            "android\n",
            "\t\t 1106 \t\t 4235\n",
            "perl\n",
            "\t\t 1038 \t\t 3968\n",
            "php\n",
            "\t\t 1161 \t\t 4539\n",
            "python\n",
            "\t\t 1188 \t\t 4640\n",
            "r\n",
            "\t\t 1015 \t\t 4029\n",
            "ruby\n",
            "\t\t 1050 \t\t 4145\n",
            "scala\n",
            "\t\t 1020 \t\t 4037\n",
            "sql\n",
            "\t\t 1056 \t\t 4395\n",
            "swift\n",
            "\t\t 1029 \t\t 3981\n",
            "typescript\n",
            "\t\t 995 \t\t 4023\n",
            "vb.net\n",
            "\t\t 965 \t\t 4042\n",
            "vba\n",
            "\t\t 1030 \t\t 3990\n"
          ]
        }
      ]
    },
    {
      "cell_type": "code",
      "metadata": {
        "colab": {
          "base_uri": "https://localhost:8080/"
        },
        "id": "GhK-nJn9V44z",
        "outputId": "34bf7d4b-1216-4423-c904-bcbb684e1ab7"
      },
      "source": [
        "print(target.shape)\n",
        "print(x_train.shape)"
      ],
      "execution_count": null,
      "outputs": [
        {
          "output_type": "stream",
          "name": "stdout",
          "text": [
            "(256352, 26)\n",
            "(256352, 40000)\n"
          ]
        }
      ]
    },
    {
      "cell_type": "code",
      "metadata": {
        "id": "UWByghQnfZKL"
      },
      "source": [
        ""
      ],
      "execution_count": null,
      "outputs": []
    }
  ]
}